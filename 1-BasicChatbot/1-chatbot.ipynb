{
 "cells": [
  {
   "cell_type": "markdown",
   "id": "d934c12f",
   "metadata": {},
   "source": [
    "### Build A Basic Chatbot With Langgraph(GRAPH API)"
   ]
  },
  {
   "cell_type": "code",
   "execution_count": 2,
   "id": "5209e1da",
   "metadata": {},
   "outputs": [],
   "source": [
    "from langchain_groq import ChatGroq\n",
    "from langchain.chat_models import init_chat_model \n",
    "from typing import Annotated\n",
    "from typing_extensions import TypedDict \n",
    "from langgraph.graph import StateGraph, START, END\n",
    "from langgraph.graph.message import add_messages"
   ]
  },
  {
   "cell_type": "code",
   "execution_count": 3,
   "id": "b249690f",
   "metadata": {},
   "outputs": [
    {
     "data": {
      "text/plain": [
       "True"
      ]
     },
     "execution_count": 3,
     "metadata": {},
     "output_type": "execute_result"
    }
   ],
   "source": [
    "import os \n",
    "from dotenv import load_dotenv \n",
    "load_dotenv()"
   ]
  },
  {
   "cell_type": "code",
   "execution_count": 4,
   "id": "f00088d0",
   "metadata": {},
   "outputs": [],
   "source": [
    "llm= ChatGroq(model=\"llama3-8b-8192\")"
   ]
  },
  {
   "cell_type": "code",
   "execution_count": 5,
   "id": "bf007ef0",
   "metadata": {},
   "outputs": [
    {
     "data": {
      "text/plain": [
       "ChatGroq(client=<groq.resources.chat.completions.Completions object at 0x0000027DE1B59D30>, async_client=<groq.resources.chat.completions.AsyncCompletions object at 0x0000027DE1B5A900>, model_name='llama3-8b-8192', model_kwargs={}, groq_api_key=SecretStr('**********'))"
      ]
     },
     "execution_count": 5,
     "metadata": {},
     "output_type": "execute_result"
    }
   ],
   "source": [
    "llm"
   ]
  },
  {
   "cell_type": "code",
   "execution_count": 6,
   "id": "39de186a",
   "metadata": {},
   "outputs": [],
   "source": [
    "llm= init_chat_model(\"groq:llama3-8b-8192\")"
   ]
  },
  {
   "cell_type": "code",
   "execution_count": 7,
   "id": "47c9619d",
   "metadata": {},
   "outputs": [
    {
     "data": {
      "text/plain": [
       "ChatGroq(client=<groq.resources.chat.completions.Completions object at 0x0000027DE2C35950>, async_client=<groq.resources.chat.completions.AsyncCompletions object at 0x0000027DE2C36350>, model_name='llama3-8b-8192', model_kwargs={}, groq_api_key=SecretStr('**********'))"
      ]
     },
     "execution_count": 7,
     "metadata": {},
     "output_type": "execute_result"
    }
   ],
   "source": [
    "llm"
   ]
  },
  {
   "cell_type": "code",
   "execution_count": 8,
   "id": "af5df04b",
   "metadata": {},
   "outputs": [],
   "source": [
    "# Define State\n",
    "\n",
    "class State(TypedDict):\n",
    "    \"\"\" \n",
    "    # Messages have the type \"list\". The `add_messages` function\n",
    "    # in the annotation defines how this state key should be updated\n",
    "    # (in this case, it appends messages to the list, rather than overwriting them)\n",
    "    \"\"\"\n",
    "    messages: Annotated[list, add_messages]"
   ]
  },
  {
   "cell_type": "code",
   "execution_count": 9,
   "id": "c310d29f",
   "metadata": {},
   "outputs": [],
   "source": [
    "# Node Functionality\n",
    "def chatbot(state: State):\n",
    "    # messages= state[\"messages\"]\n",
    "    # response= llm.invoke(messages)\n",
    "    # return {\"messages\": [response]}\n",
    "\n",
    "    return {\"messages\": [llm.invoke(state[\"messages\"])]}"
   ]
  },
  {
   "cell_type": "code",
   "execution_count": 10,
   "id": "b46042c6",
   "metadata": {},
   "outputs": [],
   "source": [
    "# Initialize the State Graph\n",
    "graph_builder= StateGraph(State)\n",
    "\n",
    "# Adding node\n",
    "graph_builder.add_node(\"llmchatbot\", chatbot)\n",
    "graph_builder.add_edge(START, \"llmchatbot\")\n",
    "graph_builder.add_edge(\"llmchatbot\", END)\n",
    "\n",
    "# compile the graph\n",
    "graph= graph_builder.compile()"
   ]
  },
  {
   "cell_type": "code",
   "execution_count": 11,
   "id": "110d03e8",
   "metadata": {},
   "outputs": [
    {
     "data": {
      "image/png": "[encoded data removed]",
      "text/plain": [
       "<IPython.core.display.Image object>"
      ]
     },
     "metadata": {},
     "output_type": "display_data"
    }
   ],
   "source": [
    "# Visualize the graph\n",
    "from IPython.display import Image, display\n",
    "\n",
    "try:\n",
    "    display(Image(graph.get_graph(xray=True).draw_mermaid_png()))\n",
    "except Exception as ex:\n",
    "    pass "
   ]
  },
  {
   "cell_type": "code",
   "execution_count": 12,
   "id": "6db7ee1f",
   "metadata": {},
   "outputs": [
    {
     "data": {
      "text/plain": [
       "{'messages': [HumanMessage(content='Hi', additional_kwargs={}, response_metadata={}, id='d205b030-f4a1-436b-93d2-c71ef424fcfa'),\n",
       "  AIMessage(content=\"Hi! It's nice to meet you. Is there something I can help you with, or would you like to chat?\", additional_kwargs={}, response_metadata={'token_usage': {'completion_tokens': 26, 'prompt_tokens': 11, 'total_tokens': 37, 'completion_time': 0.01819455, 'prompt_time': 0.001702571, 'queue_time': 0.264662789, 'total_time': 0.019897121}, 'model_name': 'llama3-8b-8192', 'system_fingerprint': 'fp_8af39bf2ae', 'finish_reason': 'stop', 'logprobs': None}, id='run--4e2e59bb-134d-4bee-b9be-625d805ddab2-0', usage_metadata={'input_tokens': 11, 'output_tokens': 26, 'total_tokens': 37})]}"
      ]
     },
     "execution_count": 12,
     "metadata": {},
     "output_type": "execute_result"
    }
   ],
   "source": [
    "graph.invoke({\"messages\": [\"Hi\"]})"
   ]
  },
  {
   "cell_type": "code",
   "execution_count": 13,
   "id": "2d4605fc",
   "metadata": {},
   "outputs": [
    {
     "data": {
      "text/plain": [
       "AIMessage(content='Agentic AI, also known as Agent-based AI, refers to a type of artificial intelligence (AI) that is designed to exhibit intelligent behavior similar to that of a human agent. In other words, Agentic AI systems are capable of autonomous decision-making, planning, and execution, similar to how humans make decisions and take actions in the world.\\n\\nIn Agentic AI, the AI system is designed to have agency, or the ability to make decisions and take actions based on its own goals, beliefs, and desires. This is in contrast to more traditional AI systems, which are often designed to simply perform a specific task or function, without having the ability to make decisions or take actions on their own.\\n\\nAgentic AI systems are typically designed to be more flexible and adaptable than traditional AI systems, as they are able to learn from experience and adjust their behavior in response to changing circumstances. They may also be able to communicate with humans and other agents in a more natural and intuitive way, using language and other forms of expression.\\n\\nSome examples of Agentic AI systems include:\\n\\n1. Autonomous vehicles: These vehicles are designed to make decisions about navigation and control in real-time, without human intervention.\\n2. Personal assistants: Virtual assistants like Siri, Alexa, and Google Assistant are designed to understand and respond to voice commands, and to make decisions about what actions to take.\\n3. Robotics: Robots like robotic arms and autonomous drones are designed to perform tasks that require autonomy and decision-making.\\n4. Chatbots: Chatbots are designed to engage in conversations with humans, and to make decisions about what responses to give based on the conversation.\\n\\nThe key characteristics of Agentic AI systems include:\\n\\n1. Autonomy: The ability to make decisions and take actions without human intervention.\\n2. Goal-directed behavior: The ability to pursue goals and objectives.\\n3. Perception and action: The ability to perceive the environment and take actions in response.\\n4. Planning and decision-making: The ability to plan and make decisions about what actions to take.\\n5. Learning and adaptation: The ability to learn from experience and adapt to changing circumstances.\\n\\nOverall, Agentic AI systems have the potential to revolutionize many areas of life, from transportation and healthcare to education and entertainment. However, they also raise important ethical and social questions, such as how to ensure that these systems are designed and used in a way that benefits all people, rather than just a few.', additional_kwargs={}, response_metadata={'token_usage': {'completion_tokens': 486, 'prompt_tokens': 16, 'total_tokens': 502, 'completion_time': 1.149286811, 'prompt_time': 0.008495485, 'queue_time': 0.26705951499999997, 'total_time': 1.157782296}, 'model_name': 'llama3-8b-8192', 'system_fingerprint': 'fp_8dc6ecaf8e', 'finish_reason': 'stop', 'logprobs': None}, id='run--f82cfdba-f666-499c-a7ac-ccf51903757c-0', usage_metadata={'input_tokens': 16, 'output_tokens': 486, 'total_tokens': 502})"
      ]
     },
     "execution_count": 13,
     "metadata": {},
     "output_type": "execute_result"
    }
   ],
   "source": [
    "response= graph.invoke({\"messages\": [\"What is Agentic AI?\"]})\n",
    "# Print Last Messages\n",
    "response[\"messages\"][-1]"
   ]
  },
  {
   "cell_type": "code",
   "execution_count": 14,
   "id": "a5951738",
   "metadata": {},
   "outputs": [
    {
     "data": {
      "text/plain": [
       "HumanMessage(content='What is Agentic AI?', additional_kwargs={}, response_metadata={}, id='36bbfa7d-ad06-4e85-a221-10d2180e73fc')"
      ]
     },
     "execution_count": 14,
     "metadata": {},
     "output_type": "execute_result"
    }
   ],
   "source": [
    "# Print First Messages\n",
    "response[\"messages\"][0]"
   ]
  },
  {
   "cell_type": "code",
   "execution_count": 15,
   "id": "df41a2e7",
   "metadata": {},
   "outputs": [
    {
     "name": "stdout",
     "output_type": "stream",
     "text": [
      "What is Agentic AI?\n"
     ]
    }
   ],
   "source": [
    "# User's Question\n",
    "print(response[\"messages\"][0].content)"
   ]
  },
  {
   "cell_type": "code",
   "execution_count": 16,
   "id": "d4dc55e9",
   "metadata": {},
   "outputs": [
    {
     "name": "stdout",
     "output_type": "stream",
     "text": [
      "Agentic AI, also known as Agent-based AI, refers to a type of artificial intelligence (AI) that is designed to exhibit intelligent behavior similar to that of a human agent. In other words, Agentic AI systems are capable of autonomous decision-making, planning, and execution, similar to how humans make decisions and take actions in the world.\n",
      "\n",
      "In Agentic AI, the AI system is designed to have agency, or the ability to make decisions and take actions based on its own goals, beliefs, and desires. This is in contrast to more traditional AI systems, which are often designed to simply perform a specific task or function, without having the ability to make decisions or take actions on their own.\n",
      "\n",
      "Agentic AI systems are typically designed to be more flexible and adaptable than traditional AI systems, as they are able to learn from experience and adjust their behavior in response to changing circumstances. They may also be able to communicate with humans and other agents in a more natural and intuitive way, using language and other forms of expression.\n",
      "\n",
      "Some examples of Agentic AI systems include:\n",
      "\n",
      "1. Autonomous vehicles: These vehicles are designed to make decisions about navigation and control in real-time, without human intervention.\n",
      "2. Personal assistants: Virtual assistants like Siri, Alexa, and Google Assistant are designed to understand and respond to voice commands, and to make decisions about what actions to take.\n",
      "3. Robotics: Robots like robotic arms and autonomous drones are designed to perform tasks that require autonomy and decision-making.\n",
      "4. Chatbots: Chatbots are designed to engage in conversations with humans, and to make decisions about what responses to give based on the conversation.\n",
      "\n",
      "The key characteristics of Agentic AI systems include:\n",
      "\n",
      "1. Autonomy: The ability to make decisions and take actions without human intervention.\n",
      "2. Goal-directed behavior: The ability to pursue goals and objectives.\n",
      "3. Perception and action: The ability to perceive the environment and take actions in response.\n",
      "4. Planning and decision-making: The ability to plan and make decisions about what actions to take.\n",
      "5. Learning and adaptation: The ability to learn from experience and adapt to changing circumstances.\n",
      "\n",
      "Overall, Agentic AI systems have the potential to revolutionize many areas of life, from transportation and healthcare to education and entertainment. However, they also raise important ethical and social questions, such as how to ensure that these systems are designed and used in a way that benefits all people, rather than just a few.\n"
     ]
    }
   ],
   "source": [
    "# LLM's response\n",
    "print(response[\"messages\"][-1].content)"
   ]
  },
  {
   "cell_type": "code",
   "execution_count": 17,
   "id": "2ddd7c1a",
   "metadata": {},
   "outputs": [
    {
     "name": "stdout",
     "output_type": "stream",
     "text": [
      "I'm just a language model, I don't have emotions or feelings like humans do, but I'm functioning properly and ready to assist you with any questions or tasks you may have! How can I help you today?\n"
     ]
    }
   ],
   "source": [
    "for event in graph.stream({\"messages\": \"Hi How are you?\"}):\n",
    "    for value in event.values():\n",
    "        print(value[\"messages\"][-1].content)"
   ]
  },
  {
   "cell_type": "markdown",
   "id": "58bdf3dc",
   "metadata": {},
   "source": [
    "### Chatbot With Tool"
   ]
  },
  {
   "cell_type": "code",
   "execution_count": 18,
   "id": "030b011b",
   "metadata": {},
   "outputs": [
    {
     "data": {
      "text/plain": [
       "{'query': 'What is Agentic AI?',\n",
       " 'follow_up_questions': None,\n",
       " 'answer': None,\n",
       " 'images': [],\n",
       " 'results': [{'title': 'What Is Agentic AI? - IBM',\n",
       "   'url': 'https://www.ibm.com/think/topics/agentic-ai',\n",
       "   'content': 'What Is Agentic AI? What is agentic AI? What is agentic AI? While generative models focus on creating content based on learned patterns, agentic AI extends this capability by applying generative outputs toward specific goals. A generative AI model like OpenAI’s ChatGPT might produce text, images or code, but an agentic AI system can use that generated content to complete complex tasks autonomously by calling external tools. What are the advantages of agentic AI? How agentic AI works AI orchestration is the coordination and management of systems and agents. Examples of agentic AI Challenges for agentic AI systems Agentic AI systems have massive potential for the enterprise. Many agentic AI systems use reinforcement learning, which involves maximizing a reward function.',\n",
       "   'score': 0.90018827,\n",
       "   'raw_content': None},\n",
       "  {'title': 'What Is Agentic AI? - NVIDIA Blog',\n",
       "   'url': 'https://blogs.nvidia.com/blog/what-is-agentic-ai/',\n",
       "   'content': 'The end-to-end NVIDIA AI platform, including NVIDIA NeMo microservices for developing custom generative AI applications, provides the ability to manage and access data efficiently, which is crucial for building responsive agentic AI applications. To accelerate the adoption of generative AI-powered applications and agents, NVIDIA Blueprints provide sample applications, reference code, sample data, tools and comprehensive documentation. NVIDIA and our third-party partners use cookies and other tools to collect and record information you provide as well as information about your interactions with our websites for performance improvement, analytics, and to assist in our marketing efforts. To opt out of non-cookie personal information \"sales\" / \"sharing\" for targeted advertising purposes, please visit the NVIDIA Preference Center.',\n",
       "   'score': 0.7845341,\n",
       "   'raw_content': None}],\n",
       " 'response_time': 2.06}"
      ]
     },
     "execution_count": 18,
     "metadata": {},
     "output_type": "execute_result"
    }
   ],
   "source": [
    "from langchain_tavily import TavilySearch\n",
    "\n",
    "tool= TavilySearch(max_results=2)\n",
    "tool.invoke(\"What is Agentic AI?\")"
   ]
  },
  {
   "cell_type": "code",
   "execution_count": 19,
   "id": "31a1790b",
   "metadata": {},
   "outputs": [
    {
     "data": {
      "text/plain": [
       "'tavily_search'"
      ]
     },
     "execution_count": 19,
     "metadata": {},
     "output_type": "execute_result"
    }
   ],
   "source": [
    "tool.name"
   ]
  },
  {
   "cell_type": "code",
   "execution_count": 20,
   "id": "b2a09c82",
   "metadata": {},
   "outputs": [
    {
     "data": {
      "text/plain": [
       "{'query': {'description': 'Search query to look up',\n",
       "  'title': 'Query',\n",
       "  'type': 'string'},\n",
       " 'include_domains': {'anyOf': [{'items': {'type': 'string'}, 'type': 'array'},\n",
       "   {'type': 'null'}],\n",
       "  'default': [],\n",
       "  'description': 'A list of domains to restrict search results to.\\n\\n        Use this parameter when:\\n        1. The user explicitly requests information from specific websites (e.g., \"Find climate data from nasa.gov\")\\n        2. The user mentions an organization or company without specifying the domain (e.g., \"Find information about iPhones from Apple\")\\n\\n        In both cases, you should determine the appropriate domains (e.g., [\"nasa.gov\"] or [\"apple.com\"]) and set this parameter.\\n\\n        Results will ONLY come from the specified domains - no other sources will be included.\\n        Default is None (no domain restriction).\\n        ',\n",
       "  'title': 'Include Domains'},\n",
       " 'exclude_domains': {'anyOf': [{'items': {'type': 'string'}, 'type': 'array'},\n",
       "   {'type': 'null'}],\n",
       "  'default': [],\n",
       "  'description': 'A list of domains to exclude from search results.\\n\\n        Use this parameter when:\\n        1. The user explicitly requests to avoid certain websites (e.g., \"Find information about climate change but not from twitter.com\")\\n        2. The user mentions not wanting results from specific organizations without naming the domain (e.g., \"Find phone reviews but nothing from Apple\")\\n\\n        In both cases, you should determine the appropriate domains to exclude (e.g., [\"twitter.com\"] or [\"apple.com\"]) and set this parameter.\\n\\n        Results will filter out all content from the specified domains.\\n        Default is None (no domain exclusion).\\n        ',\n",
       "  'title': 'Exclude Domains'},\n",
       " 'search_depth': {'anyOf': [{'enum': ['basic', 'advanced'], 'type': 'string'},\n",
       "   {'type': 'null'}],\n",
       "  'default': 'basic',\n",
       "  'description': 'Controls search thoroughness and result comprehensiveness.\\n    \\n        Use \"basic\" for simple queries requiring quick, straightforward answers.\\n        \\n        Use \"advanced\" (default) for complex queries, specialized topics, \\n        rare information, or when in-depth analysis is needed.\\n        ',\n",
       "  'title': 'Search Depth'},\n",
       " 'include_images': {'anyOf': [{'type': 'boolean'}, {'type': 'null'}],\n",
       "  'default': False,\n",
       "  'description': 'Determines if the search returns relevant images along with text results.\\n   \\n        Set to True when the user explicitly requests visuals or when images would \\n        significantly enhance understanding (e.g., \"Show me what black holes look like,\" \\n        \"Find pictures of Renaissance art\").\\n        \\n        Leave as False (default) for most informational queries where text is sufficient.\\n        ',\n",
       "  'title': 'Include Images'},\n",
       " 'time_range': {'anyOf': [{'enum': ['day', 'week', 'month', 'year'],\n",
       "    'type': 'string'},\n",
       "   {'type': 'null'}],\n",
       "  'default': None,\n",
       "  'description': 'Limits results to content published within a specific timeframe.\\n        \\n        ONLY set this when the user explicitly mentions a time period \\n        (e.g., \"latest AI news,\" \"articles from last week\").\\n        \\n        For less popular or niche topics, use broader time ranges \\n        (\"month\" or \"year\") to ensure sufficient relevant results.\\n   \\n        Options: \"day\" (24h), \"week\" (7d), \"month\" (30d), \"year\" (365d).\\n        \\n        Default is None.\\n        ',\n",
       "  'title': 'Time Range'},\n",
       " 'topic': {'anyOf': [{'enum': ['general', 'news', 'finance'],\n",
       "    'type': 'string'},\n",
       "   {'type': 'null'}],\n",
       "  'default': 'general',\n",
       "  'description': 'Specifies search category for optimized results.\\n   \\n        Use \"general\" (default) for most queries, INCLUDING those with terms like \\n        \"latest,\" \"newest,\" or \"recent\" when referring to general information.\\n\\n        Use \"finance\" for markets, investments, economic data, or financial news.\\n\\n        Use \"news\" ONLY for politics, sports, or major current events covered by \\n        mainstream media - NOT simply because a query asks for \"new\" information.\\n        ',\n",
       "  'title': 'Topic'}}"
      ]
     },
     "execution_count": 20,
     "metadata": {},
     "output_type": "execute_result"
    }
   ],
   "source": [
    "tool.args"
   ]
  },
  {
   "cell_type": "code",
   "execution_count": 21,
   "id": "67ecac1f",
   "metadata": {},
   "outputs": [
    {
     "data": {
      "text/plain": [
       "'A search engine optimized for comprehensive, accurate, and trusted results. Useful for when you need to answer questions about current events. It not only retrieves URLs and snippets, but offers advanced search depths, domain management, time range filters, and image search, this tool delivers real-time, accurate, and citation-backed results.Input should be a search query.'"
      ]
     },
     "execution_count": 21,
     "metadata": {},
     "output_type": "execute_result"
    }
   ],
   "source": [
    "tool.description"
   ]
  },
  {
   "cell_type": "code",
   "execution_count": 22,
   "id": "83da355f",
   "metadata": {},
   "outputs": [],
   "source": [
    "# Custom function\n",
    "def multiply(a:int, b:int) -> int:\n",
    "    \"\"\"Multiply a and b\n",
    "\n",
    "    Args:\n",
    "        a (int): first int\n",
    "        b (int): second int\n",
    "\n",
    "    Returns:\n",
    "        int: output int\n",
    "    \"\"\"\n",
    "    return a*b"
   ]
  },
  {
   "cell_type": "code",
   "execution_count": 23,
   "id": "7ce60055",
   "metadata": {},
   "outputs": [],
   "source": [
    "tools= [tool, multiply]"
   ]
  },
  {
   "cell_type": "code",
   "execution_count": 24,
   "id": "feeb0424",
   "metadata": {},
   "outputs": [],
   "source": [
    "llm_with_tools= llm.bind_tools(tools)"
   ]
  },
  {
   "cell_type": "code",
   "execution_count": 25,
   "id": "9047c282",
   "metadata": {},
   "outputs": [
    {
     "data": {
      "text/plain": [
       "RunnableBinding(bound=ChatGroq(client=<groq.resources.chat.completions.Completions object at 0x0000027DE2C35950>, async_client=<groq.resources.chat.completions.AsyncCompletions object at 0x0000027DE2C36350>, model_name='llama3-8b-8192', model_kwargs={}, groq_api_key=SecretStr('**********')), kwargs={'tools': [{'type': 'function', 'function': {'name': 'tavily_search', 'description': 'A search engine optimized for comprehensive, accurate, and trusted results. Useful for when you need to answer questions about current events. It not only retrieves URLs and snippets, but offers advanced search depths, domain management, time range filters, and image search, this tool delivers real-time, accurate, and citation-backed results.Input should be a search query.', 'parameters': {'properties': {'query': {'description': 'Search query to look up', 'type': 'string'}, 'include_domains': {'anyOf': [{'items': {'type': 'string'}, 'type': 'array'}, {'type': 'null'}], 'default': [], 'description': 'A list of domains to restrict search results to.\\n\\n        Use this parameter when:\\n        1. The user explicitly requests information from specific websites (e.g., \"Find climate data from nasa.gov\")\\n        2. The user mentions an organization or company without specifying the domain (e.g., \"Find information about iPhones from Apple\")\\n\\n        In both cases, you should determine the appropriate domains (e.g., [\"nasa.gov\"] or [\"apple.com\"]) and set this parameter.\\n\\n        Results will ONLY come from the specified domains - no other sources will be included.\\n        Default is None (no domain restriction).\\n        '}, 'exclude_domains': {'anyOf': [{'items': {'type': 'string'}, 'type': 'array'}, {'type': 'null'}], 'default': [], 'description': 'A list of domains to exclude from search results.\\n\\n        Use this parameter when:\\n        1. The user explicitly requests to avoid certain websites (e.g., \"Find information about climate change but not from twitter.com\")\\n        2. The user mentions not wanting results from specific organizations without naming the domain (e.g., \"Find phone reviews but nothing from Apple\")\\n\\n        In both cases, you should determine the appropriate domains to exclude (e.g., [\"twitter.com\"] or [\"apple.com\"]) and set this parameter.\\n\\n        Results will filter out all content from the specified domains.\\n        Default is None (no domain exclusion).\\n        '}, 'search_depth': {'anyOf': [{'enum': ['basic', 'advanced'], 'type': 'string'}, {'type': 'null'}], 'default': 'basic', 'description': 'Controls search thoroughness and result comprehensiveness.\\n    \\n        Use \"basic\" for simple queries requiring quick, straightforward answers.\\n        \\n        Use \"advanced\" (default) for complex queries, specialized topics, \\n        rare information, or when in-depth analysis is needed.\\n        '}, 'include_images': {'anyOf': [{'type': 'boolean'}, {'type': 'null'}], 'default': False, 'description': 'Determines if the search returns relevant images along with text results.\\n   \\n        Set to True when the user explicitly requests visuals or when images would \\n        significantly enhance understanding (e.g., \"Show me what black holes look like,\" \\n        \"Find pictures of Renaissance art\").\\n        \\n        Leave as False (default) for most informational queries where text is sufficient.\\n        '}, 'time_range': {'anyOf': [{'enum': ['day', 'week', 'month', 'year'], 'type': 'string'}, {'type': 'null'}], 'default': None, 'description': 'Limits results to content published within a specific timeframe.\\n        \\n        ONLY set this when the user explicitly mentions a time period \\n        (e.g., \"latest AI news,\" \"articles from last week\").\\n        \\n        For less popular or niche topics, use broader time ranges \\n        (\"month\" or \"year\") to ensure sufficient relevant results.\\n   \\n        Options: \"day\" (24h), \"week\" (7d), \"month\" (30d), \"year\" (365d).\\n        \\n        Default is None.\\n        '}, 'topic': {'anyOf': [{'enum': ['general', 'news', 'finance'], 'type': 'string'}, {'type': 'null'}], 'default': 'general', 'description': 'Specifies search category for optimized results.\\n   \\n        Use \"general\" (default) for most queries, INCLUDING those with terms like \\n        \"latest,\" \"newest,\" or \"recent\" when referring to general information.\\n\\n        Use \"finance\" for markets, investments, economic data, or financial news.\\n\\n        Use \"news\" ONLY for politics, sports, or major current events covered by \\n        mainstream media - NOT simply because a query asks for \"new\" information.\\n        '}}, 'required': ['query'], 'type': 'object'}}}, {'type': 'function', 'function': {'name': 'multiply', 'description': 'Multiply a and b', 'parameters': {'properties': {'a': {'description': 'first int', 'type': 'integer'}, 'b': {'description': 'second int', 'type': 'integer'}}, 'required': ['a', 'b'], 'type': 'object'}}}]}, config={}, config_factories=[])"
      ]
     },
     "execution_count": 25,
     "metadata": {},
     "output_type": "execute_result"
    }
   ],
   "source": [
    "llm_with_tools"
   ]
  },
  {
   "cell_type": "code",
   "execution_count": 26,
   "id": "c43127af",
   "metadata": {},
   "outputs": [],
   "source": [
    "import operator\n",
    "from langgraph.graph import StateGraph, MessagesState, START, END\n",
    "from langgraph.prebuilt import ToolNode, tools_condition\n",
    "from typing import List, Annotated, Sequence, TypedDict \n",
    "# from typing_extensions import TypedDict\n",
    "from langchain_core.messages import BaseMessage"
   ]
  },
  {
   "cell_type": "code",
   "execution_count": 27,
   "id": "3c8ec4ff",
   "metadata": {},
   "outputs": [],
   "source": [
    "class AgentState(TypedDict):\n",
    "    messages: Annotated[Sequence[BaseMessage], operator.add]"
   ]
  },
  {
   "cell_type": "code",
   "execution_count": 28,
   "id": "5a0a3909",
   "metadata": {},
   "outputs": [],
   "source": [
    "# Node definition\n",
    "def tool_calling_llm(state: AgentState):\n",
    "    messages= state[\"messages\"]\n",
    "    response= llm_with_tools.invoke(messages)\n",
    "    return {\"messages\": [response]}\n",
    "\n",
    "    # return {\"messages\": [llm_with_tools.invoke(state[\"messages\"])]}"
   ]
  },
  {
   "cell_type": "code",
   "execution_count": 29,
   "id": "134f35f0",
   "metadata": {},
   "outputs": [],
   "source": [
    "# Grpah\n",
    "builder= StateGraph(AgentState)\n",
    "\n",
    "# Add Nodes\n",
    "builder.add_node(\"tool_calling_llm\", tool_calling_llm)\n",
    "builder.add_node(\"tools\", ToolNode(tools))\n",
    "\n",
    "# Add Edges\n",
    "builder.add_edge(START, \"tool_calling_llm\")\n",
    "builder.add_edge(\"tool_calling_llm\", \"tools\")\n",
    "\n",
    "# Add Conditional Edges\n",
    "builder.add_conditional_edges(\n",
    "    \"tool_calling_llm\",\n",
    "    # If the latest message (result) from assistant is a tool call -> tools_condition routes to tools\n",
    "    # If the latest message (result) from assistant is a not a tool call -> tools_condition routes to END\n",
    "    tools_condition\n",
    ")\n",
    "# Add Edge\n",
    "builder.add_edge(\"tools\", END)\n",
    "\n",
    "# Compile the Graph\n",
    "graph= builder.compile()"
   ]
  },
  {
   "cell_type": "code",
   "execution_count": 30,
   "id": "35bdd538",
   "metadata": {},
   "outputs": [
    {
     "data": {
      "image/png": "[encoded data removed]",
      "text/plain": [
       "<IPython.core.display.Image object>"
      ]
     },
     "metadata": {},
     "output_type": "display_data"
    }
   ],
   "source": [
    "# Visualize the Graph\n",
    "from IPython.display import display, Image\n",
    "\n",
    "display(Image(graph.get_graph(xray=True).draw_mermaid_png()))"
   ]
  },
  {
   "cell_type": "code",
   "execution_count": 31,
   "id": "6ab3ad14",
   "metadata": {},
   "outputs": [
    {
     "data": {
      "text/plain": [
       "{'messages': ['What is the recent ai news',\n",
       "  AIMessage(content='', additional_kwargs={'tool_calls': [{'id': 'en1jwbb5f', 'function': {'arguments': '{\"query\":\"recent ai news\",\"search_depth\":\"advanced\",\"time_range\":\"day\",\"topic\":\"news\"}', 'name': 'tavily_search'}, 'type': 'function'}]}, response_metadata={'token_usage': {'completion_tokens': 93, 'prompt_tokens': 2194, 'total_tokens': 2287, 'completion_time': 0.063643736, 'prompt_time': 0.240966294, 'queue_time': 0.27259036400000003, 'total_time': 0.30461003}, 'model_name': 'llama3-8b-8192', 'system_fingerprint': 'fp_8b7c3a83f7', 'finish_reason': 'tool_calls', 'logprobs': None}, id='run--c4a0bacb-c0e0-46dd-af4b-147c0536139e-0', tool_calls=[{'name': 'tavily_search', 'args': {'query': 'recent ai news', 'search_depth': 'advanced', 'time_range': 'day', 'topic': 'news'}, 'id': 'en1jwbb5f', 'type': 'tool_call'}], usage_metadata={'input_tokens': 2194, 'output_tokens': 93, 'total_tokens': 2287}),\n",
       "  ToolMessage(content='{\"query\": \"recent ai news\", \"follow_up_questions\": null, \"answer\": null, \"images\": [], \"results\": [{\"url\": \"https://www.lightreading.com/ai-machine-learning/bt-and-vodafone-tech-bosses-troubled-by-dark-side-of-ai\", \"title\": \"BT and Vodafone tech bosses troubled by dark side of AI - Light Reading\", \"score\": 0.6501347, \"published_date\": \"Fri, 20 Jun 2025 11:21:04 GMT\", \"content\": \"AI & Machine Learning T-Mobile taps OpenAI to reduce customer churn 19/09/2024\\\\n\\\\n### Recommended for you\\\\n\\\\nAI & Machine Learning Image 22 sponsored Enterprise Networks Evolve From Basic Connectivity to Dynamic Experiences 29/04/2025\\\\n\\\\nAI & Machine Learning Orange is working on an AI network \\'brain\\' to run 5G 18/03/2025\\\\n\\\\nAI & Machine Learning MWC visitor numbers are up again, but the industry is decaying 07/03/2025 [...] See more from Iain Morris\\\\n\\\\nSubscribe and receive the latest news from the industry.\\\\n\\\\nJoin 62,000+ members. Yes it\\'s completely free.\\\\n\\\\nSign me up\\\\n\\\\nYou May Also Like\\\\n\\\\n  \\\\n\\\\nAI & Machine Learning sponsored Enterprise Networks Evolve From Basic Connectivity to Dynamic Experiences 29/04/2025\\\\n\\\\nAI & Machine Learning Orange is working on an AI network \\'brain\\' to run 5G 18/03/2025\\\\n\\\\nAI & Machine Learning Dell goes big on Nvidia but lauds Intel in new telecom pitch 25/09/2024 [...] #### Related Topics\\\\n\\\\n   AI & Machine Learning\\\\n   Network Automation\\\\n   Security\\\\n\\\\n   Cloud\\\\n   Virtualization\\\\n   Customer Experience\\\\n\\\\n#### Recent inDigital Transformation\\\\n\\\\nSee all\\\\n\\\\nIcon of graphic interface showing computer, machine thinking and AIImage 13AI & Machine Learning\\\\n\\\\nBT and Vodafone tech bosses troubled by dark side of AIBT and Vodafone tech bosses troubled by dark side of AI\\\\n\\\\nbyIain Morris\\\\n\\\\nJun 20, 2025\\\\n\\\\n6 Min Read\\\\n\\\\nthumbnailImage 14AI & Machine Learning\", \"raw_content\": null}, {\"url\": \"https://www.accountingtoday.com/opinion/how-generative-ai-is-reshaping-business-valuation\", \"title\": \"How generative AI is reshaping business valuation - Accounting Today\", \"score\": 0.5968332, \"published_date\": \"Fri, 20 Jun 2025 16:16:00 GMT\", \"content\": \"### IRS spruces up Pre-Filing Agreement program\\\\nNew guidance, step-by-step instructions and useful statistics are now available for large business filers.\\\\n\\\\nJun 19, 2025\\\\n\\\\nImage 5\\\\n\\\\n### Beyond algorithms, human judgment defines the future of accounting\\\\nIn the age of AI, the professionals who will excel are those who invest as much in empathy, communication and critical thinking as they do in technical skills.\\\\n\\\\nJun 17, 2025\\\\n\\\\nImage 6 [...] Image 2\\\\n\\\\n### How AI is redefining roles, creating new value in accounting and tax\\\\nAI is no longer just a distant concept, as we\\'re already seeing it reshape day-to-day functions within accounting.\\\\n\\\\nJun 13, 2025\\\\n\\\\nImage 3\\\\n\\\\n### How AI can help solve accounting\\'s labor shortage\\\\nCompanies are desperate for ways to keep their quality of service high, even though they have smaller teams. Artificial intelligence (AI) is one possible answer.\\\\n\\\\nJun 12, 2025\\\\n\\\\nImage 4\", \"raw_content\": null}], \"response_time\": 1.65}', name='tavily_search', tool_call_id='en1jwbb5f')]}"
      ]
     },
     "execution_count": 31,
     "metadata": {},
     "output_type": "execute_result"
    }
   ],
   "source": [
    "state= {\"messages\": [\"What is the recent ai news\"]}\n",
    "response= graph.invoke(state)\n",
    "response"
   ]
  },
  {
   "cell_type": "code",
   "execution_count": 32,
   "id": "1a7ced29",
   "metadata": {},
   "outputs": [
    {
     "data": {
      "text/plain": [
       "'What is the recent ai news'"
      ]
     },
     "execution_count": 32,
     "metadata": {},
     "output_type": "execute_result"
    }
   ],
   "source": [
    "# Question\n",
    "response[\"messages\"][-0]"
   ]
  },
  {
   "cell_type": "code",
   "execution_count": 33,
   "id": "ab494df2",
   "metadata": {},
   "outputs": [
    {
     "data": {
      "text/plain": [
       "ToolMessage(content='{\"query\": \"recent ai news\", \"follow_up_questions\": null, \"answer\": null, \"images\": [], \"results\": [{\"url\": \"https://www.lightreading.com/ai-machine-learning/bt-and-vodafone-tech-bosses-troubled-by-dark-side-of-ai\", \"title\": \"BT and Vodafone tech bosses troubled by dark side of AI - Light Reading\", \"score\": 0.6501347, \"published_date\": \"Fri, 20 Jun 2025 11:21:04 GMT\", \"content\": \"AI & Machine Learning T-Mobile taps OpenAI to reduce customer churn 19/09/2024\\\\n\\\\n### Recommended for you\\\\n\\\\nAI & Machine Learning Image 22 sponsored Enterprise Networks Evolve From Basic Connectivity to Dynamic Experiences 29/04/2025\\\\n\\\\nAI & Machine Learning Orange is working on an AI network \\'brain\\' to run 5G 18/03/2025\\\\n\\\\nAI & Machine Learning MWC visitor numbers are up again, but the industry is decaying 07/03/2025 [...] See more from Iain Morris\\\\n\\\\nSubscribe and receive the latest news from the industry.\\\\n\\\\nJoin 62,000+ members. Yes it\\'s completely free.\\\\n\\\\nSign me up\\\\n\\\\nYou May Also Like\\\\n\\\\n  \\\\n\\\\nAI & Machine Learning sponsored Enterprise Networks Evolve From Basic Connectivity to Dynamic Experiences 29/04/2025\\\\n\\\\nAI & Machine Learning Orange is working on an AI network \\'brain\\' to run 5G 18/03/2025\\\\n\\\\nAI & Machine Learning Dell goes big on Nvidia but lauds Intel in new telecom pitch 25/09/2024 [...] #### Related Topics\\\\n\\\\n   AI & Machine Learning\\\\n   Network Automation\\\\n   Security\\\\n\\\\n   Cloud\\\\n   Virtualization\\\\n   Customer Experience\\\\n\\\\n#### Recent inDigital Transformation\\\\n\\\\nSee all\\\\n\\\\nIcon of graphic interface showing computer, machine thinking and AIImage 13AI & Machine Learning\\\\n\\\\nBT and Vodafone tech bosses troubled by dark side of AIBT and Vodafone tech bosses troubled by dark side of AI\\\\n\\\\nbyIain Morris\\\\n\\\\nJun 20, 2025\\\\n\\\\n6 Min Read\\\\n\\\\nthumbnailImage 14AI & Machine Learning\", \"raw_content\": null}, {\"url\": \"https://www.accountingtoday.com/opinion/how-generative-ai-is-reshaping-business-valuation\", \"title\": \"How generative AI is reshaping business valuation - Accounting Today\", \"score\": 0.5968332, \"published_date\": \"Fri, 20 Jun 2025 16:16:00 GMT\", \"content\": \"### IRS spruces up Pre-Filing Agreement program\\\\nNew guidance, step-by-step instructions and useful statistics are now available for large business filers.\\\\n\\\\nJun 19, 2025\\\\n\\\\nImage 5\\\\n\\\\n### Beyond algorithms, human judgment defines the future of accounting\\\\nIn the age of AI, the professionals who will excel are those who invest as much in empathy, communication and critical thinking as they do in technical skills.\\\\n\\\\nJun 17, 2025\\\\n\\\\nImage 6 [...] Image 2\\\\n\\\\n### How AI is redefining roles, creating new value in accounting and tax\\\\nAI is no longer just a distant concept, as we\\'re already seeing it reshape day-to-day functions within accounting.\\\\n\\\\nJun 13, 2025\\\\n\\\\nImage 3\\\\n\\\\n### How AI can help solve accounting\\'s labor shortage\\\\nCompanies are desperate for ways to keep their quality of service high, even though they have smaller teams. Artificial intelligence (AI) is one possible answer.\\\\n\\\\nJun 12, 2025\\\\n\\\\nImage 4\", \"raw_content\": null}], \"response_time\": 1.65}', name='tavily_search', tool_call_id='en1jwbb5f')"
      ]
     },
     "execution_count": 33,
     "metadata": {},
     "output_type": "execute_result"
    }
   ],
   "source": [
    "# Response from tools\n",
    "response[\"messages\"][-1]"
   ]
  },
  {
   "cell_type": "code",
   "execution_count": 34,
   "id": "6baa759e",
   "metadata": {},
   "outputs": [
    {
     "data": {
      "text/plain": [
       "'{\"query\": \"recent ai news\", \"follow_up_questions\": null, \"answer\": null, \"images\": [], \"results\": [{\"url\": \"https://www.lightreading.com/ai-machine-learning/bt-and-vodafone-tech-bosses-troubled-by-dark-side-of-ai\", \"title\": \"BT and Vodafone tech bosses troubled by dark side of AI - Light Reading\", \"score\": 0.6501347, \"published_date\": \"Fri, 20 Jun 2025 11:21:04 GMT\", \"content\": \"AI & Machine Learning T-Mobile taps OpenAI to reduce customer churn 19/09/2024\\\\n\\\\n### Recommended for you\\\\n\\\\nAI & Machine Learning Image 22 sponsored Enterprise Networks Evolve From Basic Connectivity to Dynamic Experiences 29/04/2025\\\\n\\\\nAI & Machine Learning Orange is working on an AI network \\'brain\\' to run 5G 18/03/2025\\\\n\\\\nAI & Machine Learning MWC visitor numbers are up again, but the industry is decaying 07/03/2025 [...] See more from Iain Morris\\\\n\\\\nSubscribe and receive the latest news from the industry.\\\\n\\\\nJoin 62,000+ members. Yes it\\'s completely free.\\\\n\\\\nSign me up\\\\n\\\\nYou May Also Like\\\\n\\\\n  \\\\n\\\\nAI & Machine Learning sponsored Enterprise Networks Evolve From Basic Connectivity to Dynamic Experiences 29/04/2025\\\\n\\\\nAI & Machine Learning Orange is working on an AI network \\'brain\\' to run 5G 18/03/2025\\\\n\\\\nAI & Machine Learning Dell goes big on Nvidia but lauds Intel in new telecom pitch 25/09/2024 [...] #### Related Topics\\\\n\\\\n   AI & Machine Learning\\\\n   Network Automation\\\\n   Security\\\\n\\\\n   Cloud\\\\n   Virtualization\\\\n   Customer Experience\\\\n\\\\n#### Recent inDigital Transformation\\\\n\\\\nSee all\\\\n\\\\nIcon of graphic interface showing computer, machine thinking and AIImage 13AI & Machine Learning\\\\n\\\\nBT and Vodafone tech bosses troubled by dark side of AIBT and Vodafone tech bosses troubled by dark side of AI\\\\n\\\\nbyIain Morris\\\\n\\\\nJun 20, 2025\\\\n\\\\n6 Min Read\\\\n\\\\nthumbnailImage 14AI & Machine Learning\", \"raw_content\": null}, {\"url\": \"https://www.accountingtoday.com/opinion/how-generative-ai-is-reshaping-business-valuation\", \"title\": \"How generative AI is reshaping business valuation - Accounting Today\", \"score\": 0.5968332, \"published_date\": \"Fri, 20 Jun 2025 16:16:00 GMT\", \"content\": \"### IRS spruces up Pre-Filing Agreement program\\\\nNew guidance, step-by-step instructions and useful statistics are now available for large business filers.\\\\n\\\\nJun 19, 2025\\\\n\\\\nImage 5\\\\n\\\\n### Beyond algorithms, human judgment defines the future of accounting\\\\nIn the age of AI, the professionals who will excel are those who invest as much in empathy, communication and critical thinking as they do in technical skills.\\\\n\\\\nJun 17, 2025\\\\n\\\\nImage 6 [...] Image 2\\\\n\\\\n### How AI is redefining roles, creating new value in accounting and tax\\\\nAI is no longer just a distant concept, as we\\'re already seeing it reshape day-to-day functions within accounting.\\\\n\\\\nJun 13, 2025\\\\n\\\\nImage 3\\\\n\\\\n### How AI can help solve accounting\\'s labor shortage\\\\nCompanies are desperate for ways to keep their quality of service high, even though they have smaller teams. Artificial intelligence (AI) is one possible answer.\\\\n\\\\nJun 12, 2025\\\\n\\\\nImage 4\", \"raw_content\": null}], \"response_time\": 1.65}'"
      ]
     },
     "execution_count": 34,
     "metadata": {},
     "output_type": "execute_result"
    }
   ],
   "source": [
    "response[\"messages\"][-1].content"
   ]
  },
  {
   "cell_type": "code",
   "execution_count": 35,
   "id": "782532a5",
   "metadata": {},
   "outputs": [
    {
     "name": "stdout",
     "output_type": "stream",
     "text": [
      "Output from tool_calling_llm Node\n",
      "_________________________________\n",
      "{'messages': [AIMessage(content='', additional_kwargs={'tool_calls': [{'id': 'dcp295h32', 'function': {'arguments': '{\"query\":\"recent ai news\",\"search_depth\":\"advanced\",\"topic\":\"news\"}', 'name': 'tavily_search'}, 'type': 'function'}]}, response_metadata={'token_usage': {'completion_tokens': 85, 'prompt_tokens': 2194, 'total_tokens': 2279, 'completion_time': 0.058448483, 'prompt_time': 0.241931182, 'queue_time': 0.272625676, 'total_time': 0.300379665}, 'model_name': 'llama3-8b-8192', 'system_fingerprint': 'fp_8b7c3a83f7', 'finish_reason': 'tool_calls', 'logprobs': None}, id='run--ba5b3b1f-ac12-4c3e-a133-959c41fb4490-0', tool_calls=[{'name': 'tavily_search', 'args': {'query': 'recent ai news', 'search_depth': 'advanced', 'topic': 'news'}, 'id': 'dcp295h32', 'type': 'tool_call'}], usage_metadata={'input_tokens': 2194, 'output_tokens': 85, 'total_tokens': 2279})]}\n",
      "\n",
      "\n",
      "Output from tools Node\n",
      "_________________________________\n",
      "{'messages': [ToolMessage(content='{\"query\": \"recent ai news\", \"follow_up_questions\": null, \"answer\": null, \"images\": [], \"results\": [{\"url\": \"https://www.csoonline.com/article/4008912/wormgpt-returns-new-malicious-ai-variants-built-on-grok-and-mixtral-uncovered.html\", \"title\": \"WormGPT returns: New malicious AI variants built on Grok and Mixtral uncovered - csoonline.com\", \"score\": 0.70214266, \"published_date\": \"Wed, 18 Jun 2025 12:17:59 GMT\", \"content\": \"news ### New npm threats can erase production systems with a single request Jun 10, 2025 3 mins\\\\n   news ### Chrome extension privacy promises undone by hardcoded secrets, leaky HTTP Jun 9, 2025 4 mins\\\\n   news ### New phishing campaign hijacks clipboard via fake CAPTCHA for malware delivery Jun 6, 2025 4 mins\\\\n   news ### Supply chain attack hits RubyGems to steal Telegram API data Jun 5, 2025 4 mins [...] Related content\\\\n---------------\\\\n\\\\nOpinion ### Security, risk and compliance in the world of AI agents By Nikhil Sarnot Jun 17, 2025 12 mins Artificial Intelligence Compliance IT GovernanceNews ### Phishing goes prime time: Hackers use trusted sites to hijack search rankings By Shweta Sharma Jun 17, 2025 5 mins Phishing SecurityNews ### Malicious PyPI package targets Chimera users to steal AWS tokens, CI/CD secrets By Shweta Sharma Jun 17, 2025 4 mins Developer Malware Security [...] news ### ‘Grafana Ghost’ XSS flaw exposes 47,000 servers to account takeover Jun 16, 2025 3 mins\\\\n   news ### Fog ransomware gang abuses employee monitoring tool in unusual multi-stage attack Jun 13, 2025 4 mins\\\\n   news ### Phishing sites posing as DeepSeek downloads drop a proxy backdoor Jun 12, 2025 4 mins\\\\n   news ### China-linked hackers target cybersecurity firms, governments in global espionage campaign Jun 11, 2025 4 mins\", \"raw_content\": null}, {\"url\": \"https://www.csoonline.com/article/4009603/north-koreas-bluenoroff-uses-ai-deepfakes-to-push-mac-malware-in-fake-zoom-calls.html\", \"title\": \"North Korea’s BlueNoroff uses AI deepfakes to push Mac malware in fake Zoom calls - csoonline.com\", \"score\": 0.6615081, \"published_date\": \"Thu, 19 Jun 2025 12:06:34 GMT\", \"content\": \"Related content\\\\n---------------\\\\n\\\\nNews ### WormGPT returns: New malicious AI variants built on Grok and Mixtral uncovered By Shweta Sharma Jun 18, 2025 4 mins Generative AI Malware SecurityNews ### Malicious PyPI package targets Chimera users to steal AWS tokens, CI/CD secrets By Shweta Sharma Jun 17, 2025 4 mins Developer Malware SecurityNews ### Major infostealer network taken down in Interpol raid By Viktor Eriksson Jun 12, 2025 2 mins Identity and Access Management Malware Security [...] news ### China-linked hackers target cybersecurity firms, governments in global espionage campaign Jun 11, 2025 4 mins\\\\n   news ### New npm threats can erase production systems with a single request Jun 10, 2025 3 mins\\\\n   news ### Chrome extension privacy promises undone by hardcoded secrets, leaky HTTP Jun 9, 2025 4 mins\\\\n   news ### New phishing campaign hijacks clipboard via fake CAPTCHA for malware delivery Jun 6, 2025 4 mins\", \"raw_content\": null}], \"response_time\": 1.71}', name='tavily_search', tool_call_id='dcp295h32')]}\n",
      "\n",
      "\n"
     ]
    }
   ],
   "source": [
    "for message in graph.stream(state):\n",
    "    for key,value in message.items():\n",
    "        print(f\"Output from {key} Node\")\n",
    "        print(\"_________________________________\")\n",
    "        print(value)\n",
    "        print(\"\\n\")\n"
   ]
  },
  {
   "cell_type": "code",
   "execution_count": 45,
   "id": "0ca82496",
   "metadata": {},
   "outputs": [
    {
     "data": {
      "text/plain": [
       "{'messages': ['What is 5 multiplied by 2',\n",
       "  AIMessage(content='', additional_kwargs={'tool_calls': [{'id': 'bjvvaf95d', 'function': {'arguments': '{\"a\":5,\"b\":2}', 'name': 'multiply'}, 'type': 'function'}]}, response_metadata={'token_usage': {'completion_tokens': 72, 'prompt_tokens': 2196, 'total_tokens': 2268, 'completion_time': 0.050468597, 'prompt_time': 0.324468264, 'queue_time': 0.427326633, 'total_time': 0.374936861}, 'model_name': 'llama3-8b-8192', 'system_fingerprint': 'fp_8b7c3a83f7', 'finish_reason': 'tool_calls', 'logprobs': None}, id='run--a5b50d92-9fc7-4fcb-91b2-90f98541fef2-0', tool_calls=[{'name': 'multiply', 'args': {'a': 5, 'b': 2}, 'id': 'bjvvaf95d', 'type': 'tool_call'}], usage_metadata={'input_tokens': 2196, 'output_tokens': 72, 'total_tokens': 2268}),\n",
       "  ToolMessage(content='10', name='multiply', tool_call_id='bjvvaf95d')]}"
      ]
     },
     "execution_count": 45,
     "metadata": {},
     "output_type": "execute_result"
    }
   ],
   "source": [
    "response= graph.invoke({\"messages\": [\"What is 5 multiplied by 2\"]})\n",
    "response"
   ]
  },
  {
   "cell_type": "code",
   "execution_count": 47,
   "id": "9c5fdaaa",
   "metadata": {},
   "outputs": [
    {
     "name": "stdout",
     "output_type": "stream",
     "text": [
      "Output from tool_calling_llm Node\n",
      "_________________________________\n",
      "{'messages': [AIMessage(content='', additional_kwargs={'tool_calls': [{'id': 'tf4armxr3', 'function': {'arguments': '{\"query\":\"recent ai news\",\"search_depth\":\"advanced\",\"topic\":\"news\"}', 'name': 'tavily_search'}, 'type': 'function'}]}, response_metadata={'token_usage': {'completion_tokens': 132, 'prompt_tokens': 2194, 'total_tokens': 2326, 'completion_time': 0.090291041, 'prompt_time': 0.239626358, 'queue_time': 0.27047328000000004, 'total_time': 0.329917399}, 'model_name': 'llama3-8b-8192', 'system_fingerprint': 'fp_8af39bf2ae', 'finish_reason': 'tool_calls', 'logprobs': None}, id='run--45f569ba-af43-4a4b-9a00-b97b3033b450-0', tool_calls=[{'name': 'tavily_search', 'args': {'query': 'recent ai news', 'search_depth': 'advanced', 'topic': 'news'}, 'id': 'tf4armxr3', 'type': 'tool_call'}], usage_metadata={'input_tokens': 2194, 'output_tokens': 132, 'total_tokens': 2326})]}\n",
      "\n",
      "\n",
      "Output from tools Node\n",
      "_________________________________\n",
      "{'messages': [ToolMessage(content='{\"query\": \"recent ai news\", \"follow_up_questions\": null, \"answer\": null, \"images\": [], \"results\": [{\"url\": \"https://www.techtarget.com/searchenterpriseai/news/366626101/Apple-AI-paper-likely-self-serving-but-has-some-merit\", \"title\": \"Apple AI paper likely self-serving but has some merit - TechTarget\", \"score\": 0.6241337, \"published_date\": \"Tue, 17 Jun 2025 20:18:27 GMT\", \"content\": \"\\\\\"The ambition and the hope are warranted, but if these systems can\\'t perform even on moderately complex tasks, then it\\'s better to understand it relatively early on,\\\\\" Bennett added.\\\\n\\\\nMeanwhile, on June 16, Chinese vendor Alibaba revealed that its new Qwen 3 models will run on Apple devices, including iPhone, iPad, MacBook and Mac.\\\\n\\\\n_Esther Shittu is an Informa TechTarget news writer and podcast host covering AI software and systems._\\\\n\\\\n#### Related Resources [...] Latest TechTarget resources\\\\n   Business Analytics\\\\n   CIO\\\\n   Data Management\\\\n   ERP\\\\n\\\\nSearch Business Analytics\\\\n   ThoughtSpot evolving as BI becomes driven by AI\\\\nRecent releases, including the Agentic Analytics Platform and Agentic Semantic Layer, demonstrate that the vendor continues to be...\\\\n\\\\n   Latest Databricks tools use AI to simplify AI development\\\\nFueled by user feedback, the vendor\\'s newest features include a framework that automates building agents and a no-code interface ... [...] Investment in AI continues to grow. Meta, Amazon, Alphabet (Google\\'s parent company) and Microsoft are expected to invest billions of dollars in AI technology in 2025. However, the ROI for the widely popular technology has not yet been proven.\", \"raw_content\": null}, {\"url\": \"https://www.investopedia.com/amazon-s-ceo-tells-staff-ai-could-lead-to-a-smaller-corporate-workforce-11756555\", \"title\": \"Amazon\\'s CEO Tells Staff AI Could Lead to a Smaller Corporate Workforce - Investopedia\", \"score\": 0.5996498, \"published_date\": \"Tue, 17 Jun 2025 21:29:00 GMT\", \"content\": \"conference.:max_bytes(150000):strip_icc():format(webp)/GettyImages-2215577822-47a75431e5254defb1dd57019a2c8389.jpg) Google Buyouts Could Point to More Tech Layoffs, as Sector Faces Heavy Job LossesImage 9: AMD\\'s \\\\\"Advancing AI\\\\\" event:max_bytes(150000):strip_icc():format(webp)/Screenshot2025-06-12at4.58.35PM-2a3e218f561c45d09abce715571008a6.jpeg) AMD Unveils Its Latest Chips, With ChatGPT Maker OpenAI Among Its CustomersImage 11: Nvidia CEO Jensen Huang meets German Chancellor Friedrich [...] headquarters.:max_bytes(150000):strip_icc():format(webp)/GettyImages-2218457787-7afaea4355494f25acce8a6b5fa05785.jpg) Meta Invests Big in Startup Scale AI, Brings On Its CEO for AI Development EffortsImage 17: People pass the shop front for the media brand Disney Store on London\\'s Oxford Street interacting with stormtrooper figures from the Star Wars films on May 7, 2025:max_bytes(150000):strip_icc():format(webp)/GettyImages-2217902300-c0d3508e1e104b6ebdf25b82bb0cd92c.jpg) Disney, Universal Sue [...] Merz.:max_bytes(150000):strip_icc():format(webp)/GettyImages-2219239037-f48729853bf84914aced2538b5e029a3.jpg) Why Oppenheimer Is Excited About Nvidia\\'s Potential Gains From Sovereign AI DemandImage 13: Open AI CEO Sam Altman speaks during Snowflake Summit 2025.:max_bytes(150000):strip_icc():format(webp)/GettyImages-2218344211-86cd046e842a44d0a4e33bd185d837b3.jpg) \\'ChatGPT Is Already More Powerful Than Any Human,\\' OpenAI CEO Sam Altman SaysImage 15: Scale AI\", \"raw_content\": null}], \"response_time\": 1.38}', name='tavily_search', tool_call_id='tf4armxr3')]}\n",
      "\n",
      "\n"
     ]
    }
   ],
   "source": [
    "for message in graph.stream(state):\n",
    "    for key,value in message.items():\n",
    "        print(f\"Output from {key} Node\")\n",
    "        print(\"_________________________________\")\n",
    "        print(value)\n",
    "        print(\"\\n\")"
   ]
  },
  {
   "cell_type": "code",
   "execution_count": 50,
   "id": "e13a0ff4",
   "metadata": {},
   "outputs": [
    {
     "data": {
      "text/plain": [
       "{'messages': ['Give me the recent ai news and then multiply 5 by 10',\n",
       "  AIMessage(content='', additional_kwargs={'tool_calls': [{'id': '378hftytp', 'function': {'arguments': '{\"query\":\"recent ai news\",\"search_depth\":\"advanced\",\"time_range\":\"day\",\"topic\":\"news\"}', 'name': 'tavily_search'}, 'type': 'function'}, {'id': 'p7c9s1q0t', 'function': {'arguments': '{\"a\":5,\"b\":10}', 'name': 'multiply'}, 'type': 'function'}]}, response_metadata={'token_usage': {'completion_tokens': 174, 'prompt_tokens': 2202, 'total_tokens': 2376, 'completion_time': 0.122252163, 'prompt_time': 0.245579891, 'queue_time': 0.27544376699999995, 'total_time': 0.367832054}, 'model_name': 'llama3-8b-8192', 'system_fingerprint': 'fp_8b7c3a83f7', 'finish_reason': 'tool_calls', 'logprobs': None}, id='run--ae95d61c-5443-49f9-b218-12398e006534-0', tool_calls=[{'name': 'tavily_search', 'args': {'query': 'recent ai news', 'search_depth': 'advanced', 'time_range': 'day', 'topic': 'news'}, 'id': '378hftytp', 'type': 'tool_call'}, {'name': 'multiply', 'args': {'a': 5, 'b': 10}, 'id': 'p7c9s1q0t', 'type': 'tool_call'}], usage_metadata={'input_tokens': 2202, 'output_tokens': 174, 'total_tokens': 2376}),\n",
       "  ToolMessage(content='{\"query\": \"recent ai news\", \"follow_up_questions\": null, \"answer\": null, \"images\": [], \"results\": [{\"url\": \"https://www.lightreading.com/ai-machine-learning/bt-and-vodafone-tech-bosses-troubled-by-dark-side-of-ai\", \"title\": \"BT and Vodafone tech bosses troubled by dark side of AI - Light Reading\", \"score\": 0.6501347, \"published_date\": \"Fri, 20 Jun 2025 11:21:04 GMT\", \"content\": \"AI & Machine Learning T-Mobile taps OpenAI to reduce customer churn 19/09/2024\\\\n\\\\n### Recommended for you\\\\n\\\\nAI & Machine Learning Image 22 sponsored Enterprise Networks Evolve From Basic Connectivity to Dynamic Experiences 29/04/2025\\\\n\\\\nAI & Machine Learning Orange is working on an AI network \\'brain\\' to run 5G 18/03/2025\\\\n\\\\nAI & Machine Learning MWC visitor numbers are up again, but the industry is decaying 07/03/2025 [...] See more from Iain Morris\\\\n\\\\nSubscribe and receive the latest news from the industry.\\\\n\\\\nJoin 62,000+ members. Yes it\\'s completely free.\\\\n\\\\nSign me up\\\\n\\\\nYou May Also Like\\\\n\\\\n  \\\\n\\\\nAI & Machine Learning sponsored Enterprise Networks Evolve From Basic Connectivity to Dynamic Experiences 29/04/2025\\\\n\\\\nAI & Machine Learning Orange is working on an AI network \\'brain\\' to run 5G 18/03/2025\\\\n\\\\nAI & Machine Learning Dell goes big on Nvidia but lauds Intel in new telecom pitch 25/09/2024 [...] #### Related Topics\\\\n\\\\n   AI & Machine Learning\\\\n   Network Automation\\\\n   Security\\\\n\\\\n   Cloud\\\\n   Virtualization\\\\n   Customer Experience\\\\n\\\\n#### Recent inDigital Transformation\\\\n\\\\nSee all\\\\n\\\\nIcon of graphic interface showing computer, machine thinking and AIImage 13AI & Machine Learning\\\\n\\\\nBT and Vodafone tech bosses troubled by dark side of AIBT and Vodafone tech bosses troubled by dark side of AI\\\\n\\\\nbyIain Morris\\\\n\\\\nJun 20, 2025\\\\n\\\\n6 Min Read\\\\n\\\\nthumbnailImage 14AI & Machine Learning\", \"raw_content\": null}, {\"url\": \"https://www.accountingtoday.com/opinion/how-generative-ai-is-reshaping-business-valuation\", \"title\": \"How generative AI is reshaping business valuation - Accounting Today\", \"score\": 0.5968332, \"published_date\": \"Fri, 20 Jun 2025 16:16:00 GMT\", \"content\": \"### IRS spruces up Pre-Filing Agreement program\\\\nNew guidance, step-by-step instructions and useful statistics are now available for large business filers.\\\\n\\\\nJun 19, 2025\\\\n\\\\nImage 5\\\\n\\\\n### Beyond algorithms, human judgment defines the future of accounting\\\\nIn the age of AI, the professionals who will excel are those who invest as much in empathy, communication and critical thinking as they do in technical skills.\\\\n\\\\nJun 17, 2025\\\\n\\\\nImage 6 [...] Image 2\\\\n\\\\n### How AI is redefining roles, creating new value in accounting and tax\\\\nAI is no longer just a distant concept, as we\\'re already seeing it reshape day-to-day functions within accounting.\\\\n\\\\nJun 13, 2025\\\\n\\\\nImage 3\\\\n\\\\n### How AI can help solve accounting\\'s labor shortage\\\\nCompanies are desperate for ways to keep their quality of service high, even though they have smaller teams. Artificial intelligence (AI) is one possible answer.\\\\n\\\\nJun 12, 2025\\\\n\\\\nImage 4\", \"raw_content\": null}], \"response_time\": 1.5}', name='tavily_search', tool_call_id='378hftytp'),\n",
       "  ToolMessage(content='50', name='multiply', tool_call_id='p7c9s1q0t')]}"
      ]
     },
     "execution_count": 50,
     "metadata": {},
     "output_type": "execute_result"
    }
   ],
   "source": [
    "response= graph.invoke({\"messages\": [\"Give me the recent ai news and then multiply 5 by 10\"]})\n",
    "response"
   ]
  },
  {
   "cell_type": "code",
   "execution_count": 51,
   "id": "869e2aea",
   "metadata": {},
   "outputs": [
    {
     "name": "stdout",
     "output_type": "stream",
     "text": [
      "Output from tool_calling_llm Node\n",
      "_________________________________\n",
      "{'messages': [AIMessage(content='', additional_kwargs={'tool_calls': [{'id': '8s2s1g7q9', 'function': {'arguments': '{\"query\":\"recent ai news\",\"search_depth\":\"advanced\",\"time_range\":\"day\",\"topic\":\"news\"}', 'name': 'tavily_search'}, 'type': 'function'}]}, response_metadata={'token_usage': {'completion_tokens': 93, 'prompt_tokens': 2194, 'total_tokens': 2287, 'completion_time': 0.065160725, 'prompt_time': 0.268924433, 'queue_time': 0.45005844399999995, 'total_time': 0.334085158}, 'model_name': 'llama3-8b-8192', 'system_fingerprint': 'fp_8b7c3a83f7', 'finish_reason': 'tool_calls', 'logprobs': None}, id='run--0c554984-24be-4e0f-ab9a-8aa2b052c63e-0', tool_calls=[{'name': 'tavily_search', 'args': {'query': 'recent ai news', 'search_depth': 'advanced', 'time_range': 'day', 'topic': 'news'}, 'id': '8s2s1g7q9', 'type': 'tool_call'}], usage_metadata={'input_tokens': 2194, 'output_tokens': 93, 'total_tokens': 2287})]}\n",
      "\n",
      "\n",
      "Output from tools Node\n",
      "_________________________________\n",
      "{'messages': [ToolMessage(content='{\"query\": \"recent ai news\", \"follow_up_questions\": null, \"answer\": null, \"images\": [], \"results\": [{\"url\": \"https://www.lightreading.com/ai-machine-learning/bt-and-vodafone-tech-bosses-troubled-by-dark-side-of-ai\", \"title\": \"BT and Vodafone tech bosses troubled by dark side of AI - Light Reading\", \"score\": 0.6501347, \"published_date\": \"Fri, 20 Jun 2025 11:21:04 GMT\", \"content\": \"AI & Machine Learning T-Mobile taps OpenAI to reduce customer churn 19/09/2024\\\\n\\\\n### Recommended for you\\\\n\\\\nAI & Machine Learning Image 22 sponsored Enterprise Networks Evolve From Basic Connectivity to Dynamic Experiences 29/04/2025\\\\n\\\\nAI & Machine Learning Orange is working on an AI network \\'brain\\' to run 5G 18/03/2025\\\\n\\\\nAI & Machine Learning MWC visitor numbers are up again, but the industry is decaying 07/03/2025 [...] See more from Iain Morris\\\\n\\\\nSubscribe and receive the latest news from the industry.\\\\n\\\\nJoin 62,000+ members. Yes it\\'s completely free.\\\\n\\\\nSign me up\\\\n\\\\nYou May Also Like\\\\n\\\\n  \\\\n\\\\nAI & Machine Learning sponsored Enterprise Networks Evolve From Basic Connectivity to Dynamic Experiences 29/04/2025\\\\n\\\\nAI & Machine Learning Orange is working on an AI network \\'brain\\' to run 5G 18/03/2025\\\\n\\\\nAI & Machine Learning Dell goes big on Nvidia but lauds Intel in new telecom pitch 25/09/2024 [...] #### Related Topics\\\\n\\\\n   AI & Machine Learning\\\\n   Network Automation\\\\n   Security\\\\n\\\\n   Cloud\\\\n   Virtualization\\\\n   Customer Experience\\\\n\\\\n#### Recent inDigital Transformation\\\\n\\\\nSee all\\\\n\\\\nIcon of graphic interface showing computer, machine thinking and AIImage 13AI & Machine Learning\\\\n\\\\nBT and Vodafone tech bosses troubled by dark side of AIBT and Vodafone tech bosses troubled by dark side of AI\\\\n\\\\nbyIain Morris\\\\n\\\\nJun 20, 2025\\\\n\\\\n6 Min Read\\\\n\\\\nthumbnailImage 14AI & Machine Learning\", \"raw_content\": null}, {\"url\": \"https://www.accountingtoday.com/opinion/how-generative-ai-is-reshaping-business-valuation\", \"title\": \"How generative AI is reshaping business valuation - Accounting Today\", \"score\": 0.5968332, \"published_date\": \"Fri, 20 Jun 2025 16:16:00 GMT\", \"content\": \"### IRS spruces up Pre-Filing Agreement program\\\\nNew guidance, step-by-step instructions and useful statistics are now available for large business filers.\\\\n\\\\nJun 19, 2025\\\\n\\\\nImage 5\\\\n\\\\n### Beyond algorithms, human judgment defines the future of accounting\\\\nIn the age of AI, the professionals who will excel are those who invest as much in empathy, communication and critical thinking as they do in technical skills.\\\\n\\\\nJun 17, 2025\\\\n\\\\nImage 6 [...] Image 2\\\\n\\\\n### How AI is redefining roles, creating new value in accounting and tax\\\\nAI is no longer just a distant concept, as we\\'re already seeing it reshape day-to-day functions within accounting.\\\\n\\\\nJun 13, 2025\\\\n\\\\nImage 3\\\\n\\\\n### How AI can help solve accounting\\'s labor shortage\\\\nCompanies are desperate for ways to keep their quality of service high, even though they have smaller teams. Artificial intelligence (AI) is one possible answer.\\\\n\\\\nJun 12, 2025\\\\n\\\\nImage 4\", \"raw_content\": null}], \"response_time\": 1.45}', name='tavily_search', tool_call_id='8s2s1g7q9')]}\n",
      "\n",
      "\n"
     ]
    }
   ],
   "source": [
    "for message in graph.stream(state):\n",
    "    for key,value in message.items():\n",
    "        print(f\"Output from {key} Node\")\n",
    "        print(\"_________________________________\")\n",
    "        print(value)\n",
    "        print(\"\\n\")"
   ]
  },
  {
   "cell_type": "markdown",
   "id": "a3d702fc",
   "metadata": {},
   "source": [
    "### ReAct Agent Architecture"
   ]
  }
 ],
 "metadata": {
  "kernelspec": {
   "display_name": "AgenticAILangGraph",
   "language": "python",
   "name": "python3"
  },
  "language_info": {
   "codemirror_mode": {
    "name": "ipython",
    "version": 3
   },
   "file_extension": ".py",
   "mimetype": "text/x-python",
   "name": "python",
   "nbconvert_exporter": "python",
   "pygments_lexer": "ipython3",
   "version": "3.13.2"
  }
 },
 "nbformat": 4,
 "nbformat_minor": 5
}
