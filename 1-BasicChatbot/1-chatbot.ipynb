{
 "cells": [
  {
   "cell_type": "markdown",
   "id": "d934c12f",
   "metadata": {},
   "source": [
    "### Build A Basic Chatbot With Langgraph(GRAPH API)"
   ]
  },
  {
   "cell_type": "code",
   "execution_count": 1,
   "id": "5209e1da",
   "metadata": {},
   "outputs": [],
   "source": [
    "from langchain_groq import ChatGroq\n",
    "from langchain.chat_models import init_chat_model \n",
    "from typing import Annotated\n",
    "from typing_extensions import TypedDict \n",
    "from langgraph.graph import StateGraph, START, END\n",
    "from langgraph.graph.message import add_messages"
   ]
  },
  {
   "cell_type": "code",
   "execution_count": 2,
   "id": "b249690f",
   "metadata": {},
   "outputs": [
    {
     "data": {
      "text/plain": [
       "True"
      ]
     },
     "execution_count": 2,
     "metadata": {},
     "output_type": "execute_result"
    }
   ],
   "source": [
    "import os \n",
    "from dotenv import load_dotenv \n",
    "load_dotenv()"
   ]
  },
  {
   "cell_type": "code",
   "execution_count": 3,
   "id": "f00088d0",
   "metadata": {},
   "outputs": [],
   "source": [
    "llm= ChatGroq(model=\"llama3-8b-8192\")"
   ]
  },
  {
   "cell_type": "code",
   "execution_count": 4,
   "id": "bf007ef0",
   "metadata": {},
   "outputs": [
    {
     "data": {
      "text/plain": [
       "ChatGroq(client=<groq.resources.chat.completions.Completions object at 0x000001D929469160>, async_client=<groq.resources.chat.completions.AsyncCompletions object at 0x000001D929469A90>, model_name='llama3-8b-8192', model_kwargs={}, groq_api_key=SecretStr('**********'))"
      ]
     },
     "execution_count": 4,
     "metadata": {},
     "output_type": "execute_result"
    }
   ],
   "source": [
    "llm"
   ]
  },
  {
   "cell_type": "code",
   "execution_count": 5,
   "id": "39de186a",
   "metadata": {},
   "outputs": [],
   "source": [
    "llm= init_chat_model(\"groq:llama3-8b-8192\")"
   ]
  },
  {
   "cell_type": "code",
   "execution_count": 6,
   "id": "47c9619d",
   "metadata": {},
   "outputs": [
    {
     "data": {
      "text/plain": [
       "ChatGroq(client=<groq.resources.chat.completions.Completions object at 0x000001D92958DBD0>, async_client=<groq.resources.chat.completions.AsyncCompletions object at 0x000001D92958E5D0>, model_name='llama3-8b-8192', model_kwargs={}, groq_api_key=SecretStr('**********'))"
      ]
     },
     "execution_count": 6,
     "metadata": {},
     "output_type": "execute_result"
    }
   ],
   "source": [
    "llm"
   ]
  },
  {
   "cell_type": "code",
   "execution_count": 7,
   "id": "af5df04b",
   "metadata": {},
   "outputs": [],
   "source": [
    "# Define State\n",
    "\n",
    "class State(TypedDict):\n",
    "    \"\"\" \n",
    "    # Messages have the type \"list\". The `add_messages` function\n",
    "    # in the annotation defines how this state key should be updated\n",
    "    # (in this case, it appends messages to the list, rather than overwriting them)\n",
    "    \"\"\"\n",
    "    messages: Annotated[list, add_messages]"
   ]
  },
  {
   "cell_type": "code",
   "execution_count": 8,
   "id": "c310d29f",
   "metadata": {},
   "outputs": [],
   "source": [
    "# Node Functionality\n",
    "def chatbot(state: State):\n",
    "    # messages= state[\"messages\"]\n",
    "    # response= llm.invoke(messages)\n",
    "    # return {\"messages\": [response]}\n",
    "\n",
    "    return {\"messages\": [llm.invoke(state[\"messages\"])]}"
   ]
  },
  {
   "cell_type": "code",
   "execution_count": 9,
   "id": "b46042c6",
   "metadata": {},
   "outputs": [],
   "source": [
    "# Initialize the State Graph\n",
    "graph_builder= StateGraph(State)\n",
    "\n",
    "# Adding node\n",
    "graph_builder.add_node(\"llmchatbot\", chatbot)\n",
    "graph_builder.add_edge(START, \"llmchatbot\")\n",
    "graph_builder.add_edge(\"llmchatbot\", END)\n",
    "\n",
    "# compile the graph\n",
    "graph= graph_builder.compile()"
   ]
  },
  {
   "cell_type": "code",
   "execution_count": 10,
   "id": "110d03e8",
   "metadata": {},
   "outputs": [
    {
     "data": {
      "image/png": "[encoded data removed]",
      "text/plain": [
       "<IPython.core.display.Image object>"
      ]
     },
     "metadata": {},
     "output_type": "display_data"
    }
   ],
   "source": [
    "# Visualize the graph\n",
    "from IPython.display import Image, display\n",
    "\n",
    "try:\n",
    "    display(Image(graph.get_graph(xray=True).draw_mermaid_png()))\n",
    "except Exception as ex:\n",
    "    pass "
   ]
  },
  {
   "cell_type": "code",
   "execution_count": 11,
   "id": "6db7ee1f",
   "metadata": {},
   "outputs": [
    {
     "data": {
      "text/plain": [
       "{'messages': [HumanMessage(content='Hi', additional_kwargs={}, response_metadata={}, id='4f80d86a-cd74-49bc-8318-ce414793e331'),\n",
       "  AIMessage(content=\"Hi! It's nice to meet you. Is there something I can help you with or would you like to chat?\", additional_kwargs={}, response_metadata={'token_usage': {'completion_tokens': 25, 'prompt_tokens': 11, 'total_tokens': 36, 'completion_time': 0.098108201, 'prompt_time': 0.017385075, 'queue_time': 0.35631068499999996, 'total_time': 0.115493276}, 'model_name': 'llama3-8b-8192', 'system_fingerprint': 'fp_24ec19897b', 'finish_reason': 'stop', 'logprobs': None}, id='run--4c06a267-fc9c-496f-bb35-5da5b11117c6-0', usage_metadata={'input_tokens': 11, 'output_tokens': 25, 'total_tokens': 36})]}"
      ]
     },
     "execution_count": 11,
     "metadata": {},
     "output_type": "execute_result"
    }
   ],
   "source": [
    "graph.invoke({\"messages\": [\"Hi\"]})"
   ]
  },
  {
   "cell_type": "code",
   "execution_count": 12,
   "id": "2d4605fc",
   "metadata": {},
   "outputs": [
    {
     "data": {
      "text/plain": [
       "AIMessage(content='Agentic AI refers to a type of artificial intelligence (AI) that is designed to exhibit human-like intelligence and behavior, particularly in terms of its ability to take intentional actions and make decisions autonomously. In other words, agentic AI is designed to be proactive, goal-oriented, and able to adapt to changing situations, much like humans.\\n\\nThe term \"agent\" in this context is inspired by the concept of agency in philosophy, which refers to the ability of an entity to act intentionally and make decisions that affect its environment. In the context of AI, an agentic AI system is one that is capable of:\\n\\n1. Perception: It can perceive its environment, including its own state and the state of its surroundings.\\n2. Goal-setting: It can set goals for itself and prioritize them based on its own values and preferences.\\n3. Planning: It can plan and reason about the best course of action to achieve its goals.\\n4. Execution: It can execute its plans and take intentional actions to achieve its goals.\\n5. Learning: It can learn from its experiences and adapt its behavior over time.\\n\\nAgentic AI systems are designed to be more autonomous and proactive than traditional rule-based AI systems, which are typically limited to executing specific tasks based on predefined rules. Agentic AI systems are expected to be more flexible, adaptable, and able to handle complex and dynamic environments.\\n\\nSome examples of agentic AI include:\\n\\n1. Personal assistants like Amazon\\'s Alexa or Google Assistant, which can understand voice commands and take actions to achieve specific goals.\\n2. Autonomous vehicles, which can perceive their environment, plan their route, and execute their route to achieve their goal of transporting passengers safely.\\n3. Financial trading systems, which can analyze market data, set investment goals, and execute trades to achieve those goals.\\n4. Virtual assistants like Siri or Google Assistant, which can understand natural language and take actions to achieve specific goals, such as making reservations or sending messages.\\n\\nThe development of agentic AI is an active area of research, with many challenges and opportunities still to be explored. Some of the key challenges include:\\n\\n1. Ensuring accountability and transparency in the decision-making process.\\n2. Developing methods for evaluating the trustworthiness and reliability of agentic AI systems.\\n3. Addressing potential biases and ethical concerns in the design and deployment of agentic AI systems.\\n4. Developing methods for human-AI collaboration and integration, to take advantage of the strengths of both humans and AI.\\n\\nOverall, agentic AI has the potential to revolutionize many industries and aspects of our lives, but it also requires careful consideration of the ethical and societal implications of these advanced AI systems.', additional_kwargs={}, response_metadata={'token_usage': {'completion_tokens': 534, 'prompt_tokens': 16, 'total_tokens': 550, 'completion_time': 1.632858151, 'prompt_time': 0.022642734, 'queue_time': 1.836436325, 'total_time': 1.655500885}, 'model_name': 'llama3-8b-8192', 'system_fingerprint': 'fp_24ec19897b', 'finish_reason': 'stop', 'logprobs': None}, id='run--4c550189-63cd-49f8-be9f-382989581691-0', usage_metadata={'input_tokens': 16, 'output_tokens': 534, 'total_tokens': 550})"
      ]
     },
     "execution_count": 12,
     "metadata": {},
     "output_type": "execute_result"
    }
   ],
   "source": [
    "response= graph.invoke({\"messages\": [\"What is Agentic AI?\"]})\n",
    "# Print Last Messages\n",
    "response[\"messages\"][-1]"
   ]
  },
  {
   "cell_type": "code",
   "execution_count": 13,
   "id": "a5951738",
   "metadata": {},
   "outputs": [
    {
     "data": {
      "text/plain": [
       "HumanMessage(content='What is Agentic AI?', additional_kwargs={}, response_metadata={}, id='53c09a03-1ddf-462e-a561-67f918b2564b')"
      ]
     },
     "execution_count": 13,
     "metadata": {},
     "output_type": "execute_result"
    }
   ],
   "source": [
    "# Print First Messages\n",
    "response[\"messages\"][0]"
   ]
  },
  {
   "cell_type": "code",
   "execution_count": 14,
   "id": "df41a2e7",
   "metadata": {},
   "outputs": [
    {
     "name": "stdout",
     "output_type": "stream",
     "text": [
      "What is Agentic AI?\n"
     ]
    }
   ],
   "source": [
    "# User's Question\n",
    "print(response[\"messages\"][0].content)"
   ]
  },
  {
   "cell_type": "code",
   "execution_count": 16,
   "id": "d4dc55e9",
   "metadata": {},
   "outputs": [
    {
     "name": "stdout",
     "output_type": "stream",
     "text": [
      "Agentic AI refers to a type of artificial intelligence (AI) that is designed to exhibit human-like intelligence and behavior, particularly in terms of its ability to take intentional actions and make decisions autonomously. In other words, agentic AI is designed to be proactive, goal-oriented, and able to adapt to changing situations, much like humans.\n",
      "\n",
      "The term \"agent\" in this context is inspired by the concept of agency in philosophy, which refers to the ability of an entity to act intentionally and make decisions that affect its environment. In the context of AI, an agentic AI system is one that is capable of:\n",
      "\n",
      "1. Perception: It can perceive its environment, including its own state and the state of its surroundings.\n",
      "2. Goal-setting: It can set goals for itself and prioritize them based on its own values and preferences.\n",
      "3. Planning: It can plan and reason about the best course of action to achieve its goals.\n",
      "4. Execution: It can execute its plans and take intentional actions to achieve its goals.\n",
      "5. Learning: It can learn from its experiences and adapt its behavior over time.\n",
      "\n",
      "Agentic AI systems are designed to be more autonomous and proactive than traditional rule-based AI systems, which are typically limited to executing specific tasks based on predefined rules. Agentic AI systems are expected to be more flexible, adaptable, and able to handle complex and dynamic environments.\n",
      "\n",
      "Some examples of agentic AI include:\n",
      "\n",
      "1. Personal assistants like Amazon's Alexa or Google Assistant, which can understand voice commands and take actions to achieve specific goals.\n",
      "2. Autonomous vehicles, which can perceive their environment, plan their route, and execute their route to achieve their goal of transporting passengers safely.\n",
      "3. Financial trading systems, which can analyze market data, set investment goals, and execute trades to achieve those goals.\n",
      "4. Virtual assistants like Siri or Google Assistant, which can understand natural language and take actions to achieve specific goals, such as making reservations or sending messages.\n",
      "\n",
      "The development of agentic AI is an active area of research, with many challenges and opportunities still to be explored. Some of the key challenges include:\n",
      "\n",
      "1. Ensuring accountability and transparency in the decision-making process.\n",
      "2. Developing methods for evaluating the trustworthiness and reliability of agentic AI systems.\n",
      "3. Addressing potential biases and ethical concerns in the design and deployment of agentic AI systems.\n",
      "4. Developing methods for human-AI collaboration and integration, to take advantage of the strengths of both humans and AI.\n",
      "\n",
      "Overall, agentic AI has the potential to revolutionize many industries and aspects of our lives, but it also requires careful consideration of the ethical and societal implications of these advanced AI systems.\n"
     ]
    }
   ],
   "source": [
    "# LLM's response\n",
    "print(response[\"messages\"][-1].content)"
   ]
  },
  {
   "cell_type": "code",
   "execution_count": 17,
   "id": "2ddd7c1a",
   "metadata": {},
   "outputs": [
    {
     "name": "stdout",
     "output_type": "stream",
     "text": [
      "I'm just a language model, I don't have emotions or feelings like humans do, but I'm functioning properly and ready to help with any questions or tasks you may have! It's great to interact with you. Is there something specific you'd like to talk about or ask?\n"
     ]
    }
   ],
   "source": [
    "for event in graph.stream({\"messages\": \"Hi How are you?\"}):\n",
    "    for value in event.values():\n",
    "        print(value[\"messages\"][-1].content)"
   ]
  },
  {
   "cell_type": "markdown",
   "id": "58bdf3dc",
   "metadata": {},
   "source": [
    "### Chatbot With Tool"
   ]
  },
  {
   "cell_type": "code",
   "execution_count": 2,
   "id": "030b011b",
   "metadata": {},
   "outputs": [
    {
     "data": {
      "text/plain": [
       "{'query': 'What is Agentic AI?',\n",
       " 'follow_up_questions': None,\n",
       " 'answer': None,\n",
       " 'images': [],\n",
       " 'results': [{'title': 'What Is Agentic AI? - IBM',\n",
       "   'url': 'https://www.ibm.com/think/topics/agentic-ai',\n",
       "   'content': 'What Is Agentic AI? What is agentic AI? What is agentic AI? While generative models focus on creating content based on learned patterns, agentic AI extends this capability by applying generative outputs toward specific goals. A generative AI model like OpenAI’s ChatGPT might produce text, images or code, but an agentic AI system can use that generated content to complete complex tasks autonomously by calling external tools. What are the advantages of agentic AI? How agentic AI works AI orchestration is the coordination and management of systems and agents. Examples of agentic AI Challenges for agentic AI systems Agentic AI systems have massive potential for the enterprise. Many agentic AI systems use reinforcement learning, which involves maximizing a reward function.',\n",
       "   'score': 0.90018827,\n",
       "   'raw_content': None},\n",
       "  {'title': 'What Is Agentic AI? - NVIDIA Blog',\n",
       "   'url': 'https://blogs.nvidia.com/blog/what-is-agentic-ai/',\n",
       "   'content': 'The end-to-end NVIDIA AI platform, including NVIDIA NeMo microservices for developing custom generative AI applications, provides the ability to manage and access data efficiently, which is crucial for building responsive agentic AI applications. To accelerate the adoption of generative AI-powered applications and agents, NVIDIA Blueprints provide sample applications, reference code, sample data, tools and comprehensive documentation. NVIDIA and our third-party partners use cookies and other tools to collect and record information you provide as well as information about your interactions with our websites for performance improvement, analytics, and to assist in our marketing efforts. To opt out of non-cookie personal information \"sales\" / \"sharing\" for targeted advertising purposes, please visit the NVIDIA Preference Center.',\n",
       "   'score': 0.7845341,\n",
       "   'raw_content': None}],\n",
       " 'response_time': 2.37}"
      ]
     },
     "execution_count": 2,
     "metadata": {},
     "output_type": "execute_result"
    }
   ],
   "source": [
    "from langchain_tavily import TavilySearch\n",
    "\n",
    "tool= TavilySearch(max_results=2)\n",
    "tool.invoke(\"What is Agentic AI?\")"
   ]
  },
  {
   "cell_type": "code",
   "execution_count": null,
   "id": "dcf2acfa",
   "metadata": {},
   "outputs": [
    {
     "name": "stdout",
     "output_type": "stream",
     "text": [
      "Hello\n"
     ]
    }
   ],
   "source": [
    "print(\"Hi\")"
   ]
  }
 ],
 "metadata": {
  "kernelspec": {
   "display_name": "AgenticAILangGraph",
   "language": "python",
   "name": "python3"
  },
  "language_info": {
   "codemirror_mode": {
    "name": "ipython",
    "version": 3
   },
   "file_extension": ".py",
   "mimetype": "text/x-python",
   "name": "python",
   "nbconvert_exporter": "python",
   "pygments_lexer": "ipython3",
   "version": "3.13.2"
  }
 },
 "nbformat": 4,
 "nbformat_minor": 5
}
