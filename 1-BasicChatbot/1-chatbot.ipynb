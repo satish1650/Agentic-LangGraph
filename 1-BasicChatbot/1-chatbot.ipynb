{
 "cells": [
  {
   "cell_type": "markdown",
   "id": "d934c12f",
   "metadata": {},
   "source": [
    "### Build A Basic Chatbot With Langgraph(GRAPH API)"
   ]
  },
  {
   "cell_type": "code",
   "execution_count": 1,
   "id": "5209e1da",
   "metadata": {},
   "outputs": [],
   "source": [
    "from langchain_groq import ChatGroq\n",
    "from langchain.chat_models import init_chat_model \n",
    "from typing import Annotated\n",
    "from typing_extensions import TypedDict \n",
    "from langgraph.graph import StateGraph, START, END\n",
    "from langgraph.graph.message import add_messages"
   ]
  },
  {
   "cell_type": "code",
   "execution_count": 2,
   "id": "b249690f",
   "metadata": {},
   "outputs": [
    {
     "data": {
      "text/plain": [
       "True"
      ]
     },
     "execution_count": 2,
     "metadata": {},
     "output_type": "execute_result"
    }
   ],
   "source": [
    "import os \n",
    "from dotenv import load_dotenv \n",
    "load_dotenv()"
   ]
  },
  {
   "cell_type": "code",
   "execution_count": 3,
   "id": "f00088d0",
   "metadata": {},
   "outputs": [],
   "source": [
    "llm= ChatGroq(model=\"llama3-8b-8192\")"
   ]
  },
  {
   "cell_type": "code",
   "execution_count": 4,
   "id": "bf007ef0",
   "metadata": {},
   "outputs": [
    {
     "data": {
      "text/plain": [
       "ChatGroq(client=<groq.resources.chat.completions.Completions object at 0x000001AB36C3D2B0>, async_client=<groq.resources.chat.completions.AsyncCompletions object at 0x000001AB36C3DE80>, model_name='llama3-8b-8192', model_kwargs={}, groq_api_key=SecretStr('**********'))"
      ]
     },
     "execution_count": 4,
     "metadata": {},
     "output_type": "execute_result"
    }
   ],
   "source": [
    "llm"
   ]
  },
  {
   "cell_type": "code",
   "execution_count": 5,
   "id": "39de186a",
   "metadata": {},
   "outputs": [],
   "source": [
    "llm= init_chat_model(\"groq:llama3-8b-8192\")"
   ]
  },
  {
   "cell_type": "code",
   "execution_count": 6,
   "id": "47c9619d",
   "metadata": {},
   "outputs": [
    {
     "data": {
      "text/plain": [
       "ChatGroq(client=<groq.resources.chat.completions.Completions object at 0x000001AB36D451D0>, async_client=<groq.resources.chat.completions.AsyncCompletions object at 0x000001AB36D45BD0>, model_name='llama3-8b-8192', model_kwargs={}, groq_api_key=SecretStr('**********'))"
      ]
     },
     "execution_count": 6,
     "metadata": {},
     "output_type": "execute_result"
    }
   ],
   "source": [
    "llm"
   ]
  },
  {
   "cell_type": "code",
   "execution_count": 7,
   "id": "af5df04b",
   "metadata": {},
   "outputs": [],
   "source": [
    "# Define State\n",
    "\n",
    "class State(TypedDict):\n",
    "    \"\"\" \n",
    "    # Messages have the type \"list\". The `add_messages` function\n",
    "    # in the annotation defines how this state key should be updated\n",
    "    # (in this case, it appends messages to the list, rather than overwriting them)\n",
    "    \"\"\"\n",
    "    messages: Annotated[list, add_messages]"
   ]
  },
  {
   "cell_type": "code",
   "execution_count": 8,
   "id": "c310d29f",
   "metadata": {},
   "outputs": [],
   "source": [
    "# Node Functionality\n",
    "def chatbot(state: State):\n",
    "    # messages= state[\"messages\"]\n",
    "    # response= llm.invoke(messages)\n",
    "    # return {\"messages\": [response]}\n",
    "\n",
    "    return {\"messages\": [llm.invoke(state[\"messages\"])]}"
   ]
  },
  {
   "cell_type": "code",
   "execution_count": 9,
   "id": "b46042c6",
   "metadata": {},
   "outputs": [],
   "source": [
    "# Initialize the State Graph\n",
    "graph_builder= StateGraph(State)\n",
    "\n",
    "# Adding node\n",
    "graph_builder.add_node(\"llmchatbot\", chatbot)\n",
    "graph_builder.add_edge(START, \"llmchatbot\")\n",
    "graph_builder.add_edge(\"llmchatbot\", END)\n",
    "\n",
    "# compile the graph\n",
    "graph= graph_builder.compile()"
   ]
  },
  {
   "cell_type": "code",
   "execution_count": 10,
   "id": "110d03e8",
   "metadata": {},
   "outputs": [
    {
     "data": {
      "image/png": "[encoded data removed]",
      "text/plain": [
       "<IPython.core.display.Image object>"
      ]
     },
     "metadata": {},
     "output_type": "display_data"
    }
   ],
   "source": [
    "# Visualize the graph\n",
    "from IPython.display import Image, display\n",
    "\n",
    "try:\n",
    "    display(Image(graph.get_graph(xray=True).draw_mermaid_png()))\n",
    "except Exception as ex:\n",
    "    pass "
   ]
  },
  {
   "cell_type": "code",
   "execution_count": 11,
   "id": "6db7ee1f",
   "metadata": {},
   "outputs": [
    {
     "data": {
      "text/plain": [
       "{'messages': [HumanMessage(content='Hi', additional_kwargs={}, response_metadata={}, id='d446aeb3-c2ac-44cd-ac97-4d545e4d28ce'),\n",
       "  AIMessage(content=\"Hi! It's nice to meet you. Is there something I can help you with or would you like to chat?\", additional_kwargs={}, response_metadata={'token_usage': {'completion_tokens': 25, 'prompt_tokens': 11, 'total_tokens': 36, 'completion_time': 0.02826611, 'prompt_time': 0.002513865, 'queue_time': 0.269679434, 'total_time': 0.030779975}, 'model_name': 'llama3-8b-8192', 'system_fingerprint': 'fp_8dc6ecaf8e', 'finish_reason': 'stop', 'logprobs': None}, id='run--2eb314a2-f0ff-4f94-b832-d9d626f76932-0', usage_metadata={'input_tokens': 11, 'output_tokens': 25, 'total_tokens': 36})]}"
      ]
     },
     "execution_count": 11,
     "metadata": {},
     "output_type": "execute_result"
    }
   ],
   "source": [
    "graph.invoke({\"messages\": [\"Hi\"]})"
   ]
  },
  {
   "cell_type": "code",
   "execution_count": 12,
   "id": "2d4605fc",
   "metadata": {},
   "outputs": [
    {
     "data": {
      "text/plain": [
       "AIMessage(content='Agentic AI refers to artificial intelligence (AI) systems that are designed to exhibit autonomous decision-making, problem-solving, and goal-directed behavior, similar to human agents. These systems are capable of initiating actions, responding to situations, and adapting to new information, all while pursuing specific objectives.\\n\\nIn other words, agentic AI systems are designed to be proactive, rather than simply reactive. They are able to take the initiative, make decisions, and execute actions without being explicitly instructed or controlled by humans. This ability to act autonomously is often referred to as \"agency\" in the context of AI.\\n\\nSome key characteristics of agentic AI include:\\n\\n1. **Autonomy**: The ability to make decisions and take actions without human intervention or control.\\n2. **Goal-directed behavior**: The ability to pursue specific objectives or goals, and adjust behavior accordingly.\\n3. **Initiative**: The ability to take the initiative and start actions without being prompted or instructed.\\n4. **Self-monitoring and self-correction**: The ability to monitor and adjust its own behavior to achieve goals or respond to changing situations.\\n5. **Adaptability**: The ability to adapt to new information, changing circumstances, or unexpected events.\\n\\nAgentic AI systems can be found in various domains, such as:\\n\\n1. **Robotics**: Autonomous robots that can navigate and interact with their environment to achieve specific tasks.\\n2. **Computer systems**: AI-powered systems that can automate tasks, make decisions, and respond to user inputs.\\n3. **Game playing**: AI systems that can play games like chess, Go, or poker, making decisions and adapting to the game state.\\n4. **Virtual assistants**: AI-powered virtual assistants that can understand voice commands, provide recommendations, and execute tasks.\\n\\nThe development of agentic AI is an active area of research, with significant implications for various fields, including robotics, computer science, philosophy, and law.', additional_kwargs={}, response_metadata={'token_usage': {'completion_tokens': 383, 'prompt_tokens': 16, 'total_tokens': 399, 'completion_time': 0.341795895, 'prompt_time': 0.002637341, 'queue_time': 0.275334781, 'total_time': 0.344433236}, 'model_name': 'llama3-8b-8192', 'system_fingerprint': 'fp_8b7c3a83f7', 'finish_reason': 'stop', 'logprobs': None}, id='run--32c0f857-8aa2-4d57-ac34-387f8d4b29b2-0', usage_metadata={'input_tokens': 16, 'output_tokens': 383, 'total_tokens': 399})"
      ]
     },
     "execution_count": 12,
     "metadata": {},
     "output_type": "execute_result"
    }
   ],
   "source": [
    "response= graph.invoke({\"messages\": [\"What is Agentic AI?\"]})\n",
    "# Print Last Messages\n",
    "response[\"messages\"][-1]"
   ]
  },
  {
   "cell_type": "code",
   "execution_count": 13,
   "id": "a5951738",
   "metadata": {},
   "outputs": [
    {
     "data": {
      "text/plain": [
       "HumanMessage(content='What is Agentic AI?', additional_kwargs={}, response_metadata={}, id='69df20ab-d642-4b6e-a06b-c99c2dd2ff5b')"
      ]
     },
     "execution_count": 13,
     "metadata": {},
     "output_type": "execute_result"
    }
   ],
   "source": [
    "# Print First Messages\n",
    "response[\"messages\"][0]"
   ]
  },
  {
   "cell_type": "code",
   "execution_count": 14,
   "id": "df41a2e7",
   "metadata": {},
   "outputs": [
    {
     "name": "stdout",
     "output_type": "stream",
     "text": [
      "What is Agentic AI?\n"
     ]
    }
   ],
   "source": [
    "# User's Question\n",
    "print(response[\"messages\"][0].content)"
   ]
  },
  {
   "cell_type": "code",
   "execution_count": 15,
   "id": "d4dc55e9",
   "metadata": {},
   "outputs": [
    {
     "name": "stdout",
     "output_type": "stream",
     "text": [
      "Agentic AI refers to artificial intelligence (AI) systems that are designed to exhibit autonomous decision-making, problem-solving, and goal-directed behavior, similar to human agents. These systems are capable of initiating actions, responding to situations, and adapting to new information, all while pursuing specific objectives.\n",
      "\n",
      "In other words, agentic AI systems are designed to be proactive, rather than simply reactive. They are able to take the initiative, make decisions, and execute actions without being explicitly instructed or controlled by humans. This ability to act autonomously is often referred to as \"agency\" in the context of AI.\n",
      "\n",
      "Some key characteristics of agentic AI include:\n",
      "\n",
      "1. **Autonomy**: The ability to make decisions and take actions without human intervention or control.\n",
      "2. **Goal-directed behavior**: The ability to pursue specific objectives or goals, and adjust behavior accordingly.\n",
      "3. **Initiative**: The ability to take the initiative and start actions without being prompted or instructed.\n",
      "4. **Self-monitoring and self-correction**: The ability to monitor and adjust its own behavior to achieve goals or respond to changing situations.\n",
      "5. **Adaptability**: The ability to adapt to new information, changing circumstances, or unexpected events.\n",
      "\n",
      "Agentic AI systems can be found in various domains, such as:\n",
      "\n",
      "1. **Robotics**: Autonomous robots that can navigate and interact with their environment to achieve specific tasks.\n",
      "2. **Computer systems**: AI-powered systems that can automate tasks, make decisions, and respond to user inputs.\n",
      "3. **Game playing**: AI systems that can play games like chess, Go, or poker, making decisions and adapting to the game state.\n",
      "4. **Virtual assistants**: AI-powered virtual assistants that can understand voice commands, provide recommendations, and execute tasks.\n",
      "\n",
      "The development of agentic AI is an active area of research, with significant implications for various fields, including robotics, computer science, philosophy, and law.\n"
     ]
    }
   ],
   "source": [
    "# LLM's response\n",
    "print(response[\"messages\"][-1].content)"
   ]
  },
  {
   "cell_type": "code",
   "execution_count": 16,
   "id": "2ddd7c1a",
   "metadata": {},
   "outputs": [
    {
     "name": "stdout",
     "output_type": "stream",
     "text": [
      "I'm just a language model, I don't have emotions or feelings like humans do, so I don't have a good or bad day. However, I'm functioning properly and ready to help you with any questions or tasks you may have! How can I assist you today?\n"
     ]
    }
   ],
   "source": [
    "for event in graph.stream({\"messages\": \"Hi How are you?\"}):\n",
    "    for value in event.values():\n",
    "        print(value[\"messages\"][-1].content)"
   ]
  },
  {
   "cell_type": "markdown",
   "id": "58bdf3dc",
   "metadata": {},
   "source": [
    "### Chatbot With Tool"
   ]
  },
  {
   "cell_type": "code",
   "execution_count": 17,
   "id": "030b011b",
   "metadata": {},
   "outputs": [
    {
     "data": {
      "text/plain": [
       "{'query': 'What is Agentic AI?',\n",
       " 'follow_up_questions': None,\n",
       " 'answer': None,\n",
       " 'images': [],\n",
       " 'results': [{'title': 'What Is Agentic AI? - IBM',\n",
       "   'url': 'https://www.ibm.com/think/topics/agentic-ai',\n",
       "   'content': 'What Is Agentic AI? What is agentic AI? What is agentic AI? While generative models focus on creating content based on learned patterns, agentic AI extends this capability by applying generative outputs toward specific goals. A generative AI model like OpenAI’s ChatGPT might produce text, images or code, but an agentic AI system can use that generated content to complete complex tasks autonomously by calling external tools. What are the advantages of agentic AI? How agentic AI works AI orchestration is the coordination and management of systems and agents. Examples of agentic AI Challenges for agentic AI systems Agentic AI systems have massive potential for the enterprise. Many agentic AI systems use reinforcement learning, which involves maximizing a reward function.',\n",
       "   'score': 0.90018827,\n",
       "   'raw_content': None},\n",
       "  {'title': 'What Is Agentic AI? - NVIDIA Blog',\n",
       "   'url': 'https://blogs.nvidia.com/blog/what-is-agentic-ai/',\n",
       "   'content': 'The end-to-end NVIDIA AI platform, including NVIDIA NeMo microservices for developing custom generative AI applications, provides the ability to manage and access data efficiently, which is crucial for building responsive agentic AI applications. To accelerate the adoption of generative AI-powered applications and agents, NVIDIA Blueprints provide sample applications, reference code, sample data, tools and comprehensive documentation. NVIDIA and our third-party partners use cookies and other tools to collect and record information you provide as well as information about your interactions with our websites for performance improvement, analytics, and to assist in our marketing efforts. To opt out of non-cookie personal information \"sales\" / \"sharing\" for targeted advertising purposes, please visit the NVIDIA Preference Center.',\n",
       "   'score': 0.7845341,\n",
       "   'raw_content': None}],\n",
       " 'response_time': 1.83}"
      ]
     },
     "execution_count": 17,
     "metadata": {},
     "output_type": "execute_result"
    }
   ],
   "source": [
    "from langchain_tavily import TavilySearch\n",
    "\n",
    "tool= TavilySearch(max_results=2)\n",
    "tool.invoke(\"What is Agentic AI?\")"
   ]
  },
  {
   "cell_type": "code",
   "execution_count": 18,
   "id": "31a1790b",
   "metadata": {},
   "outputs": [
    {
     "data": {
      "text/plain": [
       "'tavily_search'"
      ]
     },
     "execution_count": 18,
     "metadata": {},
     "output_type": "execute_result"
    }
   ],
   "source": [
    "tool.name"
   ]
  },
  {
   "cell_type": "code",
   "execution_count": 19,
   "id": "b2a09c82",
   "metadata": {},
   "outputs": [
    {
     "data": {
      "text/plain": [
       "{'query': {'description': 'Search query to look up',\n",
       "  'title': 'Query',\n",
       "  'type': 'string'},\n",
       " 'include_domains': {'anyOf': [{'items': {'type': 'string'}, 'type': 'array'},\n",
       "   {'type': 'null'}],\n",
       "  'default': [],\n",
       "  'description': 'A list of domains to restrict search results to.\\n\\n        Use this parameter when:\\n        1. The user explicitly requests information from specific websites (e.g., \"Find climate data from nasa.gov\")\\n        2. The user mentions an organization or company without specifying the domain (e.g., \"Find information about iPhones from Apple\")\\n\\n        In both cases, you should determine the appropriate domains (e.g., [\"nasa.gov\"] or [\"apple.com\"]) and set this parameter.\\n\\n        Results will ONLY come from the specified domains - no other sources will be included.\\n        Default is None (no domain restriction).\\n        ',\n",
       "  'title': 'Include Domains'},\n",
       " 'exclude_domains': {'anyOf': [{'items': {'type': 'string'}, 'type': 'array'},\n",
       "   {'type': 'null'}],\n",
       "  'default': [],\n",
       "  'description': 'A list of domains to exclude from search results.\\n\\n        Use this parameter when:\\n        1. The user explicitly requests to avoid certain websites (e.g., \"Find information about climate change but not from twitter.com\")\\n        2. The user mentions not wanting results from specific organizations without naming the domain (e.g., \"Find phone reviews but nothing from Apple\")\\n\\n        In both cases, you should determine the appropriate domains to exclude (e.g., [\"twitter.com\"] or [\"apple.com\"]) and set this parameter.\\n\\n        Results will filter out all content from the specified domains.\\n        Default is None (no domain exclusion).\\n        ',\n",
       "  'title': 'Exclude Domains'},\n",
       " 'search_depth': {'anyOf': [{'enum': ['basic', 'advanced'], 'type': 'string'},\n",
       "   {'type': 'null'}],\n",
       "  'default': 'basic',\n",
       "  'description': 'Controls search thoroughness and result comprehensiveness.\\n    \\n        Use \"basic\" for simple queries requiring quick, straightforward answers.\\n        \\n        Use \"advanced\" (default) for complex queries, specialized topics, \\n        rare information, or when in-depth analysis is needed.\\n        ',\n",
       "  'title': 'Search Depth'},\n",
       " 'include_images': {'anyOf': [{'type': 'boolean'}, {'type': 'null'}],\n",
       "  'default': False,\n",
       "  'description': 'Determines if the search returns relevant images along with text results.\\n   \\n        Set to True when the user explicitly requests visuals or when images would \\n        significantly enhance understanding (e.g., \"Show me what black holes look like,\" \\n        \"Find pictures of Renaissance art\").\\n        \\n        Leave as False (default) for most informational queries where text is sufficient.\\n        ',\n",
       "  'title': 'Include Images'},\n",
       " 'time_range': {'anyOf': [{'enum': ['day', 'week', 'month', 'year'],\n",
       "    'type': 'string'},\n",
       "   {'type': 'null'}],\n",
       "  'default': None,\n",
       "  'description': 'Limits results to content published within a specific timeframe.\\n        \\n        ONLY set this when the user explicitly mentions a time period \\n        (e.g., \"latest AI news,\" \"articles from last week\").\\n        \\n        For less popular or niche topics, use broader time ranges \\n        (\"month\" or \"year\") to ensure sufficient relevant results.\\n   \\n        Options: \"day\" (24h), \"week\" (7d), \"month\" (30d), \"year\" (365d).\\n        \\n        Default is None.\\n        ',\n",
       "  'title': 'Time Range'},\n",
       " 'topic': {'anyOf': [{'enum': ['general', 'news', 'finance'],\n",
       "    'type': 'string'},\n",
       "   {'type': 'null'}],\n",
       "  'default': 'general',\n",
       "  'description': 'Specifies search category for optimized results.\\n   \\n        Use \"general\" (default) for most queries, INCLUDING those with terms like \\n        \"latest,\" \"newest,\" or \"recent\" when referring to general information.\\n\\n        Use \"finance\" for markets, investments, economic data, or financial news.\\n\\n        Use \"news\" ONLY for politics, sports, or major current events covered by \\n        mainstream media - NOT simply because a query asks for \"new\" information.\\n        ',\n",
       "  'title': 'Topic'}}"
      ]
     },
     "execution_count": 19,
     "metadata": {},
     "output_type": "execute_result"
    }
   ],
   "source": [
    "tool.args"
   ]
  },
  {
   "cell_type": "code",
   "execution_count": 20,
   "id": "67ecac1f",
   "metadata": {},
   "outputs": [
    {
     "data": {
      "text/plain": [
       "'A search engine optimized for comprehensive, accurate, and trusted results. Useful for when you need to answer questions about current events. It not only retrieves URLs and snippets, but offers advanced search depths, domain management, time range filters, and image search, this tool delivers real-time, accurate, and citation-backed results.Input should be a search query.'"
      ]
     },
     "execution_count": 20,
     "metadata": {},
     "output_type": "execute_result"
    }
   ],
   "source": [
    "tool.description"
   ]
  },
  {
   "cell_type": "code",
   "execution_count": 21,
   "id": "83da355f",
   "metadata": {},
   "outputs": [],
   "source": [
    "# Custom function\n",
    "def multiply(a:int, b:int) -> int:\n",
    "    \"\"\"Multiply a and b\n",
    "\n",
    "    Args:\n",
    "        a (int): first int\n",
    "        b (int): second int\n",
    "\n",
    "    Returns:\n",
    "        int: output int\n",
    "    \"\"\"\n",
    "    return a*b"
   ]
  },
  {
   "cell_type": "code",
   "execution_count": 22,
   "id": "7ce60055",
   "metadata": {},
   "outputs": [],
   "source": [
    "tools= [tool, multiply]"
   ]
  },
  {
   "cell_type": "code",
   "execution_count": 23,
   "id": "feeb0424",
   "metadata": {},
   "outputs": [],
   "source": [
    "llm_with_tools= llm.bind_tools(tools)"
   ]
  },
  {
   "cell_type": "code",
   "execution_count": 24,
   "id": "9047c282",
   "metadata": {},
   "outputs": [
    {
     "data": {
      "text/plain": [
       "RunnableBinding(bound=ChatGroq(client=<groq.resources.chat.completions.Completions object at 0x000001AB36D451D0>, async_client=<groq.resources.chat.completions.AsyncCompletions object at 0x000001AB36D45BD0>, model_name='llama3-8b-8192', model_kwargs={}, groq_api_key=SecretStr('**********')), kwargs={'tools': [{'type': 'function', 'function': {'name': 'tavily_search', 'description': 'A search engine optimized for comprehensive, accurate, and trusted results. Useful for when you need to answer questions about current events. It not only retrieves URLs and snippets, but offers advanced search depths, domain management, time range filters, and image search, this tool delivers real-time, accurate, and citation-backed results.Input should be a search query.', 'parameters': {'properties': {'query': {'description': 'Search query to look up', 'type': 'string'}, 'include_domains': {'anyOf': [{'items': {'type': 'string'}, 'type': 'array'}, {'type': 'null'}], 'default': [], 'description': 'A list of domains to restrict search results to.\\n\\n        Use this parameter when:\\n        1. The user explicitly requests information from specific websites (e.g., \"Find climate data from nasa.gov\")\\n        2. The user mentions an organization or company without specifying the domain (e.g., \"Find information about iPhones from Apple\")\\n\\n        In both cases, you should determine the appropriate domains (e.g., [\"nasa.gov\"] or [\"apple.com\"]) and set this parameter.\\n\\n        Results will ONLY come from the specified domains - no other sources will be included.\\n        Default is None (no domain restriction).\\n        '}, 'exclude_domains': {'anyOf': [{'items': {'type': 'string'}, 'type': 'array'}, {'type': 'null'}], 'default': [], 'description': 'A list of domains to exclude from search results.\\n\\n        Use this parameter when:\\n        1. The user explicitly requests to avoid certain websites (e.g., \"Find information about climate change but not from twitter.com\")\\n        2. The user mentions not wanting results from specific organizations without naming the domain (e.g., \"Find phone reviews but nothing from Apple\")\\n\\n        In both cases, you should determine the appropriate domains to exclude (e.g., [\"twitter.com\"] or [\"apple.com\"]) and set this parameter.\\n\\n        Results will filter out all content from the specified domains.\\n        Default is None (no domain exclusion).\\n        '}, 'search_depth': {'anyOf': [{'enum': ['basic', 'advanced'], 'type': 'string'}, {'type': 'null'}], 'default': 'basic', 'description': 'Controls search thoroughness and result comprehensiveness.\\n    \\n        Use \"basic\" for simple queries requiring quick, straightforward answers.\\n        \\n        Use \"advanced\" (default) for complex queries, specialized topics, \\n        rare information, or when in-depth analysis is needed.\\n        '}, 'include_images': {'anyOf': [{'type': 'boolean'}, {'type': 'null'}], 'default': False, 'description': 'Determines if the search returns relevant images along with text results.\\n   \\n        Set to True when the user explicitly requests visuals or when images would \\n        significantly enhance understanding (e.g., \"Show me what black holes look like,\" \\n        \"Find pictures of Renaissance art\").\\n        \\n        Leave as False (default) for most informational queries where text is sufficient.\\n        '}, 'time_range': {'anyOf': [{'enum': ['day', 'week', 'month', 'year'], 'type': 'string'}, {'type': 'null'}], 'default': None, 'description': 'Limits results to content published within a specific timeframe.\\n        \\n        ONLY set this when the user explicitly mentions a time period \\n        (e.g., \"latest AI news,\" \"articles from last week\").\\n        \\n        For less popular or niche topics, use broader time ranges \\n        (\"month\" or \"year\") to ensure sufficient relevant results.\\n   \\n        Options: \"day\" (24h), \"week\" (7d), \"month\" (30d), \"year\" (365d).\\n        \\n        Default is None.\\n        '}, 'topic': {'anyOf': [{'enum': ['general', 'news', 'finance'], 'type': 'string'}, {'type': 'null'}], 'default': 'general', 'description': 'Specifies search category for optimized results.\\n   \\n        Use \"general\" (default) for most queries, INCLUDING those with terms like \\n        \"latest,\" \"newest,\" or \"recent\" when referring to general information.\\n\\n        Use \"finance\" for markets, investments, economic data, or financial news.\\n\\n        Use \"news\" ONLY for politics, sports, or major current events covered by \\n        mainstream media - NOT simply because a query asks for \"new\" information.\\n        '}}, 'required': ['query'], 'type': 'object'}}}, {'type': 'function', 'function': {'name': 'multiply', 'description': 'Multiply a and b', 'parameters': {'properties': {'a': {'description': 'first int', 'type': 'integer'}, 'b': {'description': 'second int', 'type': 'integer'}}, 'required': ['a', 'b'], 'type': 'object'}}}]}, config={}, config_factories=[])"
      ]
     },
     "execution_count": 24,
     "metadata": {},
     "output_type": "execute_result"
    }
   ],
   "source": [
    "llm_with_tools"
   ]
  },
  {
   "cell_type": "code",
   "execution_count": 25,
   "id": "c43127af",
   "metadata": {},
   "outputs": [],
   "source": [
    "import operator\n",
    "from langgraph.graph import StateGraph, MessagesState, START, END\n",
    "from langgraph.prebuilt import ToolNode, tools_condition\n",
    "from typing import List, Annotated, Sequence, TypedDict \n",
    "# from typing_extensions import TypedDict\n",
    "from langchain_core.messages import BaseMessage"
   ]
  },
  {
   "cell_type": "code",
   "execution_count": 26,
   "id": "3c8ec4ff",
   "metadata": {},
   "outputs": [],
   "source": [
    "class AgentState(TypedDict):\n",
    "    messages: Annotated[Sequence[BaseMessage], operator.add]"
   ]
  },
  {
   "cell_type": "code",
   "execution_count": 27,
   "id": "5a0a3909",
   "metadata": {},
   "outputs": [],
   "source": [
    "# Node definition\n",
    "def tool_calling_llm(state: AgentState):\n",
    "    # messages= state[\"messages\"]\n",
    "    # response= llm_with_tools.invoke(messages)\n",
    "    # return {\"messages\": [response]}\n",
    "\n",
    "    return {\"messages\": [llm_with_tools.invoke(state[\"messages\"])]}"
   ]
  },
  {
   "cell_type": "code",
   "execution_count": 28,
   "id": "134f35f0",
   "metadata": {},
   "outputs": [],
   "source": [
    "# Grpah\n",
    "builder= StateGraph(AgentState)\n",
    "\n",
    "# Add Nodes\n",
    "builder.add_node(\"tool_calling_llm\", tool_calling_llm)\n",
    "builder.add_node(\"tools\", ToolNode(tools))\n",
    "\n",
    "# Add Edges\n",
    "builder.add_edge(START, \"tool_calling_llm\")\n",
    "builder.add_edge(\"tool_calling_llm\", \"tools\")\n",
    "\n",
    "# Add Conditional Edges\n",
    "builder.add_conditional_edges(\n",
    "    \"tool_calling_llm\",\n",
    "    # If the latest message (result) from assistant is a tool call -> tools_condition routes to tools\n",
    "    # If the latest message (result) from assistant is a not a tool call -> tools_condition routes to END\n",
    "    tools_condition\n",
    ")\n",
    "# Add Edge\n",
    "builder.add_edge(\"tools\", END)\n",
    "\n",
    "# Compile the Graph\n",
    "graph= builder.compile()"
   ]
  },
  {
   "cell_type": "code",
   "execution_count": 29,
   "id": "35bdd538",
   "metadata": {},
   "outputs": [
    {
     "data": {
      "image/png": "[encoded data removed]",
      "text/plain": [
       "<IPython.core.display.Image object>"
      ]
     },
     "metadata": {},
     "output_type": "display_data"
    }
   ],
   "source": [
    "# Visualize the Graph\n",
    "from IPython.display import display, Image\n",
    "\n",
    "display(Image(graph.get_graph(xray=True).draw_mermaid_png()))"
   ]
  },
  {
   "cell_type": "code",
   "execution_count": 30,
   "id": "1a7ced29",
   "metadata": {},
   "outputs": [
    {
     "data": {
      "text/plain": [
       "HumanMessage(content='What is Agentic AI?', additional_kwargs={}, response_metadata={}, id='69df20ab-d642-4b6e-a06b-c99c2dd2ff5b')"
      ]
     },
     "execution_count": 30,
     "metadata": {},
     "output_type": "execute_result"
    }
   ],
   "source": [
    "# Question\n",
    "response[\"messages\"][-0]"
   ]
  },
  {
   "cell_type": "code",
   "execution_count": 31,
   "id": "ab494df2",
   "metadata": {},
   "outputs": [
    {
     "data": {
      "text/plain": [
       "AIMessage(content='Agentic AI refers to artificial intelligence (AI) systems that are designed to exhibit autonomous decision-making, problem-solving, and goal-directed behavior, similar to human agents. These systems are capable of initiating actions, responding to situations, and adapting to new information, all while pursuing specific objectives.\\n\\nIn other words, agentic AI systems are designed to be proactive, rather than simply reactive. They are able to take the initiative, make decisions, and execute actions without being explicitly instructed or controlled by humans. This ability to act autonomously is often referred to as \"agency\" in the context of AI.\\n\\nSome key characteristics of agentic AI include:\\n\\n1. **Autonomy**: The ability to make decisions and take actions without human intervention or control.\\n2. **Goal-directed behavior**: The ability to pursue specific objectives or goals, and adjust behavior accordingly.\\n3. **Initiative**: The ability to take the initiative and start actions without being prompted or instructed.\\n4. **Self-monitoring and self-correction**: The ability to monitor and adjust its own behavior to achieve goals or respond to changing situations.\\n5. **Adaptability**: The ability to adapt to new information, changing circumstances, or unexpected events.\\n\\nAgentic AI systems can be found in various domains, such as:\\n\\n1. **Robotics**: Autonomous robots that can navigate and interact with their environment to achieve specific tasks.\\n2. **Computer systems**: AI-powered systems that can automate tasks, make decisions, and respond to user inputs.\\n3. **Game playing**: AI systems that can play games like chess, Go, or poker, making decisions and adapting to the game state.\\n4. **Virtual assistants**: AI-powered virtual assistants that can understand voice commands, provide recommendations, and execute tasks.\\n\\nThe development of agentic AI is an active area of research, with significant implications for various fields, including robotics, computer science, philosophy, and law.', additional_kwargs={}, response_metadata={'token_usage': {'completion_tokens': 383, 'prompt_tokens': 16, 'total_tokens': 399, 'completion_time': 0.341795895, 'prompt_time': 0.002637341, 'queue_time': 0.275334781, 'total_time': 0.344433236}, 'model_name': 'llama3-8b-8192', 'system_fingerprint': 'fp_8b7c3a83f7', 'finish_reason': 'stop', 'logprobs': None}, id='run--32c0f857-8aa2-4d57-ac34-387f8d4b29b2-0', usage_metadata={'input_tokens': 16, 'output_tokens': 383, 'total_tokens': 399})"
      ]
     },
     "execution_count": 31,
     "metadata": {},
     "output_type": "execute_result"
    }
   ],
   "source": [
    "# Response from tools\n",
    "response[\"messages\"][-1]"
   ]
  },
  {
   "cell_type": "code",
   "execution_count": 32,
   "id": "6baa759e",
   "metadata": {},
   "outputs": [
    {
     "data": {
      "text/plain": [
       "'Agentic AI refers to artificial intelligence (AI) systems that are designed to exhibit autonomous decision-making, problem-solving, and goal-directed behavior, similar to human agents. These systems are capable of initiating actions, responding to situations, and adapting to new information, all while pursuing specific objectives.\\n\\nIn other words, agentic AI systems are designed to be proactive, rather than simply reactive. They are able to take the initiative, make decisions, and execute actions without being explicitly instructed or controlled by humans. This ability to act autonomously is often referred to as \"agency\" in the context of AI.\\n\\nSome key characteristics of agentic AI include:\\n\\n1. **Autonomy**: The ability to make decisions and take actions without human intervention or control.\\n2. **Goal-directed behavior**: The ability to pursue specific objectives or goals, and adjust behavior accordingly.\\n3. **Initiative**: The ability to take the initiative and start actions without being prompted or instructed.\\n4. **Self-monitoring and self-correction**: The ability to monitor and adjust its own behavior to achieve goals or respond to changing situations.\\n5. **Adaptability**: The ability to adapt to new information, changing circumstances, or unexpected events.\\n\\nAgentic AI systems can be found in various domains, such as:\\n\\n1. **Robotics**: Autonomous robots that can navigate and interact with their environment to achieve specific tasks.\\n2. **Computer systems**: AI-powered systems that can automate tasks, make decisions, and respond to user inputs.\\n3. **Game playing**: AI systems that can play games like chess, Go, or poker, making decisions and adapting to the game state.\\n4. **Virtual assistants**: AI-powered virtual assistants that can understand voice commands, provide recommendations, and execute tasks.\\n\\nThe development of agentic AI is an active area of research, with significant implications for various fields, including robotics, computer science, philosophy, and law.'"
      ]
     },
     "execution_count": 32,
     "metadata": {},
     "output_type": "execute_result"
    }
   ],
   "source": [
    "response[\"messages\"][-1].content"
   ]
  },
  {
   "cell_type": "code",
   "execution_count": 33,
   "id": "9620a5e5",
   "metadata": {},
   "outputs": [
    {
     "data": {
      "text/plain": [
       "{'messages': ['What is the recent ai news']}"
      ]
     },
     "execution_count": 33,
     "metadata": {},
     "output_type": "execute_result"
    }
   ],
   "source": [
    "state= {\"messages\": [\"What is the recent ai news\"]}\n",
    "state "
   ]
  },
  {
   "cell_type": "code",
   "execution_count": 34,
   "id": "782532a5",
   "metadata": {},
   "outputs": [
    {
     "name": "stdout",
     "output_type": "stream",
     "text": [
      "Output from tool_calling_llm Node\n",
      "_________________________________\n",
      "{'messages': [AIMessage(content='', additional_kwargs={'tool_calls': [{'id': 'saktrhbva', 'function': {'arguments': '{\"exclude_domains\":[],\"include_domains\":[],\"include_images\":false,\"query\":\"recent ai news\",\"search_depth\":\"advanced\",\"time_range\":\"day\",\"topic\":\"news\"}', 'name': 'tavily_search'}, 'type': 'function'}]}, response_metadata={'token_usage': {'completion_tokens': 112, 'prompt_tokens': 2194, 'total_tokens': 2306, 'completion_time': 0.128432013, 'prompt_time': 0.242734873, 'queue_time': 0.270743846, 'total_time': 0.371166886}, 'model_name': 'llama3-8b-8192', 'system_fingerprint': 'fp_8af39bf2ae', 'finish_reason': 'tool_calls', 'logprobs': None}, id='run--1b141134-c3cd-456d-ab92-14ba009359fd-0', tool_calls=[{'name': 'tavily_search', 'args': {'exclude_domains': [], 'include_domains': [], 'include_images': False, 'query': 'recent ai news', 'search_depth': 'advanced', 'time_range': 'day', 'topic': 'news'}, 'id': 'saktrhbva', 'type': 'tool_call'}], usage_metadata={'input_tokens': 2194, 'output_tokens': 112, 'total_tokens': 2306})]}\n",
      "\n",
      "\n",
      "Output from tools Node\n",
      "_________________________________\n",
      "{'messages': [ToolMessage(content='{\"query\": \"recent ai news\", \"follow_up_questions\": null, \"answer\": null, \"images\": [], \"results\": [{\"url\": \"https://techcrunch.com/2025/06/20/mira-muratis-thinking-machines-lab-closes-on-2b-at-10b-valuation/\", \"title\": \"Mira Murati’s Thinking Machines Lab closes on $2B at $10B valuation - TechCrunch\", \"score\": 0.6972179, \"published_date\": \"Fri, 20 Jun 2025 21:59:33 GMT\", \"content\": \"Enterprise \\\\n### Workhelix taps years of research to help enterprises figure out where to apply AI\\\\n\\\\n       Rebecca Szkutak\\\\n\\\\n Feb 27, 2025\\\\n\\\\nLatest in AI\\\\n------------\\\\n\\\\nSee More\\\\n\\\\n   \\\\nImage 9\\\\n\\\\nIn Brief \\\\n### Mira Murati’s Thinking Machines Lab closes on $2B at $10B valuation\\\\n\\\\n       Rebecca Bellan\\\\n\\\\n 11 seconds ago\\\\n\\\\n   \\\\nImage 10: Cluely founder Roy Lee party invitation video\\\\n\\\\nAI \\\\n### Cluely, a startup that helps ‘cheat on everything,’ raises $15M from a16z\\\\n\\\\n       Marina Temkin\\\\n\\\\n 53 minutes ago [...] By submitting your email, you agree to our Terms and Privacy Notice.\\\\n\\\\nRelated\\\\n-------\\\\n\\\\n   \\\\nImage 6: Batteries and electric vehicles on a blackboard\\\\n\\\\nSocial \\\\n### Week in Review: Jeff Bezos’ secret EV startup\\\\n\\\\n       Karyne Levy\\\\n\\\\n Apr 12, 2025\\\\n\\\\n   \\\\nImage 7: Mira Murati\\\\n\\\\nAI \\\\n### Mira Murati’s AI startup gains prominent ex-OpenAI advisers\\\\n\\\\n       Kyle Wiggers\\\\n\\\\n Apr 8, 2025\\\\n\\\\n   \\\\nImage 8: Erik Brynjolfsson, Workhelix, Stanford, enterprise\", \"raw_content\": null}, {\"url\": \"https://www.theverge.com/command-line-newsletter/690720/meta-buy-thinking-machines-perplexity-safe-superintelligence\", \"title\": \"Meta held talks to buy Thinking Machines, Perplexity, and Safe Superintelligence - The Verge\", \"score\": 0.6490677, \"published_date\": \"Fri, 20 Jun 2025 22:53:47 GMT\", \"content\": \", sources tell me the Meta CEO recently discussed buying ex-OpenAI CTO Mira Murati’sThinking Machines Lab and Perplexity, the AI-native Google rival. None of these talks progressed to the formal offer stage for various reasons, including disagreements over deal prices and strategy, but together they illustrate how aggressively Zuckerberg has been canvassing the industry to reboot his AI efforts.\", \"raw_content\": null}], \"response_time\": 1.33}', name='tavily_search', tool_call_id='saktrhbva')]}\n",
      "\n",
      "\n"
     ]
    }
   ],
   "source": [
    "for message in graph.stream(state):\n",
    "    for key,value in message.items():\n",
    "        print(f\"Output from {key} Node\")\n",
    "        print(\"_________________________________\")\n",
    "        print(value)\n",
    "        print(\"\\n\")\n"
   ]
  },
  {
   "cell_type": "code",
   "execution_count": 35,
   "id": "0ca82496",
   "metadata": {},
   "outputs": [
    {
     "data": {
      "text/plain": [
       "{'messages': ['What is 5 multiplied by 2',\n",
       "  AIMessage(content='', additional_kwargs={'tool_calls': [{'id': '85c1h20ds', 'function': {'arguments': '{\"a\":5,\"b\":2}', 'name': 'multiply'}, 'type': 'function'}]}, response_metadata={'token_usage': {'completion_tokens': 88, 'prompt_tokens': 2196, 'total_tokens': 2284, 'completion_time': 0.078478883, 'prompt_time': 0.241095894, 'queue_time': 0.2757743140000001, 'total_time': 0.319574777}, 'model_name': 'llama3-8b-8192', 'system_fingerprint': 'fp_8b7c3a83f7', 'finish_reason': 'tool_calls', 'logprobs': None}, id='run--d9510427-cdbd-4142-9e10-42e42c9fab7c-0', tool_calls=[{'name': 'multiply', 'args': {'a': 5, 'b': 2}, 'id': '85c1h20ds', 'type': 'tool_call'}], usage_metadata={'input_tokens': 2196, 'output_tokens': 88, 'total_tokens': 2284}),\n",
       "  ToolMessage(content='10', name='multiply', tool_call_id='85c1h20ds')]}"
      ]
     },
     "execution_count": 35,
     "metadata": {},
     "output_type": "execute_result"
    }
   ],
   "source": [
    "response= graph.invoke({\"messages\": [\"What is 5 multiplied by 2\"]})\n",
    "response"
   ]
  },
  {
   "cell_type": "code",
   "execution_count": 36,
   "id": "9c5fdaaa",
   "metadata": {},
   "outputs": [
    {
     "name": "stdout",
     "output_type": "stream",
     "text": [
      "Output from tool_calling_llm Node\n",
      "_________________________________\n",
      "{'messages': [AIMessage(content='', additional_kwargs={'tool_calls': [{'id': 'he5kqkjw6', 'function': {'arguments': '{\"query\":\"recent ai news\",\"search_depth\":\"advanced\",\"time_range\":\"day\",\"topic\":\"general\"}', 'name': 'tavily_search'}, 'type': 'function'}]}, response_metadata={'token_usage': {'completion_tokens': 93, 'prompt_tokens': 2194, 'total_tokens': 2287, 'completion_time': 0.106107886, 'prompt_time': 0.243786573, 'queue_time': 0.271554845, 'total_time': 0.349894459}, 'model_name': 'llama3-8b-8192', 'system_fingerprint': 'fp_8af39bf2ae', 'finish_reason': 'tool_calls', 'logprobs': None}, id='run--d0999696-3b89-40c2-bbfa-a31490ce3c7a-0', tool_calls=[{'name': 'tavily_search', 'args': {'query': 'recent ai news', 'search_depth': 'advanced', 'time_range': 'day', 'topic': 'general'}, 'id': 'he5kqkjw6', 'type': 'tool_call'}], usage_metadata={'input_tokens': 2194, 'output_tokens': 93, 'total_tokens': 2287})]}\n",
      "\n",
      "\n",
      "Output from tools Node\n",
      "_________________________________\n",
      "{'messages': [ToolMessage(content='{\"query\": \"recent ai news\", \"follow_up_questions\": null, \"answer\": null, \"images\": [], \"results\": [{\"url\": \"https://www.crescendo.ai/news/latest-ai-news-and-updates\", \"title\": \"Latest AI Breakthroughs and News: May-June 2025 - Crescendo.ai\", \"content\": \"**Date:** June 20, 2025  \\\\n**Summary:** A new four-legged AI robot developed in China can play badminton with humans, reacting in real-time to shots. The quadruped robot uses vision, sensor data, and machine learning to anticipate movements and adjust its strategy. Researchers say this showcases the future of human-robot collaboration in sports and training. The project blends physical robotics with advanced AI reasoning. [...] **Date:** May 30, 2025  \\\\n**Summary:** Nvidia CEO Jensen Huang issued a bold warning about the rapid evolution of AI, emphasizing that people who fail to adopt AI in their workflow risk being replaced by those who do. His comments underline the urgency for upskilling in a transforming job market. [...] **Date:** June 20, 2025  \\\\n**Summary:** Mira Muratiâ\\x80\\x99s new venture, Thinking Machines Lab, has closed a $2 billion funding round at a $10 billion valuation. The lab is focused on developing agentic AI systems for reasoning, planning, and autonomy. Investors include top-tier VCs betting on Muratiâ\\x80\\x99s vision post-OpenAI. The deal positions the company as a major new force in foundational AI development.\", \"score\": 0.8832463, \"raw_content\": null}], \"response_time\": 3.35}', name='tavily_search', tool_call_id='he5kqkjw6')]}\n",
      "\n",
      "\n"
     ]
    }
   ],
   "source": [
    "for message in graph.stream(state):\n",
    "    for key,value in message.items():\n",
    "        print(f\"Output from {key} Node\")\n",
    "        print(\"_________________________________\")\n",
    "        print(value)\n",
    "        print(\"\\n\")"
   ]
  },
  {
   "cell_type": "code",
   "execution_count": 37,
   "id": "e13a0ff4",
   "metadata": {},
   "outputs": [
    {
     "data": {
      "text/plain": [
       "{'messages': ['Give me the recent ai news and then multiply 5 by 10',\n",
       "  AIMessage(content='', additional_kwargs={'tool_calls': [{'id': '407g5va04', 'function': {'arguments': '{\"query\":\"recent ai news\",\"search_depth\":\"advanced\",\"topic\":\"news\"}', 'name': 'tavily_search'}, 'type': 'function'}, {'id': '3zsp7amb8', 'function': {'arguments': '{\"a\":5,\"b\":10}', 'name': 'multiply'}, 'type': 'function'}]}, response_metadata={'token_usage': {'completion_tokens': 198, 'prompt_tokens': 2202, 'total_tokens': 2400, 'completion_time': 0.22393063, 'prompt_time': 0.244061091, 'queue_time': 0.272314727, 'total_time': 0.467991721}, 'model_name': 'llama3-8b-8192', 'system_fingerprint': 'fp_8af39bf2ae', 'finish_reason': 'tool_calls', 'logprobs': None}, id='run--e95660bd-e833-4517-ae65-800a80e7bdea-0', tool_calls=[{'name': 'tavily_search', 'args': {'query': 'recent ai news', 'search_depth': 'advanced', 'topic': 'news'}, 'id': '407g5va04', 'type': 'tool_call'}, {'name': 'multiply', 'args': {'a': 5, 'b': 10}, 'id': '3zsp7amb8', 'type': 'tool_call'}], usage_metadata={'input_tokens': 2202, 'output_tokens': 198, 'total_tokens': 2400}),\n",
       "  ToolMessage(content='{\"query\": \"recent ai news\", \"follow_up_questions\": null, \"answer\": null, \"images\": [], \"results\": [{\"url\": \"https://www.investopedia.com/amazon-s-ceo-tells-staff-ai-could-lead-to-a-smaller-corporate-workforce-11756555\", \"title\": \"Amazon\\'s CEO Tells Staff AI Could Lead to a Smaller Corporate Workforce - Investopedia\", \"score\": 0.5996498, \"published_date\": \"Tue, 17 Jun 2025 21:29:00 GMT\", \"content\": \"conference.:max_bytes(150000):strip_icc():format(webp)/GettyImages-2215577822-47a75431e5254defb1dd57019a2c8389.jpg) Google Buyouts Could Point to More Tech Layoffs, as Sector Faces Heavy Job LossesImage 9: AMD\\'s \\\\\"Advancing AI\\\\\" event:max_bytes(150000):strip_icc():format(webp)/Screenshot2025-06-12at4.58.35PM-2a3e218f561c45d09abce715571008a6.jpeg) AMD Unveils Its Latest Chips, With ChatGPT Maker OpenAI Among Its CustomersImage 11: Nvidia CEO Jensen Huang meets German Chancellor Friedrich [...] headquarters.:max_bytes(150000):strip_icc():format(webp)/GettyImages-2218457787-7afaea4355494f25acce8a6b5fa05785.jpg) Meta Invests Big in Startup Scale AI, Brings On Its CEO for AI Development EffortsImage 17: People pass the shop front for the media brand Disney Store on London\\'s Oxford Street interacting with stormtrooper figures from the Star Wars films on May 7, 2025:max_bytes(150000):strip_icc():format(webp)/GettyImages-2217902300-c0d3508e1e104b6ebdf25b82bb0cd92c.jpg) Disney, Universal Sue [...] Merz.:max_bytes(150000):strip_icc():format(webp)/GettyImages-2219239037-f48729853bf84914aced2538b5e029a3.jpg) Why Oppenheimer Is Excited About Nvidia\\'s Potential Gains From Sovereign AI DemandImage 13: Open AI CEO Sam Altman speaks during Snowflake Summit 2025.:max_bytes(150000):strip_icc():format(webp)/GettyImages-2218344211-86cd046e842a44d0a4e33bd185d837b3.jpg) \\'ChatGPT Is Already More Powerful Than Any Human,\\' OpenAI CEO Sam Altman SaysImage 15: Scale AI\", \"raw_content\": null}, {\"url\": \"https://www.govtech.com/artificial-intelligence/governments-want-artificial-intelligence-but-adoption-lags\", \"title\": \"Governments Want Artificial Intelligence, but Adoption Lags - GovTech\", \"score\": 0.59824234, \"published_date\": \"Wed, 18 Jun 2025 21:36:19 GMT\", \"content\": \"A report released Wednesday reveals insight from government leaders about their data and AI programs. It finds that the demand for the technologies is high, but actual implementation levels are lower.\\\\n--------------------------------------------------------------------------------------------------------------------------------------------------------------------------------------------------------\\\\n\\\\nJune 18, 2025•\\\\n\\\\nNews Staff\\\\n\\\\n   Facebook\\\\n   LinkedIn\\\\n   Twitter\\\\n   Print)\\\\n   Email\", \"raw_content\": null}], \"response_time\": 1.8}', name='tavily_search', tool_call_id='407g5va04'),\n",
       "  ToolMessage(content='50', name='multiply', tool_call_id='3zsp7amb8')]}"
      ]
     },
     "execution_count": 37,
     "metadata": {},
     "output_type": "execute_result"
    }
   ],
   "source": [
    "response= graph.invoke({\"messages\": [\"Give me the recent ai news and then multiply 5 by 10\"]})\n",
    "response"
   ]
  },
  {
   "cell_type": "code",
   "execution_count": 38,
   "id": "8b94abd8",
   "metadata": {},
   "outputs": [
    {
     "data": {
      "text/plain": [
       "'Give me the recent ai news and then multiply 5 by 10'"
      ]
     },
     "execution_count": 38,
     "metadata": {},
     "output_type": "execute_result"
    }
   ],
   "source": [
    "response[\"messages\"][0]"
   ]
  },
  {
   "cell_type": "code",
   "execution_count": 39,
   "id": "e7ce89ec",
   "metadata": {},
   "outputs": [
    {
     "data": {
      "text/plain": [
       "ToolMessage(content='50', name='multiply', tool_call_id='3zsp7amb8')"
      ]
     },
     "execution_count": 39,
     "metadata": {},
     "output_type": "execute_result"
    }
   ],
   "source": [
    "response[\"messages\"][-1]"
   ]
  },
  {
   "cell_type": "code",
   "execution_count": 40,
   "id": "233f1d2e",
   "metadata": {},
   "outputs": [
    {
     "data": {
      "text/plain": [
       "{'messages': ['Give me the recent ai news and then multiply 5 by 10']}"
      ]
     },
     "execution_count": 40,
     "metadata": {},
     "output_type": "execute_result"
    }
   ],
   "source": [
    "state= {\"messages\": [\"Give me the recent ai news and then multiply 5 by 10\"]}\n",
    "state"
   ]
  },
  {
   "cell_type": "code",
   "execution_count": 41,
   "id": "869e2aea",
   "metadata": {},
   "outputs": [
    {
     "name": "stdout",
     "output_type": "stream",
     "text": [
      "Output from tool_calling_llm Node\n",
      "_________________________________\n",
      "{'messages': [AIMessage(content='', additional_kwargs={'tool_calls': [{'id': 'hxzkh0m2b', 'function': {'arguments': '{\"query\":\"recent ai news\",\"search_depth\":\"advanced\",\"time_range\":\"day\",\"topic\":\"news\"}', 'name': 'tavily_search'}, 'type': 'function'}]}, response_metadata={'token_usage': {'completion_tokens': 169, 'prompt_tokens': 2202, 'total_tokens': 2371, 'completion_time': 0.155655645, 'prompt_time': 0.245798077, 'queue_time': 0.27722211100000005, 'total_time': 0.401453722}, 'model_name': 'llama3-8b-8192', 'system_fingerprint': 'fp_8b7c3a83f7', 'finish_reason': 'tool_calls', 'logprobs': None}, id='run--e1add3e1-6baf-4a94-ace5-d2b192e0af0a-0', tool_calls=[{'name': 'tavily_search', 'args': {'query': 'recent ai news', 'search_depth': 'advanced', 'time_range': 'day', 'topic': 'news'}, 'id': 'hxzkh0m2b', 'type': 'tool_call'}], usage_metadata={'input_tokens': 2202, 'output_tokens': 169, 'total_tokens': 2371})]}\n",
      "\n",
      "\n",
      "Output from tools Node\n",
      "_________________________________\n",
      "{'messages': [ToolMessage(content='{\"query\": \"recent ai news\", \"follow_up_questions\": null, \"answer\": null, \"images\": [], \"results\": [{\"url\": \"https://techcrunch.com/2025/06/20/mira-muratis-thinking-machines-lab-closes-on-2b-at-10b-valuation/\", \"title\": \"Mira Murati’s Thinking Machines Lab closes on $2B at $10B valuation - TechCrunch\", \"score\": 0.6972179, \"published_date\": \"Fri, 20 Jun 2025 21:59:33 GMT\", \"content\": \"Enterprise \\\\n### Workhelix taps years of research to help enterprises figure out where to apply AI\\\\n\\\\n       Rebecca Szkutak\\\\n\\\\n Feb 27, 2025\\\\n\\\\nLatest in AI\\\\n------------\\\\n\\\\nSee More\\\\n\\\\n   \\\\nImage 9\\\\n\\\\nIn Brief \\\\n### Mira Murati’s Thinking Machines Lab closes on $2B at $10B valuation\\\\n\\\\n       Rebecca Bellan\\\\n\\\\n 11 seconds ago\\\\n\\\\n   \\\\nImage 10: Cluely founder Roy Lee party invitation video\\\\n\\\\nAI \\\\n### Cluely, a startup that helps ‘cheat on everything,’ raises $15M from a16z\\\\n\\\\n       Marina Temkin\\\\n\\\\n 53 minutes ago [...] By submitting your email, you agree to our Terms and Privacy Notice.\\\\n\\\\nRelated\\\\n-------\\\\n\\\\n   \\\\nImage 6: Batteries and electric vehicles on a blackboard\\\\n\\\\nSocial \\\\n### Week in Review: Jeff Bezos’ secret EV startup\\\\n\\\\n       Karyne Levy\\\\n\\\\n Apr 12, 2025\\\\n\\\\n   \\\\nImage 7: Mira Murati\\\\n\\\\nAI \\\\n### Mira Murati’s AI startup gains prominent ex-OpenAI advisers\\\\n\\\\n       Kyle Wiggers\\\\n\\\\n Apr 8, 2025\\\\n\\\\n   \\\\nImage 8: Erik Brynjolfsson, Workhelix, Stanford, enterprise\", \"raw_content\": null}, {\"url\": \"https://www.theverge.com/command-line-newsletter/690720/meta-buy-thinking-machines-perplexity-safe-superintelligence\", \"title\": \"Meta held talks to buy Thinking Machines, Perplexity, and Safe Superintelligence - The Verge\", \"score\": 0.6490677, \"published_date\": \"Fri, 20 Jun 2025 22:53:47 GMT\", \"content\": \", sources tell me the Meta CEO recently discussed buying ex-OpenAI CTO Mira Murati’sThinking Machines Lab and Perplexity, the AI-native Google rival. None of these talks progressed to the formal offer stage for various reasons, including disagreements over deal prices and strategy, but together they illustrate how aggressively Zuckerberg has been canvassing the industry to reboot his AI efforts.\", \"raw_content\": null}], \"response_time\": 1.32}', name='tavily_search', tool_call_id='hxzkh0m2b')]}\n",
      "\n",
      "\n"
     ]
    }
   ],
   "source": [
    "for message in graph.stream(state):\n",
    "    for key,value in message.items():\n",
    "        print(f\"Output from {key} Node\")\n",
    "        print(\"_________________________________\")\n",
    "        print(value)\n",
    "        print(\"\\n\")"
   ]
  },
  {
   "cell_type": "markdown",
   "id": "a3d702fc",
   "metadata": {},
   "source": [
    "### ReAct Agent Architecture"
   ]
  },
  {
   "cell_type": "code",
   "execution_count": 42,
   "id": "e1e9bb98",
   "metadata": {},
   "outputs": [],
   "source": [
    "from typing import List, Annotated, TypedDict\n",
    "from langgraph.graph.message import add_messages\n",
    "from langgraph.graph import StateGraph, START, END\n",
    "from langgraph.prebuilt import ToolNode, tools_condition\n",
    "from IPython.display import Image, display\n",
    "\n",
    "class State(TypedDict):\n",
    "    messages: Annotated[list, add_messages]\n",
    "\n",
    "def tool_calling_llm(state: State):\n",
    "    return {\"messages\": [llm_with_tools.invoke(state[\"messages\"])]}\n",
    "    \n",
    "graph= StateGraph(State)\n",
    "\n",
    "graph.add_node(\"tool_calling_llm\", tool_calling_llm)\n",
    "graph.add_node(\"tools\", ToolNode(tools))\n",
    "\n",
    "graph.add_edge(START, \"tool_calling_llm\")\n",
    "\n",
    "graph.add_conditional_edges(\n",
    "    \"tool_calling_llm\",\n",
    "    tools_condition\n",
    ")\n",
    "\n",
    "graph.add_edge(\"tools\", \"tool_calling_llm\")\n",
    "graph.add_edge(\"tool_calling_llm\", END)\n",
    "\n",
    "graph_builder= graph.compile()"
   ]
  },
  {
   "cell_type": "code",
   "execution_count": 43,
   "id": "88acd3bd",
   "metadata": {},
   "outputs": [
    {
     "data": {
      "image/png": "[encoded data removed]",
      "text/plain": [
       "<IPython.core.display.Image object>"
      ]
     },
     "metadata": {},
     "output_type": "display_data"
    }
   ],
   "source": [
    "display(Image(graph_builder.get_graph().draw_mermaid_png()))"
   ]
  },
  {
   "cell_type": "code",
   "execution_count": 44,
   "id": "a5ab17c3",
   "metadata": {},
   "outputs": [
    {
     "data": {
      "text/plain": [
       "{'messages': [HumanMessage(content='multiply 5 and 10', additional_kwargs={}, response_metadata={}, id='e0ef6b3f-081a-470e-9363-c5532572b90d'),\n",
       "  AIMessage(content='', additional_kwargs={'tool_calls': [{'id': 'caw417j6n', 'function': {'arguments': '{\"a\":5,\"b\":10}', 'name': 'multiply'}, 'type': 'function'}]}, response_metadata={'token_usage': {'completion_tokens': 72, 'prompt_tokens': 2194, 'total_tokens': 2266, 'completion_time': 0.081437766, 'prompt_time': 0.319479997, 'queue_time': 0.486832038, 'total_time': 0.400917763}, 'model_name': 'llama3-8b-8192', 'system_fingerprint': 'fp_8af39bf2ae', 'finish_reason': 'tool_calls', 'logprobs': None}, id='run--e8776ca1-8dfa-4d9c-892d-8015a0a6d80c-0', tool_calls=[{'name': 'multiply', 'args': {'a': 5, 'b': 10}, 'id': 'caw417j6n', 'type': 'tool_call'}], usage_metadata={'input_tokens': 2194, 'output_tokens': 72, 'total_tokens': 2266}),\n",
       "  ToolMessage(content='50', name='multiply', id='d54baef4-13d0-4f2f-8f2e-2362f520d743', tool_call_id='caw417j6n'),\n",
       "  AIMessage(content='', additional_kwargs={'tool_calls': [{'id': 'crjxpp3sv', 'function': {'arguments': '{\"query\":\"What is the definition of 50?\"}', 'name': 'tavily_search'}, 'type': 'function'}]}, response_metadata={'token_usage': {'completion_tokens': 42, 'prompt_tokens': 2265, 'total_tokens': 2307, 'completion_time': 0.047644166, 'prompt_time': 0.417471162, 'queue_time': 0.272752695, 'total_time': 0.465115328}, 'model_name': 'llama3-8b-8192', 'system_fingerprint': 'fp_8af39bf2ae', 'finish_reason': 'tool_calls', 'logprobs': None}, id='run--a0a77726-c5fa-4bf9-8a66-27b7c3c2b03d-0', tool_calls=[{'name': 'tavily_search', 'args': {'query': 'What is the definition of 50?'}, 'id': 'crjxpp3sv', 'type': 'tool_call'}], usage_metadata={'input_tokens': 2265, 'output_tokens': 42, 'total_tokens': 2307}),\n",
       "  ToolMessage(content='{\"query\": \"What is the definition of 50?\", \"follow_up_questions\": null, \"answer\": null, \"images\": [], \"results\": [{\"title\": \"50 Definition & Meaning - Merriam-Webster\", \"url\": \"https://www.merriam-webster.com/dictionary/50\", \"content\": \"a number equal to five times 10; the numbers 50 to 59; specifically : the years 50 to 59 in a lifetime or century; a 50-dollar bill… See the full definition Menu Toggle\", \"score\": 0.8266142, \"raw_content\": null}, {\"title\": \"50 (number) - Wikipedia\", \"url\": \"https://en.wikipedia.org/wiki/50_(number)\", \"content\": \"50 (number) - Wikipedia Main page Contents Pages for logged out editors learn more Contents 50 (number) Edit links Article Download QR code Natural number List of numbers 50 (fifty) is the natural number following 49 and preceding 51. Fifty is the smallest number that is the sum of two non-zero square numbers in two distinct ways.[1] 50 is a Stirling number of the first kind and a Narayana number. The traditional number of years in a jubilee period.[2] Those fascinating numbers. 50 (number) Articles with short description This page was last edited on 21 April 2025, at 04:12\\xa0(UTC). By using this site, you agree to the Terms of Use and Privacy Policy. Contact Wikipedia 50 (number)\", \"score\": 0.7610953, \"raw_content\": null}], \"response_time\": 1.51}', name='tavily_search', id='aeb7da93-cc7f-4729-b58b-75d2d56c3d5f', tool_call_id='crjxpp3sv'),\n",
       "  AIMessage(content='', additional_kwargs={'tool_calls': [{'id': 'y58374d3g', 'function': {'arguments': '{\"exclude_domains\":[],\"include_domains\":[],\"include_images\":false,\"query\":\"What is the definition of 50?\",\"search_depth\":\"advanced\",\"time_range\":null,\"topic\":\"general\"}', 'name': 'tavily_search'}, 'type': 'function'}]}, response_metadata={'token_usage': {'completion_tokens': 76, 'prompt_tokens': 2688, 'total_tokens': 2764, 'completion_time': 0.068166753, 'prompt_time': 0.34455651, 'queue_time': 0.9911733349999999, 'total_time': 0.412723263}, 'model_name': 'llama3-8b-8192', 'system_fingerprint': 'fp_8b7c3a83f7', 'finish_reason': 'tool_calls', 'logprobs': None}, id='run--c1dde0f9-672f-46e6-b234-6f7dfcf82c3d-0', tool_calls=[{'name': 'tavily_search', 'args': {'exclude_domains': [], 'include_domains': [], 'include_images': False, 'query': 'What is the definition of 50?', 'search_depth': 'advanced', 'time_range': None, 'topic': 'general'}, 'id': 'y58374d3g', 'type': 'tool_call'}], usage_metadata={'input_tokens': 2688, 'output_tokens': 76, 'total_tokens': 2764}),\n",
       "  ToolMessage(content='{\"query\": \"What is the definition of 50?\", \"follow_up_questions\": null, \"answer\": null, \"images\": [], \"results\": [{\"url\": \"https://www.vocabulary.com/dictionary/50\", \"title\": \"50 - Definition, Meaning & Synonyms - Vocabulary.com\", \"content\": \"Definitions of 50. noun. the cardinal number that is the product of ten and five. synonyms: L, fifty. large integer.\", \"score\": 0.8765607, \"raw_content\": null}, {\"url\": \"https://www.britannica.com/dictionary/fifty\", \"title\": \"Fifty Definition & Meaning | Britannica Dictionary\", \"content\": \"1. [count] : the number 50 2. fifties [plural] a : the numbers ranging from 50 to 59 b : a set of years ending in digits ranging from 50 to 59.\", \"score\": 0.8358192, \"raw_content\": null}], \"response_time\": 2.46}', name='tavily_search', id='420253db-cb0d-4710-9427-a8d22205d435', tool_call_id='y58374d3g'),\n",
       "  AIMessage(content='The answer to your original question \"multiply 5 and 10\" is 50.', additional_kwargs={}, response_metadata={'token_usage': {'completion_tokens': 19, 'prompt_tokens': 3007, 'total_tokens': 3026, 'completion_time': 0.022451197, 'prompt_time': 0.746759958, 'queue_time': 0.949400354, 'total_time': 0.769211155}, 'model_name': 'llama3-8b-8192', 'system_fingerprint': 'fp_8af39bf2ae', 'finish_reason': 'stop', 'logprobs': None}, id='run--1939b7f4-2080-451c-81e9-9f0d326a4f73-0', usage_metadata={'input_tokens': 3007, 'output_tokens': 19, 'total_tokens': 3026})]}"
      ]
     },
     "execution_count": 44,
     "metadata": {},
     "output_type": "execute_result"
    }
   ],
   "source": [
    "graph_builder.invoke({\"messages\": \"multiply 5 and 10\"})"
   ]
  },
  {
   "cell_type": "code",
   "execution_count": 45,
   "id": "36cf9d9f",
   "metadata": {},
   "outputs": [
    {
     "data": {
      "text/plain": [
       "{'messages': [HumanMessage(content='Give me the recent ai news and then multiply 5 by 10', additional_kwargs={}, response_metadata={}, id='5e5de6f5-fece-4ae9-abf8-e739fca1708d'),\n",
       "  AIMessage(content='', additional_kwargs={'tool_calls': [{'id': '641zen3kb', 'function': {'arguments': '{\"query\":\"recent ai news\",\"search_depth\":\"advanced\",\"time_range\":\"day\"}', 'name': 'tavily_search'}, 'type': 'function'}, {'id': '0aqf0wb9n', 'function': {'arguments': '{\"a\":5,\"b\":10}', 'name': 'multiply'}, 'type': 'function'}]}, response_metadata={'token_usage': {'completion_tokens': 182, 'prompt_tokens': 2202, 'total_tokens': 2384, 'completion_time': 0.163196153, 'prompt_time': 0.24362511, 'queue_time': 0.27492437700000005, 'total_time': 0.406821263}, 'model_name': 'llama3-8b-8192', 'system_fingerprint': 'fp_8b7c3a83f7', 'finish_reason': 'tool_calls', 'logprobs': None}, id='run--72f18874-a905-4364-abac-b9af12550fa6-0', tool_calls=[{'name': 'tavily_search', 'args': {'query': 'recent ai news', 'search_depth': 'advanced', 'time_range': 'day'}, 'id': '641zen3kb', 'type': 'tool_call'}, {'name': 'multiply', 'args': {'a': 5, 'b': 10}, 'id': '0aqf0wb9n', 'type': 'tool_call'}], usage_metadata={'input_tokens': 2202, 'output_tokens': 182, 'total_tokens': 2384}),\n",
       "  ToolMessage(content='{\"query\": \"recent ai news\", \"follow_up_questions\": null, \"answer\": null, \"images\": [], \"results\": [{\"url\": \"https://www.crescendo.ai/news/latest-ai-news-and-updates\", \"title\": \"Latest AI Breakthroughs and News: May-June 2025 - Crescendo.ai\", \"content\": \"**Date:** June 20, 2025  \\\\n**Summary:** A new four-legged AI robot developed in China can play badminton with humans, reacting in real-time to shots. The quadruped robot uses vision, sensor data, and machine learning to anticipate movements and adjust its strategy. Researchers say this showcases the future of human-robot collaboration in sports and training. The project blends physical robotics with advanced AI reasoning. [...] **Date:** May 30, 2025  \\\\n**Summary:** Nvidia CEO Jensen Huang issued a bold warning about the rapid evolution of AI, emphasizing that people who fail to adopt AI in their workflow risk being replaced by those who do. His comments underline the urgency for upskilling in a transforming job market. [...] **Date:** June 20, 2025  \\\\n**Summary:** Mira Muratiâ\\x80\\x99s new venture, Thinking Machines Lab, has closed a $2 billion funding round at a $10 billion valuation. The lab is focused on developing agentic AI systems for reasoning, planning, and autonomy. Investors include top-tier VCs betting on Muratiâ\\x80\\x99s vision post-OpenAI. The deal positions the company as a major new force in foundational AI development.\", \"score\": 0.8832463, \"raw_content\": null}], \"response_time\": 2.57}', name='tavily_search', id='8078e765-dd7e-4d95-b71c-3a1f28e8f433', tool_call_id='641zen3kb'),\n",
       "  ToolMessage(content='50', name='multiply', id='13cb1be2-7736-4bad-a8c5-e393f1f74e29', tool_call_id='0aqf0wb9n'),\n",
       "  AIMessage(content='<tool-use>{\"tool_calls\":[]}</tool-use>', additional_kwargs={}, response_metadata={'token_usage': {'completion_tokens': 13, 'prompt_tokens': 2693, 'total_tokens': 2706, 'completion_time': 0.015881093, 'prompt_time': 0.299350688, 'queue_time': 0.27376172900000006, 'total_time': 0.315231781}, 'model_name': 'llama3-8b-8192', 'system_fingerprint': 'fp_8dc6ecaf8e', 'finish_reason': 'stop', 'logprobs': None}, id='run--499dd721-309b-42b4-ae3a-abd73398b67d-0', usage_metadata={'input_tokens': 2693, 'output_tokens': 13, 'total_tokens': 2706})]}"
      ]
     },
     "execution_count": 45,
     "metadata": {},
     "output_type": "execute_result"
    }
   ],
   "source": [
    "response= graph_builder.invoke({\"messages\":\"Give me the recent ai news and then multiply 5 by 10\"})\n",
    "response "
   ]
  },
  {
   "cell_type": "markdown",
   "id": "1aeb52f9",
   "metadata": {},
   "source": [
    "### Adding Memory In Agentic Graph"
   ]
  },
  {
   "cell_type": "code",
   "execution_count": 46,
   "id": "de201658",
   "metadata": {},
   "outputs": [],
   "source": [
    "from typing import List, Annotated, TypedDict\n",
    "from langgraph.graph.message import add_messages\n",
    "from langgraph.graph import StateGraph, START, END\n",
    "from langgraph.prebuilt import ToolNode, tools_condition\n",
    "from langgraph.checkpoint.memory import MemorySaver\n",
    "\n",
    "memory= MemorySaver()\n",
    "\n",
    "class State(TypedDict):\n",
    "    messages: Annotated[list, add_messages]\n",
    "\n",
    "def tool_calling_llm(state: State):\n",
    "    return {\"messages\": [llm_with_tools.invoke(state[\"messages\"])]}\n",
    "    \n",
    "graph= StateGraph(State)\n",
    "\n",
    "graph.add_node(\"tool_calling_llm\", tool_calling_llm)\n",
    "graph.add_node(\"tools\", ToolNode(tools))\n",
    "\n",
    "graph.add_edge(START, \"tool_calling_llm\")\n",
    "\n",
    "graph.add_conditional_edges(\n",
    "    \"tool_calling_llm\",\n",
    "    tools_condition\n",
    ")\n",
    "\n",
    "graph.add_edge(\"tools\", \"tool_calling_llm\")\n",
    "graph.add_edge(\"tool_calling_llm\", END)\n",
    "\n",
    "graph_builder= graph.compile(memory)"
   ]
  },
  {
   "cell_type": "code",
   "execution_count": 47,
   "id": "8d8ba03a",
   "metadata": {},
   "outputs": [
    {
     "data": {
      "image/png": "[encoded data removed]",
      "text/plain": [
       "<IPython.core.display.Image object>"
      ]
     },
     "metadata": {},
     "output_type": "display_data"
    }
   ],
   "source": [
    "from IPython.display import Image, display\n",
    "display(Image(graph_builder.get_graph().draw_mermaid_png()))"
   ]
  },
  {
   "cell_type": "code",
   "execution_count": 48,
   "id": "b35fbc40",
   "metadata": {},
   "outputs": [
    {
     "data": {
      "text/plain": [
       "{'messages': [HumanMessage(content='my name is satish', additional_kwargs={}, response_metadata={}, id='86cb366a-6967-4391-be7f-acfd340f45f4'),\n",
       "  AIMessage(content=\"Nice to meet you, Satish! I'm here to help you with your questions and tasks. What would you like to talk about or accomplish today?\", additional_kwargs={}, response_metadata={'token_usage': {'completion_tokens': 32, 'prompt_tokens': 2193, 'total_tokens': 2225, 'completion_time': 0.036683106, 'prompt_time': 0.244278574, 'queue_time': 0.272626104, 'total_time': 0.28096168}, 'model_name': 'llama3-8b-8192', 'system_fingerprint': 'fp_8dc6ecaf8e', 'finish_reason': 'stop', 'logprobs': None}, id='run--86a4e0f8-912f-47fc-bfa6-723f1b1b40e5-0', usage_metadata={'input_tokens': 2193, 'output_tokens': 32, 'total_tokens': 2225})]}"
      ]
     },
     "execution_count": 48,
     "metadata": {},
     "output_type": "execute_result"
    }
   ],
   "source": [
    "config= {\"configurable\": {\"thread_id\": \"1\"}}\n",
    "\n",
    "response= graph_builder.invoke({\"messages\": \"my name is satish\"}, config=config)\n",
    "response "
   ]
  },
  {
   "cell_type": "code",
   "execution_count": 49,
   "id": "7c0f9591",
   "metadata": {},
   "outputs": [
    {
     "data": {
      "text/plain": [
       "AIMessage(content=\"Nice to meet you, Satish! I'm here to help you with your questions and tasks. What would you like to talk about or accomplish today?\", additional_kwargs={}, response_metadata={'token_usage': {'completion_tokens': 32, 'prompt_tokens': 2193, 'total_tokens': 2225, 'completion_time': 0.036683106, 'prompt_time': 0.244278574, 'queue_time': 0.272626104, 'total_time': 0.28096168}, 'model_name': 'llama3-8b-8192', 'system_fingerprint': 'fp_8dc6ecaf8e', 'finish_reason': 'stop', 'logprobs': None}, id='run--86a4e0f8-912f-47fc-bfa6-723f1b1b40e5-0', usage_metadata={'input_tokens': 2193, 'output_tokens': 32, 'total_tokens': 2225})"
      ]
     },
     "execution_count": 49,
     "metadata": {},
     "output_type": "execute_result"
    }
   ],
   "source": [
    "response[\"messages\"][-1]"
   ]
  },
  {
   "cell_type": "code",
   "execution_count": 50,
   "id": "1857b552",
   "metadata": {},
   "outputs": [
    {
     "data": {
      "text/plain": [
       "{'messages': [HumanMessage(content='my name is satish', additional_kwargs={}, response_metadata={}, id='86cb366a-6967-4391-be7f-acfd340f45f4'),\n",
       "  AIMessage(content=\"Nice to meet you, Satish! I'm here to help you with your questions and tasks. What would you like to talk about or accomplish today?\", additional_kwargs={}, response_metadata={'token_usage': {'completion_tokens': 32, 'prompt_tokens': 2193, 'total_tokens': 2225, 'completion_time': 0.036683106, 'prompt_time': 0.244278574, 'queue_time': 0.272626104, 'total_time': 0.28096168}, 'model_name': 'llama3-8b-8192', 'system_fingerprint': 'fp_8dc6ecaf8e', 'finish_reason': 'stop', 'logprobs': None}, id='run--86a4e0f8-912f-47fc-bfa6-723f1b1b40e5-0', usage_metadata={'input_tokens': 2193, 'output_tokens': 32, 'total_tokens': 2225}),\n",
       "  HumanMessage(content='Hey what is my name', additional_kwargs={}, response_metadata={}, id='1cdeea1f-36e8-4154-9195-c97878422e59'),\n",
       "  AIMessage(content='Your name is Satish.', additional_kwargs={}, response_metadata={'token_usage': {'completion_tokens': 7, 'prompt_tokens': 2239, 'total_tokens': 2246, 'completion_time': 0.008682734, 'prompt_time': 0.24977971, 'queue_time': 0.27305318600000006, 'total_time': 0.258462444}, 'model_name': 'llama3-8b-8192', 'system_fingerprint': 'fp_8dc6ecaf8e', 'finish_reason': 'stop', 'logprobs': None}, id='run--a163d555-72b6-443f-874a-5afcc4206f28-0', usage_metadata={'input_tokens': 2239, 'output_tokens': 7, 'total_tokens': 2246})]}"
      ]
     },
     "execution_count": 50,
     "metadata": {},
     "output_type": "execute_result"
    }
   ],
   "source": [
    "response= graph_builder.invoke({\"messages\": \"Hey what is my name\"},config=config)\n",
    "response "
   ]
  },
  {
   "cell_type": "code",
   "execution_count": 51,
   "id": "b5cc9012",
   "metadata": {},
   "outputs": [
    {
     "name": "stdout",
     "output_type": "stream",
     "text": [
      "Your name is Satish.\n"
     ]
    }
   ],
   "source": [
    "print(response['messages'][-1].content)"
   ]
  },
  {
   "cell_type": "markdown",
   "id": "fc38a27a",
   "metadata": {},
   "source": [
    "### Streaming"
   ]
  },
  {
   "cell_type": "code",
   "execution_count": 52,
   "id": "a36f1820",
   "metadata": {},
   "outputs": [],
   "source": [
    "from langgraph.checkpoint.memory import MemorySaver\n",
    "memory= MemorySaver()"
   ]
  },
  {
   "cell_type": "code",
   "execution_count": 53,
   "id": "04894cc3",
   "metadata": {},
   "outputs": [],
   "source": [
    "def superbot(state:State):\n",
    "    return {\"messages\": [llm.invoke(state['messages'])]}"
   ]
  },
  {
   "cell_type": "code",
   "execution_count": 54,
   "id": "e0d69ea8",
   "metadata": {},
   "outputs": [
    {
     "data": {
      "image/png": "[encoded data removed]",
      "text/plain": [
       "<IPython.core.display.Image object>"
      ]
     },
     "metadata": {},
     "output_type": "display_data"
    }
   ],
   "source": [
    "graph=StateGraph(State)\n",
    "\n",
    "## node\n",
    "graph.add_node(\"SuperBot\",superbot)\n",
    "## Edges\n",
    "\n",
    "graph.add_edge(START,\"SuperBot\")\n",
    "graph.add_edge(\"SuperBot\",END)\n",
    "\n",
    "\n",
    "graph_builder= graph.compile(checkpointer=memory)\n",
    "\n",
    "\n",
    "## Display\n",
    "from IPython.display import Image, display\n",
    "display(Image(graph_builder.get_graph().draw_mermaid_png()))"
   ]
  },
  {
   "cell_type": "code",
   "execution_count": 55,
   "id": "044f6e8e",
   "metadata": {},
   "outputs": [
    {
     "data": {
      "text/plain": [
       "{'messages': [HumanMessage(content='Hi,My name is Satish And I like cricket', additional_kwargs={}, response_metadata={}, id='23589ba9-f1eb-4d75-ba69-a9549a7f0e7f'),\n",
       "  AIMessage(content=\"Hello Satish! Nice to meet you! Cricket is a great sport, isn't it? Do you have a favorite team or player? Have you ever been to a live cricket match?\", additional_kwargs={}, response_metadata={'token_usage': {'completion_tokens': 39, 'prompt_tokens': 21, 'total_tokens': 60, 'completion_time': 0.044018986, 'prompt_time': 0.007168027, 'queue_time': 0.415301314, 'total_time': 0.051187013}, 'model_name': 'llama3-8b-8192', 'system_fingerprint': 'fp_8af39bf2ae', 'finish_reason': 'stop', 'logprobs': None}, id='run--5e14fb2c-7e44-425a-a4cb-2447c1eed250-0', usage_metadata={'input_tokens': 21, 'output_tokens': 39, 'total_tokens': 60})]}"
      ]
     },
     "execution_count": 55,
     "metadata": {},
     "output_type": "execute_result"
    }
   ],
   "source": [
    "## Invocation\n",
    "\n",
    "config = {\"configurable\": {\"thread_id\": \"1\"}}\n",
    "\n",
    "graph_builder.invoke({'messages': \"Hi,My name is Satish And I like cricket\"},config)"
   ]
  },
  {
   "cell_type": "markdown",
   "id": "5c362552",
   "metadata": {},
   "source": [
    "### Streaming\n",
    "\n",
    "Methods: stream() and astream() <br>\n",
    "- These methods are sync and async methods for streaming back results.\n",
    "\n",
    "Additional parameters in streaming modes for graph state\n",
    "- **values :** This streams the full state of the graph after each node is called.\n",
    "- **updates :** This streams updates to the state of the graph after each node is called."
   ]
  },
  {
   "cell_type": "code",
   "execution_count": 56,
   "id": "c9cb4593",
   "metadata": {},
   "outputs": [
    {
     "name": "stdout",
     "output_type": "stream",
     "text": [
      "{'SuperBot': {'messages': [AIMessage(content=\"Hello Satish! Nice to meet you! Cricket is a fantastic sport, isn't it? Do you have a favorite team or player? And do you play cricket yourself or are you more of a fan?\", additional_kwargs={}, response_metadata={'token_usage': {'completion_tokens': 43, 'prompt_tokens': 21, 'total_tokens': 64, 'completion_time': 0.038494276, 'prompt_time': 0.005457857, 'queue_time': 0.333052054, 'total_time': 0.043952133}, 'model_name': 'llama3-8b-8192', 'system_fingerprint': 'fp_8b7c3a83f7', 'finish_reason': 'stop', 'logprobs': None}, id='run--c449554d-c870-413e-bb13-3b9dd347b425-0', usage_metadata={'input_tokens': 21, 'output_tokens': 43, 'total_tokens': 64})]}}\n"
     ]
    }
   ],
   "source": [
    "# Create a thread\n",
    "config= {\"configurable\": {\"thread_id\": \"3\"}}\n",
    "\n",
    "for chunk in graph_builder.stream({'messages': \"Hi,My name is Satish And I like cricket\"}, config, stream_mode=\"updates\"):\n",
    "    print(chunk)"
   ]
  },
  {
   "cell_type": "code",
   "execution_count": 57,
   "id": "f299e219",
   "metadata": {},
   "outputs": [
    {
     "name": "stdout",
     "output_type": "stream",
     "text": [
      "{'messages': [HumanMessage(content='Hi,My name is Satish And I like cricket', additional_kwargs={}, response_metadata={}, id='d3230e48-edf6-49f0-b35f-c06868670e73'), AIMessage(content=\"Hello Satish! Nice to meet you! Cricket is a fantastic sport, isn't it? Do you have a favorite team or player? And do you play cricket yourself or are you more of a fan?\", additional_kwargs={}, response_metadata={'token_usage': {'completion_tokens': 43, 'prompt_tokens': 21, 'total_tokens': 64, 'completion_time': 0.038494276, 'prompt_time': 0.005457857, 'queue_time': 0.333052054, 'total_time': 0.043952133}, 'model_name': 'llama3-8b-8192', 'system_fingerprint': 'fp_8b7c3a83f7', 'finish_reason': 'stop', 'logprobs': None}, id='run--c449554d-c870-413e-bb13-3b9dd347b425-0', usage_metadata={'input_tokens': 21, 'output_tokens': 43, 'total_tokens': 64}), HumanMessage(content='Hi,My name is Satish And I like cricket', additional_kwargs={}, response_metadata={}, id='1a2a1d51-fbc0-4558-afe9-627faf5c4073')]}\n",
      "{'messages': [HumanMessage(content='Hi,My name is Satish And I like cricket', additional_kwargs={}, response_metadata={}, id='d3230e48-edf6-49f0-b35f-c06868670e73'), AIMessage(content=\"Hello Satish! Nice to meet you! Cricket is a fantastic sport, isn't it? Do you have a favorite team or player? And do you play cricket yourself or are you more of a fan?\", additional_kwargs={}, response_metadata={'token_usage': {'completion_tokens': 43, 'prompt_tokens': 21, 'total_tokens': 64, 'completion_time': 0.038494276, 'prompt_time': 0.005457857, 'queue_time': 0.333052054, 'total_time': 0.043952133}, 'model_name': 'llama3-8b-8192', 'system_fingerprint': 'fp_8b7c3a83f7', 'finish_reason': 'stop', 'logprobs': None}, id='run--c449554d-c870-413e-bb13-3b9dd347b425-0', usage_metadata={'input_tokens': 21, 'output_tokens': 43, 'total_tokens': 64}), HumanMessage(content='Hi,My name is Satish And I like cricket', additional_kwargs={}, response_metadata={}, id='1a2a1d51-fbc0-4558-afe9-627faf5c4073'), AIMessage(content=\"Hello Satish! Nice to meet you! Cricket is a fantastic sport, isn't it? Do you have a favorite team or player?\", additional_kwargs={}, response_metadata={'token_usage': {'completion_tokens': 29, 'prompt_tokens': 84, 'total_tokens': 113, 'completion_time': 0.032605115, 'prompt_time': 0.023273301, 'queue_time': 0.267042487, 'total_time': 0.055878416}, 'model_name': 'llama3-8b-8192', 'system_fingerprint': 'fp_8af39bf2ae', 'finish_reason': 'stop', 'logprobs': None}, id='run--01765592-fa10-4e04-9f24-1f2fa2649220-0', usage_metadata={'input_tokens': 84, 'output_tokens': 29, 'total_tokens': 113})]}\n"
     ]
    }
   ],
   "source": [
    "for chunk in graph_builder.stream({'messages': \"Hi,My name is Satish And I like cricket\"}, config, stream_mode=\"values\"):\n",
    "    print(chunk)"
   ]
  },
  {
   "cell_type": "code",
   "execution_count": 59,
   "id": "bf9460b3",
   "metadata": {},
   "outputs": [
    {
     "name": "stdout",
     "output_type": "stream",
     "text": [
      "{'SuperBot': {'messages': [AIMessage(content=\"Nice to meet you, Satish! Cricket is a fantastic sport, isn't it? Do you have a favorite team or player?\", additional_kwargs={}, response_metadata={'token_usage': {'completion_tokens': 28, 'prompt_tokens': 69, 'total_tokens': 97, 'completion_time': 0.025923989, 'prompt_time': 0.009224413, 'queue_time': 0.275611945, 'total_time': 0.035148402}, 'model_name': 'llama3-8b-8192', 'system_fingerprint': 'fp_8b7c3a83f7', 'finish_reason': 'stop', 'logprobs': None}, id='run--9fbaff61-a215-4b12-8375-75a65013da71-0', usage_metadata={'input_tokens': 69, 'output_tokens': 28, 'total_tokens': 97})]}}\n"
     ]
    }
   ],
   "source": [
    "# Create a thread\n",
    "config = {\"configurable\": {\"thread_id\": \"4\"}}\n",
    "\n",
    "for chunk in graph_builder.stream({'messages': \"Hi,My name is Satish And I like cricket\"}, config, stream_mode=\"updates\"):\n",
    "    print(chunk)"
   ]
  },
  {
   "cell_type": "code",
   "execution_count": 60,
   "id": "f6abeab4",
   "metadata": {},
   "outputs": [
    {
     "name": "stdout",
     "output_type": "stream",
     "text": [
      "{'messages': [HumanMessage(content='Hi,My name is Satish And I like cricket', additional_kwargs={}, response_metadata={}, id='83b4f6df-c676-4a40-b5ef-4e29f9f814aa'), AIMessage(content=\"Nice to meet you, Satish! Cricket is a fantastic sport, isn't it? Do you have a favorite team or player?\", additional_kwargs={}, response_metadata={'token_usage': {'completion_tokens': 28, 'prompt_tokens': 21, 'total_tokens': 49, 'completion_time': 0.040196216, 'prompt_time': 0.012771219, 'queue_time': 0.510418419, 'total_time': 0.052967435}, 'model_name': 'llama3-8b-8192', 'system_fingerprint': 'fp_8af39bf2ae', 'finish_reason': 'stop', 'logprobs': None}, id='run--a24c2ece-8ad6-4d6f-a3fd-7b1e9b675793-0', usage_metadata={'input_tokens': 21, 'output_tokens': 28, 'total_tokens': 49}), HumanMessage(content='Hi,My name is Satish And I like cricket', additional_kwargs={}, response_metadata={}, id='9f99fe46-358f-4317-9f8c-0b0b63d2a306'), AIMessage(content=\"Nice to meet you, Satish! Cricket is a fantastic sport, isn't it? Do you have a favorite team or player?\", additional_kwargs={}, response_metadata={'token_usage': {'completion_tokens': 28, 'prompt_tokens': 69, 'total_tokens': 97, 'completion_time': 0.025923989, 'prompt_time': 0.009224413, 'queue_time': 0.275611945, 'total_time': 0.035148402}, 'model_name': 'llama3-8b-8192', 'system_fingerprint': 'fp_8b7c3a83f7', 'finish_reason': 'stop', 'logprobs': None}, id='run--9fbaff61-a215-4b12-8375-75a65013da71-0', usage_metadata={'input_tokens': 69, 'output_tokens': 28, 'total_tokens': 97}), HumanMessage(content='I also like football', additional_kwargs={}, response_metadata={}, id='91e173c6-2da7-4709-be73-2f195879b15b')]}\n",
      "{'messages': [HumanMessage(content='Hi,My name is Satish And I like cricket', additional_kwargs={}, response_metadata={}, id='83b4f6df-c676-4a40-b5ef-4e29f9f814aa'), AIMessage(content=\"Nice to meet you, Satish! Cricket is a fantastic sport, isn't it? Do you have a favorite team or player?\", additional_kwargs={}, response_metadata={'token_usage': {'completion_tokens': 28, 'prompt_tokens': 21, 'total_tokens': 49, 'completion_time': 0.040196216, 'prompt_time': 0.012771219, 'queue_time': 0.510418419, 'total_time': 0.052967435}, 'model_name': 'llama3-8b-8192', 'system_fingerprint': 'fp_8af39bf2ae', 'finish_reason': 'stop', 'logprobs': None}, id='run--a24c2ece-8ad6-4d6f-a3fd-7b1e9b675793-0', usage_metadata={'input_tokens': 21, 'output_tokens': 28, 'total_tokens': 49}), HumanMessage(content='Hi,My name is Satish And I like cricket', additional_kwargs={}, response_metadata={}, id='9f99fe46-358f-4317-9f8c-0b0b63d2a306'), AIMessage(content=\"Nice to meet you, Satish! Cricket is a fantastic sport, isn't it? Do you have a favorite team or player?\", additional_kwargs={}, response_metadata={'token_usage': {'completion_tokens': 28, 'prompt_tokens': 69, 'total_tokens': 97, 'completion_time': 0.025923989, 'prompt_time': 0.009224413, 'queue_time': 0.275611945, 'total_time': 0.035148402}, 'model_name': 'llama3-8b-8192', 'system_fingerprint': 'fp_8b7c3a83f7', 'finish_reason': 'stop', 'logprobs': None}, id='run--9fbaff61-a215-4b12-8375-75a65013da71-0', usage_metadata={'input_tokens': 69, 'output_tokens': 28, 'total_tokens': 97}), HumanMessage(content='I also like football', additional_kwargs={}, response_metadata={}, id='91e173c6-2da7-4709-be73-2f195879b15b'), AIMessage(content=\"So, you're a fan of both cricket and football, Satish! That's great! Which league or team do you follow in football? Are you a fan of the Indian Super League (ISL) or do you follow a European league like the Premier League or La Liga?\", additional_kwargs={}, response_metadata={'token_usage': {'completion_tokens': 58, 'prompt_tokens': 110, 'total_tokens': 168, 'completion_time': 0.065425009, 'prompt_time': 0.013145465, 'queue_time': 0.270200134, 'total_time': 0.078570474}, 'model_name': 'llama3-8b-8192', 'system_fingerprint': 'fp_8af39bf2ae', 'finish_reason': 'stop', 'logprobs': None}, id='run--393b7e3c-4f92-4c84-b9bf-dc43a72eff79-0', usage_metadata={'input_tokens': 110, 'output_tokens': 58, 'total_tokens': 168})]}\n"
     ]
    }
   ],
   "source": [
    "for chunk in graph_builder.stream({'messages': \"I also like football\"}, config, stream_mode=\"values\"):\n",
    "    print(chunk)"
   ]
  },
  {
   "cell_type": "code",
   "execution_count": 61,
   "id": "83d7e77f",
   "metadata": {},
   "outputs": [
    {
     "name": "stdout",
     "output_type": "stream",
     "text": [
      "{'event': 'on_chain_start', 'data': {'input': {'messages': ['Hi My name is Krish and I like to play cricket']}}, 'name': 'LangGraph', 'tags': [], 'run_id': 'b732efc4-b5f1-43bc-8c62-dee9f5cd1fd6', 'metadata': {'thread_id': '5'}, 'parent_ids': []}\n",
      "{'event': 'on_chain_start', 'data': {'input': {'messages': [HumanMessage(content='Hi My name is Krish and I like to play cricket', additional_kwargs={}, response_metadata={}, id='6099e853-952f-472a-9de8-98e8400cf736')]}}, 'name': 'SuperBot', 'tags': ['graph:step:1'], 'run_id': '9843c99a-568c-40cc-b37d-04eed1f7f8b0', 'metadata': {'thread_id': '5', 'langgraph_step': 1, 'langgraph_node': 'SuperBot', 'langgraph_triggers': ('branch:to:SuperBot',), 'langgraph_path': ('__pregel_pull', 'SuperBot'), 'langgraph_checkpoint_ns': 'SuperBot:09977586-9d7a-bd70-552c-21dcc9564447'}, 'parent_ids': ['b732efc4-b5f1-43bc-8c62-dee9f5cd1fd6']}\n",
      "{'event': 'on_chat_model_start', 'data': {'input': {'messages': [[HumanMessage(content='Hi My name is Krish and I like to play cricket', additional_kwargs={}, response_metadata={}, id='6099e853-952f-472a-9de8-98e8400cf736')]]}}, 'name': 'ChatGroq', 'tags': ['seq:step:1'], 'run_id': 'e4ffc834-6a78-4876-a572-f1afe44ed349', 'metadata': {'thread_id': '5', 'langgraph_step': 1, 'langgraph_node': 'SuperBot', 'langgraph_triggers': ('branch:to:SuperBot',), 'langgraph_path': ('__pregel_pull', 'SuperBot'), 'langgraph_checkpoint_ns': 'SuperBot:09977586-9d7a-bd70-552c-21dcc9564447', 'checkpoint_ns': 'SuperBot:09977586-9d7a-bd70-552c-21dcc9564447', 'ls_provider': 'groq', 'ls_model_name': 'llama3-8b-8192', 'ls_model_type': 'chat', 'ls_temperature': 0.7}, 'parent_ids': ['b732efc4-b5f1-43bc-8c62-dee9f5cd1fd6', '9843c99a-568c-40cc-b37d-04eed1f7f8b0']}\n",
      "{'event': 'on_chat_model_stream', 'data': {'chunk': AIMessageChunk(content='', additional_kwargs={}, response_metadata={}, id='run--e4ffc834-6a78-4876-a572-f1afe44ed349')}, 'run_id': 'e4ffc834-6a78-4876-a572-f1afe44ed349', 'name': 'ChatGroq', 'tags': ['seq:step:1'], 'metadata': {'thread_id': '5', 'langgraph_step': 1, 'langgraph_node': 'SuperBot', 'langgraph_triggers': ('branch:to:SuperBot',), 'langgraph_path': ('__pregel_pull', 'SuperBot'), 'langgraph_checkpoint_ns': 'SuperBot:09977586-9d7a-bd70-552c-21dcc9564447', 'checkpoint_ns': 'SuperBot:09977586-9d7a-bd70-552c-21dcc9564447', 'ls_provider': 'groq', 'ls_model_name': 'llama3-8b-8192', 'ls_model_type': 'chat', 'ls_temperature': 0.7}, 'parent_ids': ['b732efc4-b5f1-43bc-8c62-dee9f5cd1fd6', '9843c99a-568c-40cc-b37d-04eed1f7f8b0']}\n",
      "{'event': 'on_chat_model_stream', 'data': {'chunk': AIMessageChunk(content='Hi', additional_kwargs={}, response_metadata={}, id='run--e4ffc834-6a78-4876-a572-f1afe44ed349')}, 'run_id': 'e4ffc834-6a78-4876-a572-f1afe44ed349', 'name': 'ChatGroq', 'tags': ['seq:step:1'], 'metadata': {'thread_id': '5', 'langgraph_step': 1, 'langgraph_node': 'SuperBot', 'langgraph_triggers': ('branch:to:SuperBot',), 'langgraph_path': ('__pregel_pull', 'SuperBot'), 'langgraph_checkpoint_ns': 'SuperBot:09977586-9d7a-bd70-552c-21dcc9564447', 'checkpoint_ns': 'SuperBot:09977586-9d7a-bd70-552c-21dcc9564447', 'ls_provider': 'groq', 'ls_model_name': 'llama3-8b-8192', 'ls_model_type': 'chat', 'ls_temperature': 0.7}, 'parent_ids': ['b732efc4-b5f1-43bc-8c62-dee9f5cd1fd6', '9843c99a-568c-40cc-b37d-04eed1f7f8b0']}\n",
      "{'event': 'on_chat_model_stream', 'data': {'chunk': AIMessageChunk(content=' Krish', additional_kwargs={}, response_metadata={}, id='run--e4ffc834-6a78-4876-a572-f1afe44ed349')}, 'run_id': 'e4ffc834-6a78-4876-a572-f1afe44ed349', 'name': 'ChatGroq', 'tags': ['seq:step:1'], 'metadata': {'thread_id': '5', 'langgraph_step': 1, 'langgraph_node': 'SuperBot', 'langgraph_triggers': ('branch:to:SuperBot',), 'langgraph_path': ('__pregel_pull', 'SuperBot'), 'langgraph_checkpoint_ns': 'SuperBot:09977586-9d7a-bd70-552c-21dcc9564447', 'checkpoint_ns': 'SuperBot:09977586-9d7a-bd70-552c-21dcc9564447', 'ls_provider': 'groq', 'ls_model_name': 'llama3-8b-8192', 'ls_model_type': 'chat', 'ls_temperature': 0.7}, 'parent_ids': ['b732efc4-b5f1-43bc-8c62-dee9f5cd1fd6', '9843c99a-568c-40cc-b37d-04eed1f7f8b0']}\n",
      "{'event': 'on_chat_model_stream', 'data': {'chunk': AIMessageChunk(content='!', additional_kwargs={}, response_metadata={}, id='run--e4ffc834-6a78-4876-a572-f1afe44ed349')}, 'run_id': 'e4ffc834-6a78-4876-a572-f1afe44ed349', 'name': 'ChatGroq', 'tags': ['seq:step:1'], 'metadata': {'thread_id': '5', 'langgraph_step': 1, 'langgraph_node': 'SuperBot', 'langgraph_triggers': ('branch:to:SuperBot',), 'langgraph_path': ('__pregel_pull', 'SuperBot'), 'langgraph_checkpoint_ns': 'SuperBot:09977586-9d7a-bd70-552c-21dcc9564447', 'checkpoint_ns': 'SuperBot:09977586-9d7a-bd70-552c-21dcc9564447', 'ls_provider': 'groq', 'ls_model_name': 'llama3-8b-8192', 'ls_model_type': 'chat', 'ls_temperature': 0.7}, 'parent_ids': ['b732efc4-b5f1-43bc-8c62-dee9f5cd1fd6', '9843c99a-568c-40cc-b37d-04eed1f7f8b0']}\n",
      "{'event': 'on_chat_model_stream', 'data': {'chunk': AIMessageChunk(content=' That', additional_kwargs={}, response_metadata={}, id='run--e4ffc834-6a78-4876-a572-f1afe44ed349')}, 'run_id': 'e4ffc834-6a78-4876-a572-f1afe44ed349', 'name': 'ChatGroq', 'tags': ['seq:step:1'], 'metadata': {'thread_id': '5', 'langgraph_step': 1, 'langgraph_node': 'SuperBot', 'langgraph_triggers': ('branch:to:SuperBot',), 'langgraph_path': ('__pregel_pull', 'SuperBot'), 'langgraph_checkpoint_ns': 'SuperBot:09977586-9d7a-bd70-552c-21dcc9564447', 'checkpoint_ns': 'SuperBot:09977586-9d7a-bd70-552c-21dcc9564447', 'ls_provider': 'groq', 'ls_model_name': 'llama3-8b-8192', 'ls_model_type': 'chat', 'ls_temperature': 0.7}, 'parent_ids': ['b732efc4-b5f1-43bc-8c62-dee9f5cd1fd6', '9843c99a-568c-40cc-b37d-04eed1f7f8b0']}\n",
      "{'event': 'on_chat_model_stream', 'data': {'chunk': AIMessageChunk(content=\"'s\", additional_kwargs={}, response_metadata={}, id='run--e4ffc834-6a78-4876-a572-f1afe44ed349')}, 'run_id': 'e4ffc834-6a78-4876-a572-f1afe44ed349', 'name': 'ChatGroq', 'tags': ['seq:step:1'], 'metadata': {'thread_id': '5', 'langgraph_step': 1, 'langgraph_node': 'SuperBot', 'langgraph_triggers': ('branch:to:SuperBot',), 'langgraph_path': ('__pregel_pull', 'SuperBot'), 'langgraph_checkpoint_ns': 'SuperBot:09977586-9d7a-bd70-552c-21dcc9564447', 'checkpoint_ns': 'SuperBot:09977586-9d7a-bd70-552c-21dcc9564447', 'ls_provider': 'groq', 'ls_model_name': 'llama3-8b-8192', 'ls_model_type': 'chat', 'ls_temperature': 0.7}, 'parent_ids': ['b732efc4-b5f1-43bc-8c62-dee9f5cd1fd6', '9843c99a-568c-40cc-b37d-04eed1f7f8b0']}\n",
      "{'event': 'on_chat_model_stream', 'data': {'chunk': AIMessageChunk(content=' great', additional_kwargs={}, response_metadata={}, id='run--e4ffc834-6a78-4876-a572-f1afe44ed349')}, 'run_id': 'e4ffc834-6a78-4876-a572-f1afe44ed349', 'name': 'ChatGroq', 'tags': ['seq:step:1'], 'metadata': {'thread_id': '5', 'langgraph_step': 1, 'langgraph_node': 'SuperBot', 'langgraph_triggers': ('branch:to:SuperBot',), 'langgraph_path': ('__pregel_pull', 'SuperBot'), 'langgraph_checkpoint_ns': 'SuperBot:09977586-9d7a-bd70-552c-21dcc9564447', 'checkpoint_ns': 'SuperBot:09977586-9d7a-bd70-552c-21dcc9564447', 'ls_provider': 'groq', 'ls_model_name': 'llama3-8b-8192', 'ls_model_type': 'chat', 'ls_temperature': 0.7}, 'parent_ids': ['b732efc4-b5f1-43bc-8c62-dee9f5cd1fd6', '9843c99a-568c-40cc-b37d-04eed1f7f8b0']}\n",
      "{'event': 'on_chat_model_stream', 'data': {'chunk': AIMessageChunk(content=' to', additional_kwargs={}, response_metadata={}, id='run--e4ffc834-6a78-4876-a572-f1afe44ed349')}, 'run_id': 'e4ffc834-6a78-4876-a572-f1afe44ed349', 'name': 'ChatGroq', 'tags': ['seq:step:1'], 'metadata': {'thread_id': '5', 'langgraph_step': 1, 'langgraph_node': 'SuperBot', 'langgraph_triggers': ('branch:to:SuperBot',), 'langgraph_path': ('__pregel_pull', 'SuperBot'), 'langgraph_checkpoint_ns': 'SuperBot:09977586-9d7a-bd70-552c-21dcc9564447', 'checkpoint_ns': 'SuperBot:09977586-9d7a-bd70-552c-21dcc9564447', 'ls_provider': 'groq', 'ls_model_name': 'llama3-8b-8192', 'ls_model_type': 'chat', 'ls_temperature': 0.7}, 'parent_ids': ['b732efc4-b5f1-43bc-8c62-dee9f5cd1fd6', '9843c99a-568c-40cc-b37d-04eed1f7f8b0']}\n",
      "{'event': 'on_chat_model_stream', 'data': {'chunk': AIMessageChunk(content=' hear', additional_kwargs={}, response_metadata={}, id='run--e4ffc834-6a78-4876-a572-f1afe44ed349')}, 'run_id': 'e4ffc834-6a78-4876-a572-f1afe44ed349', 'name': 'ChatGroq', 'tags': ['seq:step:1'], 'metadata': {'thread_id': '5', 'langgraph_step': 1, 'langgraph_node': 'SuperBot', 'langgraph_triggers': ('branch:to:SuperBot',), 'langgraph_path': ('__pregel_pull', 'SuperBot'), 'langgraph_checkpoint_ns': 'SuperBot:09977586-9d7a-bd70-552c-21dcc9564447', 'checkpoint_ns': 'SuperBot:09977586-9d7a-bd70-552c-21dcc9564447', 'ls_provider': 'groq', 'ls_model_name': 'llama3-8b-8192', 'ls_model_type': 'chat', 'ls_temperature': 0.7}, 'parent_ids': ['b732efc4-b5f1-43bc-8c62-dee9f5cd1fd6', '9843c99a-568c-40cc-b37d-04eed1f7f8b0']}\n",
      "{'event': 'on_chat_model_stream', 'data': {'chunk': AIMessageChunk(content=' that', additional_kwargs={}, response_metadata={}, id='run--e4ffc834-6a78-4876-a572-f1afe44ed349')}, 'run_id': 'e4ffc834-6a78-4876-a572-f1afe44ed349', 'name': 'ChatGroq', 'tags': ['seq:step:1'], 'metadata': {'thread_id': '5', 'langgraph_step': 1, 'langgraph_node': 'SuperBot', 'langgraph_triggers': ('branch:to:SuperBot',), 'langgraph_path': ('__pregel_pull', 'SuperBot'), 'langgraph_checkpoint_ns': 'SuperBot:09977586-9d7a-bd70-552c-21dcc9564447', 'checkpoint_ns': 'SuperBot:09977586-9d7a-bd70-552c-21dcc9564447', 'ls_provider': 'groq', 'ls_model_name': 'llama3-8b-8192', 'ls_model_type': 'chat', 'ls_temperature': 0.7}, 'parent_ids': ['b732efc4-b5f1-43bc-8c62-dee9f5cd1fd6', '9843c99a-568c-40cc-b37d-04eed1f7f8b0']}\n",
      "{'event': 'on_chat_model_stream', 'data': {'chunk': AIMessageChunk(content=' you', additional_kwargs={}, response_metadata={}, id='run--e4ffc834-6a78-4876-a572-f1afe44ed349')}, 'run_id': 'e4ffc834-6a78-4876-a572-f1afe44ed349', 'name': 'ChatGroq', 'tags': ['seq:step:1'], 'metadata': {'thread_id': '5', 'langgraph_step': 1, 'langgraph_node': 'SuperBot', 'langgraph_triggers': ('branch:to:SuperBot',), 'langgraph_path': ('__pregel_pull', 'SuperBot'), 'langgraph_checkpoint_ns': 'SuperBot:09977586-9d7a-bd70-552c-21dcc9564447', 'checkpoint_ns': 'SuperBot:09977586-9d7a-bd70-552c-21dcc9564447', 'ls_provider': 'groq', 'ls_model_name': 'llama3-8b-8192', 'ls_model_type': 'chat', 'ls_temperature': 0.7}, 'parent_ids': ['b732efc4-b5f1-43bc-8c62-dee9f5cd1fd6', '9843c99a-568c-40cc-b37d-04eed1f7f8b0']}\n",
      "{'event': 'on_chat_model_stream', 'data': {'chunk': AIMessageChunk(content=' like', additional_kwargs={}, response_metadata={}, id='run--e4ffc834-6a78-4876-a572-f1afe44ed349')}, 'run_id': 'e4ffc834-6a78-4876-a572-f1afe44ed349', 'name': 'ChatGroq', 'tags': ['seq:step:1'], 'metadata': {'thread_id': '5', 'langgraph_step': 1, 'langgraph_node': 'SuperBot', 'langgraph_triggers': ('branch:to:SuperBot',), 'langgraph_path': ('__pregel_pull', 'SuperBot'), 'langgraph_checkpoint_ns': 'SuperBot:09977586-9d7a-bd70-552c-21dcc9564447', 'checkpoint_ns': 'SuperBot:09977586-9d7a-bd70-552c-21dcc9564447', 'ls_provider': 'groq', 'ls_model_name': 'llama3-8b-8192', 'ls_model_type': 'chat', 'ls_temperature': 0.7}, 'parent_ids': ['b732efc4-b5f1-43bc-8c62-dee9f5cd1fd6', '9843c99a-568c-40cc-b37d-04eed1f7f8b0']}\n",
      "{'event': 'on_chat_model_stream', 'data': {'chunk': AIMessageChunk(content=' playing', additional_kwargs={}, response_metadata={}, id='run--e4ffc834-6a78-4876-a572-f1afe44ed349')}, 'run_id': 'e4ffc834-6a78-4876-a572-f1afe44ed349', 'name': 'ChatGroq', 'tags': ['seq:step:1'], 'metadata': {'thread_id': '5', 'langgraph_step': 1, 'langgraph_node': 'SuperBot', 'langgraph_triggers': ('branch:to:SuperBot',), 'langgraph_path': ('__pregel_pull', 'SuperBot'), 'langgraph_checkpoint_ns': 'SuperBot:09977586-9d7a-bd70-552c-21dcc9564447', 'checkpoint_ns': 'SuperBot:09977586-9d7a-bd70-552c-21dcc9564447', 'ls_provider': 'groq', 'ls_model_name': 'llama3-8b-8192', 'ls_model_type': 'chat', 'ls_temperature': 0.7}, 'parent_ids': ['b732efc4-b5f1-43bc-8c62-dee9f5cd1fd6', '9843c99a-568c-40cc-b37d-04eed1f7f8b0']}\n",
      "{'event': 'on_chat_model_stream', 'data': {'chunk': AIMessageChunk(content=' cricket', additional_kwargs={}, response_metadata={}, id='run--e4ffc834-6a78-4876-a572-f1afe44ed349')}, 'run_id': 'e4ffc834-6a78-4876-a572-f1afe44ed349', 'name': 'ChatGroq', 'tags': ['seq:step:1'], 'metadata': {'thread_id': '5', 'langgraph_step': 1, 'langgraph_node': 'SuperBot', 'langgraph_triggers': ('branch:to:SuperBot',), 'langgraph_path': ('__pregel_pull', 'SuperBot'), 'langgraph_checkpoint_ns': 'SuperBot:09977586-9d7a-bd70-552c-21dcc9564447', 'checkpoint_ns': 'SuperBot:09977586-9d7a-bd70-552c-21dcc9564447', 'ls_provider': 'groq', 'ls_model_name': 'llama3-8b-8192', 'ls_model_type': 'chat', 'ls_temperature': 0.7}, 'parent_ids': ['b732efc4-b5f1-43bc-8c62-dee9f5cd1fd6', '9843c99a-568c-40cc-b37d-04eed1f7f8b0']}\n",
      "{'event': 'on_chat_model_stream', 'data': {'chunk': AIMessageChunk(content='!', additional_kwargs={}, response_metadata={}, id='run--e4ffc834-6a78-4876-a572-f1afe44ed349')}, 'run_id': 'e4ffc834-6a78-4876-a572-f1afe44ed349', 'name': 'ChatGroq', 'tags': ['seq:step:1'], 'metadata': {'thread_id': '5', 'langgraph_step': 1, 'langgraph_node': 'SuperBot', 'langgraph_triggers': ('branch:to:SuperBot',), 'langgraph_path': ('__pregel_pull', 'SuperBot'), 'langgraph_checkpoint_ns': 'SuperBot:09977586-9d7a-bd70-552c-21dcc9564447', 'checkpoint_ns': 'SuperBot:09977586-9d7a-bd70-552c-21dcc9564447', 'ls_provider': 'groq', 'ls_model_name': 'llama3-8b-8192', 'ls_model_type': 'chat', 'ls_temperature': 0.7}, 'parent_ids': ['b732efc4-b5f1-43bc-8c62-dee9f5cd1fd6', '9843c99a-568c-40cc-b37d-04eed1f7f8b0']}\n",
      "{'event': 'on_chat_model_stream', 'data': {'chunk': AIMessageChunk(content=' What', additional_kwargs={}, response_metadata={}, id='run--e4ffc834-6a78-4876-a572-f1afe44ed349')}, 'run_id': 'e4ffc834-6a78-4876-a572-f1afe44ed349', 'name': 'ChatGroq', 'tags': ['seq:step:1'], 'metadata': {'thread_id': '5', 'langgraph_step': 1, 'langgraph_node': 'SuperBot', 'langgraph_triggers': ('branch:to:SuperBot',), 'langgraph_path': ('__pregel_pull', 'SuperBot'), 'langgraph_checkpoint_ns': 'SuperBot:09977586-9d7a-bd70-552c-21dcc9564447', 'checkpoint_ns': 'SuperBot:09977586-9d7a-bd70-552c-21dcc9564447', 'ls_provider': 'groq', 'ls_model_name': 'llama3-8b-8192', 'ls_model_type': 'chat', 'ls_temperature': 0.7}, 'parent_ids': ['b732efc4-b5f1-43bc-8c62-dee9f5cd1fd6', '9843c99a-568c-40cc-b37d-04eed1f7f8b0']}\n",
      "{'event': 'on_chat_model_stream', 'data': {'chunk': AIMessageChunk(content=\"'s\", additional_kwargs={}, response_metadata={}, id='run--e4ffc834-6a78-4876-a572-f1afe44ed349')}, 'run_id': 'e4ffc834-6a78-4876-a572-f1afe44ed349', 'name': 'ChatGroq', 'tags': ['seq:step:1'], 'metadata': {'thread_id': '5', 'langgraph_step': 1, 'langgraph_node': 'SuperBot', 'langgraph_triggers': ('branch:to:SuperBot',), 'langgraph_path': ('__pregel_pull', 'SuperBot'), 'langgraph_checkpoint_ns': 'SuperBot:09977586-9d7a-bd70-552c-21dcc9564447', 'checkpoint_ns': 'SuperBot:09977586-9d7a-bd70-552c-21dcc9564447', 'ls_provider': 'groq', 'ls_model_name': 'llama3-8b-8192', 'ls_model_type': 'chat', 'ls_temperature': 0.7}, 'parent_ids': ['b732efc4-b5f1-43bc-8c62-dee9f5cd1fd6', '9843c99a-568c-40cc-b37d-04eed1f7f8b0']}\n",
      "{'event': 'on_chat_model_stream', 'data': {'chunk': AIMessageChunk(content=' your', additional_kwargs={}, response_metadata={}, id='run--e4ffc834-6a78-4876-a572-f1afe44ed349')}, 'run_id': 'e4ffc834-6a78-4876-a572-f1afe44ed349', 'name': 'ChatGroq', 'tags': ['seq:step:1'], 'metadata': {'thread_id': '5', 'langgraph_step': 1, 'langgraph_node': 'SuperBot', 'langgraph_triggers': ('branch:to:SuperBot',), 'langgraph_path': ('__pregel_pull', 'SuperBot'), 'langgraph_checkpoint_ns': 'SuperBot:09977586-9d7a-bd70-552c-21dcc9564447', 'checkpoint_ns': 'SuperBot:09977586-9d7a-bd70-552c-21dcc9564447', 'ls_provider': 'groq', 'ls_model_name': 'llama3-8b-8192', 'ls_model_type': 'chat', 'ls_temperature': 0.7}, 'parent_ids': ['b732efc4-b5f1-43bc-8c62-dee9f5cd1fd6', '9843c99a-568c-40cc-b37d-04eed1f7f8b0']}\n",
      "{'event': 'on_chat_model_stream', 'data': {'chunk': AIMessageChunk(content=' favorite', additional_kwargs={}, response_metadata={}, id='run--e4ffc834-6a78-4876-a572-f1afe44ed349')}, 'run_id': 'e4ffc834-6a78-4876-a572-f1afe44ed349', 'name': 'ChatGroq', 'tags': ['seq:step:1'], 'metadata': {'thread_id': '5', 'langgraph_step': 1, 'langgraph_node': 'SuperBot', 'langgraph_triggers': ('branch:to:SuperBot',), 'langgraph_path': ('__pregel_pull', 'SuperBot'), 'langgraph_checkpoint_ns': 'SuperBot:09977586-9d7a-bd70-552c-21dcc9564447', 'checkpoint_ns': 'SuperBot:09977586-9d7a-bd70-552c-21dcc9564447', 'ls_provider': 'groq', 'ls_model_name': 'llama3-8b-8192', 'ls_model_type': 'chat', 'ls_temperature': 0.7}, 'parent_ids': ['b732efc4-b5f1-43bc-8c62-dee9f5cd1fd6', '9843c99a-568c-40cc-b37d-04eed1f7f8b0']}\n",
      "{'event': 'on_chat_model_stream', 'data': {'chunk': AIMessageChunk(content=' part', additional_kwargs={}, response_metadata={}, id='run--e4ffc834-6a78-4876-a572-f1afe44ed349')}, 'run_id': 'e4ffc834-6a78-4876-a572-f1afe44ed349', 'name': 'ChatGroq', 'tags': ['seq:step:1'], 'metadata': {'thread_id': '5', 'langgraph_step': 1, 'langgraph_node': 'SuperBot', 'langgraph_triggers': ('branch:to:SuperBot',), 'langgraph_path': ('__pregel_pull', 'SuperBot'), 'langgraph_checkpoint_ns': 'SuperBot:09977586-9d7a-bd70-552c-21dcc9564447', 'checkpoint_ns': 'SuperBot:09977586-9d7a-bd70-552c-21dcc9564447', 'ls_provider': 'groq', 'ls_model_name': 'llama3-8b-8192', 'ls_model_type': 'chat', 'ls_temperature': 0.7}, 'parent_ids': ['b732efc4-b5f1-43bc-8c62-dee9f5cd1fd6', '9843c99a-568c-40cc-b37d-04eed1f7f8b0']}\n",
      "{'event': 'on_chat_model_stream', 'data': {'chunk': AIMessageChunk(content=' about', additional_kwargs={}, response_metadata={}, id='run--e4ffc834-6a78-4876-a572-f1afe44ed349')}, 'run_id': 'e4ffc834-6a78-4876-a572-f1afe44ed349', 'name': 'ChatGroq', 'tags': ['seq:step:1'], 'metadata': {'thread_id': '5', 'langgraph_step': 1, 'langgraph_node': 'SuperBot', 'langgraph_triggers': ('branch:to:SuperBot',), 'langgraph_path': ('__pregel_pull', 'SuperBot'), 'langgraph_checkpoint_ns': 'SuperBot:09977586-9d7a-bd70-552c-21dcc9564447', 'checkpoint_ns': 'SuperBot:09977586-9d7a-bd70-552c-21dcc9564447', 'ls_provider': 'groq', 'ls_model_name': 'llama3-8b-8192', 'ls_model_type': 'chat', 'ls_temperature': 0.7}, 'parent_ids': ['b732efc4-b5f1-43bc-8c62-dee9f5cd1fd6', '9843c99a-568c-40cc-b37d-04eed1f7f8b0']}\n",
      "{'event': 'on_chat_model_stream', 'data': {'chunk': AIMessageChunk(content=' playing', additional_kwargs={}, response_metadata={}, id='run--e4ffc834-6a78-4876-a572-f1afe44ed349')}, 'run_id': 'e4ffc834-6a78-4876-a572-f1afe44ed349', 'name': 'ChatGroq', 'tags': ['seq:step:1'], 'metadata': {'thread_id': '5', 'langgraph_step': 1, 'langgraph_node': 'SuperBot', 'langgraph_triggers': ('branch:to:SuperBot',), 'langgraph_path': ('__pregel_pull', 'SuperBot'), 'langgraph_checkpoint_ns': 'SuperBot:09977586-9d7a-bd70-552c-21dcc9564447', 'checkpoint_ns': 'SuperBot:09977586-9d7a-bd70-552c-21dcc9564447', 'ls_provider': 'groq', 'ls_model_name': 'llama3-8b-8192', 'ls_model_type': 'chat', 'ls_temperature': 0.7}, 'parent_ids': ['b732efc4-b5f1-43bc-8c62-dee9f5cd1fd6', '9843c99a-568c-40cc-b37d-04eed1f7f8b0']}\n",
      "{'event': 'on_chat_model_stream', 'data': {'chunk': AIMessageChunk(content=' cricket', additional_kwargs={}, response_metadata={}, id='run--e4ffc834-6a78-4876-a572-f1afe44ed349')}, 'run_id': 'e4ffc834-6a78-4876-a572-f1afe44ed349', 'name': 'ChatGroq', 'tags': ['seq:step:1'], 'metadata': {'thread_id': '5', 'langgraph_step': 1, 'langgraph_node': 'SuperBot', 'langgraph_triggers': ('branch:to:SuperBot',), 'langgraph_path': ('__pregel_pull', 'SuperBot'), 'langgraph_checkpoint_ns': 'SuperBot:09977586-9d7a-bd70-552c-21dcc9564447', 'checkpoint_ns': 'SuperBot:09977586-9d7a-bd70-552c-21dcc9564447', 'ls_provider': 'groq', 'ls_model_name': 'llama3-8b-8192', 'ls_model_type': 'chat', 'ls_temperature': 0.7}, 'parent_ids': ['b732efc4-b5f1-43bc-8c62-dee9f5cd1fd6', '9843c99a-568c-40cc-b37d-04eed1f7f8b0']}\n",
      "{'event': 'on_chat_model_stream', 'data': {'chunk': AIMessageChunk(content='?', additional_kwargs={}, response_metadata={}, id='run--e4ffc834-6a78-4876-a572-f1afe44ed349')}, 'run_id': 'e4ffc834-6a78-4876-a572-f1afe44ed349', 'name': 'ChatGroq', 'tags': ['seq:step:1'], 'metadata': {'thread_id': '5', 'langgraph_step': 1, 'langgraph_node': 'SuperBot', 'langgraph_triggers': ('branch:to:SuperBot',), 'langgraph_path': ('__pregel_pull', 'SuperBot'), 'langgraph_checkpoint_ns': 'SuperBot:09977586-9d7a-bd70-552c-21dcc9564447', 'checkpoint_ns': 'SuperBot:09977586-9d7a-bd70-552c-21dcc9564447', 'ls_provider': 'groq', 'ls_model_name': 'llama3-8b-8192', 'ls_model_type': 'chat', 'ls_temperature': 0.7}, 'parent_ids': ['b732efc4-b5f1-43bc-8c62-dee9f5cd1fd6', '9843c99a-568c-40cc-b37d-04eed1f7f8b0']}\n",
      "{'event': 'on_chat_model_stream', 'data': {'chunk': AIMessageChunk(content=' Is', additional_kwargs={}, response_metadata={}, id='run--e4ffc834-6a78-4876-a572-f1afe44ed349')}, 'run_id': 'e4ffc834-6a78-4876-a572-f1afe44ed349', 'name': 'ChatGroq', 'tags': ['seq:step:1'], 'metadata': {'thread_id': '5', 'langgraph_step': 1, 'langgraph_node': 'SuperBot', 'langgraph_triggers': ('branch:to:SuperBot',), 'langgraph_path': ('__pregel_pull', 'SuperBot'), 'langgraph_checkpoint_ns': 'SuperBot:09977586-9d7a-bd70-552c-21dcc9564447', 'checkpoint_ns': 'SuperBot:09977586-9d7a-bd70-552c-21dcc9564447', 'ls_provider': 'groq', 'ls_model_name': 'llama3-8b-8192', 'ls_model_type': 'chat', 'ls_temperature': 0.7}, 'parent_ids': ['b732efc4-b5f1-43bc-8c62-dee9f5cd1fd6', '9843c99a-568c-40cc-b37d-04eed1f7f8b0']}\n",
      "{'event': 'on_chat_model_stream', 'data': {'chunk': AIMessageChunk(content=' it', additional_kwargs={}, response_metadata={}, id='run--e4ffc834-6a78-4876-a572-f1afe44ed349')}, 'run_id': 'e4ffc834-6a78-4876-a572-f1afe44ed349', 'name': 'ChatGroq', 'tags': ['seq:step:1'], 'metadata': {'thread_id': '5', 'langgraph_step': 1, 'langgraph_node': 'SuperBot', 'langgraph_triggers': ('branch:to:SuperBot',), 'langgraph_path': ('__pregel_pull', 'SuperBot'), 'langgraph_checkpoint_ns': 'SuperBot:09977586-9d7a-bd70-552c-21dcc9564447', 'checkpoint_ns': 'SuperBot:09977586-9d7a-bd70-552c-21dcc9564447', 'ls_provider': 'groq', 'ls_model_name': 'llama3-8b-8192', 'ls_model_type': 'chat', 'ls_temperature': 0.7}, 'parent_ids': ['b732efc4-b5f1-43bc-8c62-dee9f5cd1fd6', '9843c99a-568c-40cc-b37d-04eed1f7f8b0']}\n",
      "{'event': 'on_chat_model_stream', 'data': {'chunk': AIMessageChunk(content=' batting', additional_kwargs={}, response_metadata={}, id='run--e4ffc834-6a78-4876-a572-f1afe44ed349')}, 'run_id': 'e4ffc834-6a78-4876-a572-f1afe44ed349', 'name': 'ChatGroq', 'tags': ['seq:step:1'], 'metadata': {'thread_id': '5', 'langgraph_step': 1, 'langgraph_node': 'SuperBot', 'langgraph_triggers': ('branch:to:SuperBot',), 'langgraph_path': ('__pregel_pull', 'SuperBot'), 'langgraph_checkpoint_ns': 'SuperBot:09977586-9d7a-bd70-552c-21dcc9564447', 'checkpoint_ns': 'SuperBot:09977586-9d7a-bd70-552c-21dcc9564447', 'ls_provider': 'groq', 'ls_model_name': 'llama3-8b-8192', 'ls_model_type': 'chat', 'ls_temperature': 0.7}, 'parent_ids': ['b732efc4-b5f1-43bc-8c62-dee9f5cd1fd6', '9843c99a-568c-40cc-b37d-04eed1f7f8b0']}\n",
      "{'event': 'on_chat_model_stream', 'data': {'chunk': AIMessageChunk(content=',', additional_kwargs={}, response_metadata={}, id='run--e4ffc834-6a78-4876-a572-f1afe44ed349')}, 'run_id': 'e4ffc834-6a78-4876-a572-f1afe44ed349', 'name': 'ChatGroq', 'tags': ['seq:step:1'], 'metadata': {'thread_id': '5', 'langgraph_step': 1, 'langgraph_node': 'SuperBot', 'langgraph_triggers': ('branch:to:SuperBot',), 'langgraph_path': ('__pregel_pull', 'SuperBot'), 'langgraph_checkpoint_ns': 'SuperBot:09977586-9d7a-bd70-552c-21dcc9564447', 'checkpoint_ns': 'SuperBot:09977586-9d7a-bd70-552c-21dcc9564447', 'ls_provider': 'groq', 'ls_model_name': 'llama3-8b-8192', 'ls_model_type': 'chat', 'ls_temperature': 0.7}, 'parent_ids': ['b732efc4-b5f1-43bc-8c62-dee9f5cd1fd6', '9843c99a-568c-40cc-b37d-04eed1f7f8b0']}\n",
      "{'event': 'on_chat_model_stream', 'data': {'chunk': AIMessageChunk(content=' bowling', additional_kwargs={}, response_metadata={}, id='run--e4ffc834-6a78-4876-a572-f1afe44ed349')}, 'run_id': 'e4ffc834-6a78-4876-a572-f1afe44ed349', 'name': 'ChatGroq', 'tags': ['seq:step:1'], 'metadata': {'thread_id': '5', 'langgraph_step': 1, 'langgraph_node': 'SuperBot', 'langgraph_triggers': ('branch:to:SuperBot',), 'langgraph_path': ('__pregel_pull', 'SuperBot'), 'langgraph_checkpoint_ns': 'SuperBot:09977586-9d7a-bd70-552c-21dcc9564447', 'checkpoint_ns': 'SuperBot:09977586-9d7a-bd70-552c-21dcc9564447', 'ls_provider': 'groq', 'ls_model_name': 'llama3-8b-8192', 'ls_model_type': 'chat', 'ls_temperature': 0.7}, 'parent_ids': ['b732efc4-b5f1-43bc-8c62-dee9f5cd1fd6', '9843c99a-568c-40cc-b37d-04eed1f7f8b0']}\n",
      "{'event': 'on_chat_model_stream', 'data': {'chunk': AIMessageChunk(content=',', additional_kwargs={}, response_metadata={}, id='run--e4ffc834-6a78-4876-a572-f1afe44ed349')}, 'run_id': 'e4ffc834-6a78-4876-a572-f1afe44ed349', 'name': 'ChatGroq', 'tags': ['seq:step:1'], 'metadata': {'thread_id': '5', 'langgraph_step': 1, 'langgraph_node': 'SuperBot', 'langgraph_triggers': ('branch:to:SuperBot',), 'langgraph_path': ('__pregel_pull', 'SuperBot'), 'langgraph_checkpoint_ns': 'SuperBot:09977586-9d7a-bd70-552c-21dcc9564447', 'checkpoint_ns': 'SuperBot:09977586-9d7a-bd70-552c-21dcc9564447', 'ls_provider': 'groq', 'ls_model_name': 'llama3-8b-8192', 'ls_model_type': 'chat', 'ls_temperature': 0.7}, 'parent_ids': ['b732efc4-b5f1-43bc-8c62-dee9f5cd1fd6', '9843c99a-568c-40cc-b37d-04eed1f7f8b0']}\n",
      "{'event': 'on_chat_model_stream', 'data': {'chunk': AIMessageChunk(content=' or', additional_kwargs={}, response_metadata={}, id='run--e4ffc834-6a78-4876-a572-f1afe44ed349')}, 'run_id': 'e4ffc834-6a78-4876-a572-f1afe44ed349', 'name': 'ChatGroq', 'tags': ['seq:step:1'], 'metadata': {'thread_id': '5', 'langgraph_step': 1, 'langgraph_node': 'SuperBot', 'langgraph_triggers': ('branch:to:SuperBot',), 'langgraph_path': ('__pregel_pull', 'SuperBot'), 'langgraph_checkpoint_ns': 'SuperBot:09977586-9d7a-bd70-552c-21dcc9564447', 'checkpoint_ns': 'SuperBot:09977586-9d7a-bd70-552c-21dcc9564447', 'ls_provider': 'groq', 'ls_model_name': 'llama3-8b-8192', 'ls_model_type': 'chat', 'ls_temperature': 0.7}, 'parent_ids': ['b732efc4-b5f1-43bc-8c62-dee9f5cd1fd6', '9843c99a-568c-40cc-b37d-04eed1f7f8b0']}\n",
      "{'event': 'on_chat_model_stream', 'data': {'chunk': AIMessageChunk(content=' field', additional_kwargs={}, response_metadata={}, id='run--e4ffc834-6a78-4876-a572-f1afe44ed349')}, 'run_id': 'e4ffc834-6a78-4876-a572-f1afe44ed349', 'name': 'ChatGroq', 'tags': ['seq:step:1'], 'metadata': {'thread_id': '5', 'langgraph_step': 1, 'langgraph_node': 'SuperBot', 'langgraph_triggers': ('branch:to:SuperBot',), 'langgraph_path': ('__pregel_pull', 'SuperBot'), 'langgraph_checkpoint_ns': 'SuperBot:09977586-9d7a-bd70-552c-21dcc9564447', 'checkpoint_ns': 'SuperBot:09977586-9d7a-bd70-552c-21dcc9564447', 'ls_provider': 'groq', 'ls_model_name': 'llama3-8b-8192', 'ls_model_type': 'chat', 'ls_temperature': 0.7}, 'parent_ids': ['b732efc4-b5f1-43bc-8c62-dee9f5cd1fd6', '9843c99a-568c-40cc-b37d-04eed1f7f8b0']}\n",
      "{'event': 'on_chat_model_stream', 'data': {'chunk': AIMessageChunk(content='ing', additional_kwargs={}, response_metadata={}, id='run--e4ffc834-6a78-4876-a572-f1afe44ed349')}, 'run_id': 'e4ffc834-6a78-4876-a572-f1afe44ed349', 'name': 'ChatGroq', 'tags': ['seq:step:1'], 'metadata': {'thread_id': '5', 'langgraph_step': 1, 'langgraph_node': 'SuperBot', 'langgraph_triggers': ('branch:to:SuperBot',), 'langgraph_path': ('__pregel_pull', 'SuperBot'), 'langgraph_checkpoint_ns': 'SuperBot:09977586-9d7a-bd70-552c-21dcc9564447', 'checkpoint_ns': 'SuperBot:09977586-9d7a-bd70-552c-21dcc9564447', 'ls_provider': 'groq', 'ls_model_name': 'llama3-8b-8192', 'ls_model_type': 'chat', 'ls_temperature': 0.7}, 'parent_ids': ['b732efc4-b5f1-43bc-8c62-dee9f5cd1fd6', '9843c99a-568c-40cc-b37d-04eed1f7f8b0']}\n",
      "{'event': 'on_chat_model_stream', 'data': {'chunk': AIMessageChunk(content='?', additional_kwargs={}, response_metadata={}, id='run--e4ffc834-6a78-4876-a572-f1afe44ed349')}, 'run_id': 'e4ffc834-6a78-4876-a572-f1afe44ed349', 'name': 'ChatGroq', 'tags': ['seq:step:1'], 'metadata': {'thread_id': '5', 'langgraph_step': 1, 'langgraph_node': 'SuperBot', 'langgraph_triggers': ('branch:to:SuperBot',), 'langgraph_path': ('__pregel_pull', 'SuperBot'), 'langgraph_checkpoint_ns': 'SuperBot:09977586-9d7a-bd70-552c-21dcc9564447', 'checkpoint_ns': 'SuperBot:09977586-9d7a-bd70-552c-21dcc9564447', 'ls_provider': 'groq', 'ls_model_name': 'llama3-8b-8192', 'ls_model_type': 'chat', 'ls_temperature': 0.7}, 'parent_ids': ['b732efc4-b5f1-43bc-8c62-dee9f5cd1fd6', '9843c99a-568c-40cc-b37d-04eed1f7f8b0']}\n",
      "{'event': 'on_chat_model_stream', 'data': {'chunk': AIMessageChunk(content=' Do', additional_kwargs={}, response_metadata={}, id='run--e4ffc834-6a78-4876-a572-f1afe44ed349')}, 'run_id': 'e4ffc834-6a78-4876-a572-f1afe44ed349', 'name': 'ChatGroq', 'tags': ['seq:step:1'], 'metadata': {'thread_id': '5', 'langgraph_step': 1, 'langgraph_node': 'SuperBot', 'langgraph_triggers': ('branch:to:SuperBot',), 'langgraph_path': ('__pregel_pull', 'SuperBot'), 'langgraph_checkpoint_ns': 'SuperBot:09977586-9d7a-bd70-552c-21dcc9564447', 'checkpoint_ns': 'SuperBot:09977586-9d7a-bd70-552c-21dcc9564447', 'ls_provider': 'groq', 'ls_model_name': 'llama3-8b-8192', 'ls_model_type': 'chat', 'ls_temperature': 0.7}, 'parent_ids': ['b732efc4-b5f1-43bc-8c62-dee9f5cd1fd6', '9843c99a-568c-40cc-b37d-04eed1f7f8b0']}\n",
      "{'event': 'on_chat_model_stream', 'data': {'chunk': AIMessageChunk(content=' you', additional_kwargs={}, response_metadata={}, id='run--e4ffc834-6a78-4876-a572-f1afe44ed349')}, 'run_id': 'e4ffc834-6a78-4876-a572-f1afe44ed349', 'name': 'ChatGroq', 'tags': ['seq:step:1'], 'metadata': {'thread_id': '5', 'langgraph_step': 1, 'langgraph_node': 'SuperBot', 'langgraph_triggers': ('branch:to:SuperBot',), 'langgraph_path': ('__pregel_pull', 'SuperBot'), 'langgraph_checkpoint_ns': 'SuperBot:09977586-9d7a-bd70-552c-21dcc9564447', 'checkpoint_ns': 'SuperBot:09977586-9d7a-bd70-552c-21dcc9564447', 'ls_provider': 'groq', 'ls_model_name': 'llama3-8b-8192', 'ls_model_type': 'chat', 'ls_temperature': 0.7}, 'parent_ids': ['b732efc4-b5f1-43bc-8c62-dee9f5cd1fd6', '9843c99a-568c-40cc-b37d-04eed1f7f8b0']}\n",
      "{'event': 'on_chat_model_stream', 'data': {'chunk': AIMessageChunk(content=' have', additional_kwargs={}, response_metadata={}, id='run--e4ffc834-6a78-4876-a572-f1afe44ed349')}, 'run_id': 'e4ffc834-6a78-4876-a572-f1afe44ed349', 'name': 'ChatGroq', 'tags': ['seq:step:1'], 'metadata': {'thread_id': '5', 'langgraph_step': 1, 'langgraph_node': 'SuperBot', 'langgraph_triggers': ('branch:to:SuperBot',), 'langgraph_path': ('__pregel_pull', 'SuperBot'), 'langgraph_checkpoint_ns': 'SuperBot:09977586-9d7a-bd70-552c-21dcc9564447', 'checkpoint_ns': 'SuperBot:09977586-9d7a-bd70-552c-21dcc9564447', 'ls_provider': 'groq', 'ls_model_name': 'llama3-8b-8192', 'ls_model_type': 'chat', 'ls_temperature': 0.7}, 'parent_ids': ['b732efc4-b5f1-43bc-8c62-dee9f5cd1fd6', '9843c99a-568c-40cc-b37d-04eed1f7f8b0']}\n",
      "{'event': 'on_chat_model_stream', 'data': {'chunk': AIMessageChunk(content=' a', additional_kwargs={}, response_metadata={}, id='run--e4ffc834-6a78-4876-a572-f1afe44ed349')}, 'run_id': 'e4ffc834-6a78-4876-a572-f1afe44ed349', 'name': 'ChatGroq', 'tags': ['seq:step:1'], 'metadata': {'thread_id': '5', 'langgraph_step': 1, 'langgraph_node': 'SuperBot', 'langgraph_triggers': ('branch:to:SuperBot',), 'langgraph_path': ('__pregel_pull', 'SuperBot'), 'langgraph_checkpoint_ns': 'SuperBot:09977586-9d7a-bd70-552c-21dcc9564447', 'checkpoint_ns': 'SuperBot:09977586-9d7a-bd70-552c-21dcc9564447', 'ls_provider': 'groq', 'ls_model_name': 'llama3-8b-8192', 'ls_model_type': 'chat', 'ls_temperature': 0.7}, 'parent_ids': ['b732efc4-b5f1-43bc-8c62-dee9f5cd1fd6', '9843c99a-568c-40cc-b37d-04eed1f7f8b0']}\n",
      "{'event': 'on_chat_model_stream', 'data': {'chunk': AIMessageChunk(content=' favorite', additional_kwargs={}, response_metadata={}, id='run--e4ffc834-6a78-4876-a572-f1afe44ed349')}, 'run_id': 'e4ffc834-6a78-4876-a572-f1afe44ed349', 'name': 'ChatGroq', 'tags': ['seq:step:1'], 'metadata': {'thread_id': '5', 'langgraph_step': 1, 'langgraph_node': 'SuperBot', 'langgraph_triggers': ('branch:to:SuperBot',), 'langgraph_path': ('__pregel_pull', 'SuperBot'), 'langgraph_checkpoint_ns': 'SuperBot:09977586-9d7a-bd70-552c-21dcc9564447', 'checkpoint_ns': 'SuperBot:09977586-9d7a-bd70-552c-21dcc9564447', 'ls_provider': 'groq', 'ls_model_name': 'llama3-8b-8192', 'ls_model_type': 'chat', 'ls_temperature': 0.7}, 'parent_ids': ['b732efc4-b5f1-43bc-8c62-dee9f5cd1fd6', '9843c99a-568c-40cc-b37d-04eed1f7f8b0']}\n",
      "{'event': 'on_chat_model_stream', 'data': {'chunk': AIMessageChunk(content=' team', additional_kwargs={}, response_metadata={}, id='run--e4ffc834-6a78-4876-a572-f1afe44ed349')}, 'run_id': 'e4ffc834-6a78-4876-a572-f1afe44ed349', 'name': 'ChatGroq', 'tags': ['seq:step:1'], 'metadata': {'thread_id': '5', 'langgraph_step': 1, 'langgraph_node': 'SuperBot', 'langgraph_triggers': ('branch:to:SuperBot',), 'langgraph_path': ('__pregel_pull', 'SuperBot'), 'langgraph_checkpoint_ns': 'SuperBot:09977586-9d7a-bd70-552c-21dcc9564447', 'checkpoint_ns': 'SuperBot:09977586-9d7a-bd70-552c-21dcc9564447', 'ls_provider': 'groq', 'ls_model_name': 'llama3-8b-8192', 'ls_model_type': 'chat', 'ls_temperature': 0.7}, 'parent_ids': ['b732efc4-b5f1-43bc-8c62-dee9f5cd1fd6', '9843c99a-568c-40cc-b37d-04eed1f7f8b0']}\n",
      "{'event': 'on_chat_model_stream', 'data': {'chunk': AIMessageChunk(content=' or', additional_kwargs={}, response_metadata={}, id='run--e4ffc834-6a78-4876-a572-f1afe44ed349')}, 'run_id': 'e4ffc834-6a78-4876-a572-f1afe44ed349', 'name': 'ChatGroq', 'tags': ['seq:step:1'], 'metadata': {'thread_id': '5', 'langgraph_step': 1, 'langgraph_node': 'SuperBot', 'langgraph_triggers': ('branch:to:SuperBot',), 'langgraph_path': ('__pregel_pull', 'SuperBot'), 'langgraph_checkpoint_ns': 'SuperBot:09977586-9d7a-bd70-552c-21dcc9564447', 'checkpoint_ns': 'SuperBot:09977586-9d7a-bd70-552c-21dcc9564447', 'ls_provider': 'groq', 'ls_model_name': 'llama3-8b-8192', 'ls_model_type': 'chat', 'ls_temperature': 0.7}, 'parent_ids': ['b732efc4-b5f1-43bc-8c62-dee9f5cd1fd6', '9843c99a-568c-40cc-b37d-04eed1f7f8b0']}\n",
      "{'event': 'on_chat_model_stream', 'data': {'chunk': AIMessageChunk(content=' player', additional_kwargs={}, response_metadata={}, id='run--e4ffc834-6a78-4876-a572-f1afe44ed349')}, 'run_id': 'e4ffc834-6a78-4876-a572-f1afe44ed349', 'name': 'ChatGroq', 'tags': ['seq:step:1'], 'metadata': {'thread_id': '5', 'langgraph_step': 1, 'langgraph_node': 'SuperBot', 'langgraph_triggers': ('branch:to:SuperBot',), 'langgraph_path': ('__pregel_pull', 'SuperBot'), 'langgraph_checkpoint_ns': 'SuperBot:09977586-9d7a-bd70-552c-21dcc9564447', 'checkpoint_ns': 'SuperBot:09977586-9d7a-bd70-552c-21dcc9564447', 'ls_provider': 'groq', 'ls_model_name': 'llama3-8b-8192', 'ls_model_type': 'chat', 'ls_temperature': 0.7}, 'parent_ids': ['b732efc4-b5f1-43bc-8c62-dee9f5cd1fd6', '9843c99a-568c-40cc-b37d-04eed1f7f8b0']}\n",
      "{'event': 'on_chat_model_stream', 'data': {'chunk': AIMessageChunk(content='?', additional_kwargs={}, response_metadata={}, id='run--e4ffc834-6a78-4876-a572-f1afe44ed349')}, 'run_id': 'e4ffc834-6a78-4876-a572-f1afe44ed349', 'name': 'ChatGroq', 'tags': ['seq:step:1'], 'metadata': {'thread_id': '5', 'langgraph_step': 1, 'langgraph_node': 'SuperBot', 'langgraph_triggers': ('branch:to:SuperBot',), 'langgraph_path': ('__pregel_pull', 'SuperBot'), 'langgraph_checkpoint_ns': 'SuperBot:09977586-9d7a-bd70-552c-21dcc9564447', 'checkpoint_ns': 'SuperBot:09977586-9d7a-bd70-552c-21dcc9564447', 'ls_provider': 'groq', 'ls_model_name': 'llama3-8b-8192', 'ls_model_type': 'chat', 'ls_temperature': 0.7}, 'parent_ids': ['b732efc4-b5f1-43bc-8c62-dee9f5cd1fd6', '9843c99a-568c-40cc-b37d-04eed1f7f8b0']}\n",
      "{'event': 'on_chat_model_stream', 'data': {'chunk': AIMessageChunk(content='', additional_kwargs={}, response_metadata={'finish_reason': 'stop', 'model_name': 'llama3-8b-8192', 'system_fingerprint': 'fp_8b7c3a83f7'}, id='run--e4ffc834-6a78-4876-a572-f1afe44ed349', usage_metadata={'input_tokens': 21, 'output_tokens': 43, 'total_tokens': 64})}, 'run_id': 'e4ffc834-6a78-4876-a572-f1afe44ed349', 'name': 'ChatGroq', 'tags': ['seq:step:1'], 'metadata': {'thread_id': '5', 'langgraph_step': 1, 'langgraph_node': 'SuperBot', 'langgraph_triggers': ('branch:to:SuperBot',), 'langgraph_path': ('__pregel_pull', 'SuperBot'), 'langgraph_checkpoint_ns': 'SuperBot:09977586-9d7a-bd70-552c-21dcc9564447', 'checkpoint_ns': 'SuperBot:09977586-9d7a-bd70-552c-21dcc9564447', 'ls_provider': 'groq', 'ls_model_name': 'llama3-8b-8192', 'ls_model_type': 'chat', 'ls_temperature': 0.7}, 'parent_ids': ['b732efc4-b5f1-43bc-8c62-dee9f5cd1fd6', '9843c99a-568c-40cc-b37d-04eed1f7f8b0']}\n",
      "{'event': 'on_chat_model_end', 'data': {'output': AIMessage(content=\"Hi Krish! That's great to hear that you like playing cricket! What's your favorite part about playing cricket? Is it batting, bowling, or fielding? Do you have a favorite team or player?\", additional_kwargs={}, response_metadata={'finish_reason': 'stop', 'model_name': 'llama3-8b-8192', 'system_fingerprint': 'fp_8b7c3a83f7'}, id='run--e4ffc834-6a78-4876-a572-f1afe44ed349', usage_metadata={'input_tokens': 21, 'output_tokens': 43, 'total_tokens': 64}), 'input': {'messages': [[HumanMessage(content='Hi My name is Krish and I like to play cricket', additional_kwargs={}, response_metadata={}, id='6099e853-952f-472a-9de8-98e8400cf736')]]}}, 'run_id': 'e4ffc834-6a78-4876-a572-f1afe44ed349', 'name': 'ChatGroq', 'tags': ['seq:step:1'], 'metadata': {'thread_id': '5', 'langgraph_step': 1, 'langgraph_node': 'SuperBot', 'langgraph_triggers': ('branch:to:SuperBot',), 'langgraph_path': ('__pregel_pull', 'SuperBot'), 'langgraph_checkpoint_ns': 'SuperBot:09977586-9d7a-bd70-552c-21dcc9564447', 'checkpoint_ns': 'SuperBot:09977586-9d7a-bd70-552c-21dcc9564447', 'ls_provider': 'groq', 'ls_model_name': 'llama3-8b-8192', 'ls_model_type': 'chat', 'ls_temperature': 0.7}, 'parent_ids': ['b732efc4-b5f1-43bc-8c62-dee9f5cd1fd6', '9843c99a-568c-40cc-b37d-04eed1f7f8b0']}\n",
      "{'event': 'on_chain_stream', 'run_id': '9843c99a-568c-40cc-b37d-04eed1f7f8b0', 'name': 'SuperBot', 'tags': ['graph:step:1'], 'metadata': {'thread_id': '5', 'langgraph_step': 1, 'langgraph_node': 'SuperBot', 'langgraph_triggers': ('branch:to:SuperBot',), 'langgraph_path': ('__pregel_pull', 'SuperBot'), 'langgraph_checkpoint_ns': 'SuperBot:09977586-9d7a-bd70-552c-21dcc9564447'}, 'data': {'chunk': {'messages': [AIMessage(content=\"Hi Krish! That's great to hear that you like playing cricket! What's your favorite part about playing cricket? Is it batting, bowling, or fielding? Do you have a favorite team or player?\", additional_kwargs={}, response_metadata={'finish_reason': 'stop', 'model_name': 'llama3-8b-8192', 'system_fingerprint': 'fp_8b7c3a83f7'}, id='run--e4ffc834-6a78-4876-a572-f1afe44ed349', usage_metadata={'input_tokens': 21, 'output_tokens': 43, 'total_tokens': 64})]}}, 'parent_ids': ['b732efc4-b5f1-43bc-8c62-dee9f5cd1fd6']}\n",
      "{'event': 'on_chain_end', 'data': {'output': {'messages': [AIMessage(content=\"Hi Krish! That's great to hear that you like playing cricket! What's your favorite part about playing cricket? Is it batting, bowling, or fielding? Do you have a favorite team or player?\", additional_kwargs={}, response_metadata={'finish_reason': 'stop', 'model_name': 'llama3-8b-8192', 'system_fingerprint': 'fp_8b7c3a83f7'}, id='run--e4ffc834-6a78-4876-a572-f1afe44ed349', usage_metadata={'input_tokens': 21, 'output_tokens': 43, 'total_tokens': 64})]}, 'input': {'messages': [HumanMessage(content='Hi My name is Krish and I like to play cricket', additional_kwargs={}, response_metadata={}, id='6099e853-952f-472a-9de8-98e8400cf736')]}}, 'run_id': '9843c99a-568c-40cc-b37d-04eed1f7f8b0', 'name': 'SuperBot', 'tags': ['graph:step:1'], 'metadata': {'thread_id': '5', 'langgraph_step': 1, 'langgraph_node': 'SuperBot', 'langgraph_triggers': ('branch:to:SuperBot',), 'langgraph_path': ('__pregel_pull', 'SuperBot'), 'langgraph_checkpoint_ns': 'SuperBot:09977586-9d7a-bd70-552c-21dcc9564447'}, 'parent_ids': ['b732efc4-b5f1-43bc-8c62-dee9f5cd1fd6']}\n",
      "{'event': 'on_chain_stream', 'run_id': 'b732efc4-b5f1-43bc-8c62-dee9f5cd1fd6', 'name': 'LangGraph', 'tags': [], 'metadata': {'thread_id': '5'}, 'data': {'chunk': {'SuperBot': {'messages': [AIMessage(content=\"Hi Krish! That's great to hear that you like playing cricket! What's your favorite part about playing cricket? Is it batting, bowling, or fielding? Do you have a favorite team or player?\", additional_kwargs={}, response_metadata={'finish_reason': 'stop', 'model_name': 'llama3-8b-8192', 'system_fingerprint': 'fp_8b7c3a83f7'}, id='run--e4ffc834-6a78-4876-a572-f1afe44ed349', usage_metadata={'input_tokens': 21, 'output_tokens': 43, 'total_tokens': 64})]}}}, 'parent_ids': []}\n",
      "{'event': 'on_chain_end', 'data': {'output': {'messages': [HumanMessage(content='Hi My name is Krish and I like to play cricket', additional_kwargs={}, response_metadata={}, id='6099e853-952f-472a-9de8-98e8400cf736'), AIMessage(content=\"Hi Krish! That's great to hear that you like playing cricket! What's your favorite part about playing cricket? Is it batting, bowling, or fielding? Do you have a favorite team or player?\", additional_kwargs={}, response_metadata={'finish_reason': 'stop', 'model_name': 'llama3-8b-8192', 'system_fingerprint': 'fp_8b7c3a83f7'}, id='run--e4ffc834-6a78-4876-a572-f1afe44ed349', usage_metadata={'input_tokens': 21, 'output_tokens': 43, 'total_tokens': 64})]}}, 'run_id': 'b732efc4-b5f1-43bc-8c62-dee9f5cd1fd6', 'name': 'LangGraph', 'tags': [], 'metadata': {'thread_id': '5'}, 'parent_ids': []}\n"
     ]
    }
   ],
   "source": [
    "config = {\"configurable\": {\"thread_id\": \"5\"}}\n",
    "\n",
    "async for event in graph_builder.astream_events({\"messages\": [\"Hi My name is Krish and I like to play cricket\"]}, config, version=\"v2\"):\n",
    "    print(event)"
   ]
  }
 ],
 "metadata": {
  "kernelspec": {
   "display_name": ".venv",
   "language": "python",
   "name": "python3"
  },
  "language_info": {
   "codemirror_mode": {
    "name": "ipython",
    "version": 3
   },
   "file_extension": ".py",
   "mimetype": "text/x-python",
   "name": "python",
   "nbconvert_exporter": "python",
   "pygments_lexer": "ipython3",
   "version": "3.13.2"
  }
 },
 "nbformat": 4,
 "nbformat_minor": 5
}
