{
 "cells": [
  {
   "cell_type": "markdown",
   "id": "ed2b1c75",
   "metadata": {},
   "source": [
    "# Simple Multi AI Agent Architecture"
   ]
  },
  {
   "cell_type": "code",
   "execution_count": 3,
   "id": "1eab5ed3",
   "metadata": {},
   "outputs": [
    {
     "data": {
      "text/plain": [
       "True"
      ]
     },
     "execution_count": 3,
     "metadata": {},
     "output_type": "execute_result"
    }
   ],
   "source": [
    "import os\n",
    "from dotenv import load_dotenv\n",
    "\n",
    "load_dotenv()"
   ]
  },
  {
   "cell_type": "code",
   "execution_count": 4,
   "id": "d9e10805",
   "metadata": {},
   "outputs": [],
   "source": [
    "os.environ[\"GROQ_API_KEY\"]=os.getenv(\"GROQ_API_KEY\")"
   ]
  },
  {
   "cell_type": "code",
   "execution_count": 5,
   "id": "b946dbc4",
   "metadata": {},
   "outputs": [
    {
     "data": {
      "text/plain": [
       "ChatGroq(client=<groq.resources.chat.completions.Completions object at 0x00000193CAD60050>, async_client=<groq.resources.chat.completions.AsyncCompletions object at 0x00000193CAD60D70>, model_name='llama-3.1-8b-instant', model_kwargs={}, groq_api_key=SecretStr('**********'))"
      ]
     },
     "execution_count": 5,
     "metadata": {},
     "output_type": "execute_result"
    }
   ],
   "source": [
    "from langchain.chat_models import init_chat_model\n",
    "\n",
    "llm= init_chat_model(\"groq:llama-3.1-8b-instant\")\n",
    "llm"
   ]
  },
  {
   "cell_type": "code",
   "execution_count": 8,
   "id": "42dbb4c1",
   "metadata": {},
   "outputs": [
    {
     "data": {
      "text/plain": [
       "\"It's nice to meet you. Is there something I can help you with or would you like to chat?\""
      ]
     },
     "execution_count": 8,
     "metadata": {},
     "output_type": "execute_result"
    }
   ],
   "source": [
    "llm.invoke(\"Hi\").content"
   ]
  },
  {
   "cell_type": "code",
   "execution_count": 49,
   "id": "d26c9fcc",
   "metadata": {},
   "outputs": [],
   "source": [
    "from langgraph.graph import MessagesState"
   ]
  },
  {
   "cell_type": "code",
   "execution_count": 51,
   "id": "a5587a71",
   "metadata": {},
   "outputs": [],
   "source": [
    "# Define the state\n",
    "class AgentState(MessagesState):\n",
    "    next_agent: str #Which agent should go next"
   ]
  },
  {
   "cell_type": "code",
   "execution_count": 52,
   "id": "07b4ff50",
   "metadata": {},
   "outputs": [],
   "source": [
    "from langchain_core.tools import tool\n",
    "from langchain_community.tools.tavily_search import TavilySearchResults\n",
    "from langchain_community.tools import DuckDuckGoSearchResults"
   ]
  },
  {
   "cell_type": "code",
   "execution_count": 53,
   "id": "31b53b0c",
   "metadata": {},
   "outputs": [],
   "source": [
    "# Create Simple tool\n",
    "@tool\n",
    "def search_web(query: str) -> str:\n",
    "    \"\"\"Search the web for information.\"\"\"\n",
    "    # Using Tavily for web search\n",
    "\n",
    "    search= TavilySearchResults(max_results=3)\n",
    "    results= search.invoke(query)\n",
    "\n",
    "    return str(results)\n",
    "\n",
    "@tool\n",
    "def write_summary(content: str) -> str:\n",
    "    \"\"\"Write a summary of the provided content.\"\"\"\n",
    "    # Simple summary generation\n",
    "\n",
    "    summary= f\"Summary of findings:\\n\\n{content[:500]}\"\n",
    "\n",
    "    return summary"
   ]
  },
  {
   "cell_type": "code",
   "execution_count": 54,
   "id": "a77c004a",
   "metadata": {},
   "outputs": [],
   "source": [
    "from langchain_core.messages import SystemMessage"
   ]
  },
  {
   "cell_type": "code",
   "execution_count": 55,
   "id": "28171029",
   "metadata": {},
   "outputs": [],
   "source": [
    "# Define agent functions (simpler approach)\n",
    "def researcher_agent(state: AgentState):\n",
    "    \"\"\"Researcher agent that searches for information\"\"\"\n",
    "\n",
    "    messages= state[\"messages\"]\n",
    "\n",
    "     # Add system message for context\n",
    "    system_msg= SystemMessage(content=\"You are a research assistant. Use the search_web tool to find information about the user's request.\")\n",
    "\n",
    "    # Call LLM with tools\n",
    "    tools= [search_web]\n",
    "    researcher_llm= llm.bind_tools(tools)\n",
    "    response= researcher_llm.invoke([system_msg] + messages)\n",
    "\n",
    "    # Return the response and route to writer\n",
    "    return{\n",
    "        \"messages\": [response],\n",
    "        \"next_agent\": \"writer\"\n",
    "    }"
   ]
  },
  {
   "cell_type": "code",
   "execution_count": 56,
   "id": "608fffdd",
   "metadata": {},
   "outputs": [],
   "source": [
    "def writer_agent(state: AgentState):\n",
    "    \"\"\"Writer agent that creates summaries\"\"\"\n",
    "\n",
    "    messages= state[\"messages\"]\n",
    "\n",
    "    # Add system message\n",
    "    system_msg= SystemMessage(content=\"You are a technical writer. Review the conversation and create a clear, concise summary of the findings.\")\n",
    "\n",
    "     # Simple completion without tools\n",
    "    response= llm.invoke([system_msg] + messages)\n",
    "\n",
    "\n",
    "    return {\n",
    "        \"messages\": [response], \n",
    "        \"next_agent\": \"end\"\n",
    "    }"
   ]
  },
  {
   "cell_type": "code",
   "execution_count": 57,
   "id": "5078b421",
   "metadata": {},
   "outputs": [],
   "source": [
    "from langgraph.prebuilt import ToolNode"
   ]
  },
  {
   "cell_type": "code",
   "execution_count": null,
   "id": "7d9ea548",
   "metadata": {},
   "outputs": [],
   "source": [
    "# # Tool executor node\n",
    "# def execute_tools(state: AgentState):\n",
    "#     \"\"\"Execute any pending tool calls\"\"\"\n",
    "#     messages = state[\"messages\"]\n",
    "#     last_message = messages[-1]\n",
    "    \n",
    "#     # Check if there are tool calls to execute\n",
    "#     if hasattr(last_message, \"tool_calls\") and last_message.tool_calls:\n",
    "#         # Create tool node and execute\n",
    "#         tool_node = ToolNode([search_web, write_summary])\n",
    "#         response = tool_node.invoke(state)\n",
    "#         return response\n",
    "    \n",
    "#     # No tools to execute\n",
    "#     return state"
   ]
  },
  {
   "cell_type": "code",
   "execution_count": 59,
   "id": "d1f0f229",
   "metadata": {},
   "outputs": [],
   "source": [
    "from langgraph.graph import MessagesState, StateGraph, START, END\n",
    "\n",
    "# Build Graph\n",
    "workflow= StateGraph(MessagesState)\n",
    "\n",
    "# Add Nodes\n",
    "workflow.add_node(\"researcher\", researcher_agent)\n",
    "workflow.add_node(\"writer\", writer_agent)\n",
    "\n",
    "# Define flow\n",
    "workflow.add_edge(START, \"researcher\")\n",
    "workflow.add_edge(\"researcher\", \"writer\")\n",
    "workflow.add_edge(\"writer\", END)\n",
    "\n",
    "final_workflow= workflow.compile()\n",
    "\n",
    "# final_workflow"
   ]
  },
  {
   "cell_type": "code",
   "execution_count": 17,
   "id": "c2fdd8b1",
   "metadata": {},
   "outputs": [
    {
     "data": {
      "image/png": "[encoded data removed]",
      "text/plain": [
       "<IPython.core.display.Image object>"
      ]
     },
     "metadata": {},
     "output_type": "display_data"
    }
   ],
   "source": [
    "# Visualize the Graph\n",
    "\n",
    "from IPython.display import Image, display\n",
    "\n",
    "display(Image(final_workflow.get_graph(xray=True).draw_mermaid_png()))"
   ]
  },
  {
   "cell_type": "code",
   "execution_count": 60,
   "id": "b11cb1b1",
   "metadata": {},
   "outputs": [
    {
     "data": {
      "text/plain": [
       "{'messages': [HumanMessage(content='Reasearch about the usecase of agentic ai in business', additional_kwargs={}, response_metadata={}, id='f5a519c7-fb3f-4756-96c8-853f71b8d203'),\n",
       "  AIMessage(content='', additional_kwargs={'tool_calls': [{'id': 'k2ezgmakf', 'function': {'arguments': '{\"query\":\"agentic AI use cases in business\"}', 'name': 'search_web'}, 'type': 'function'}]}, response_metadata={'token_usage': {'completion_tokens': 20, 'prompt_tokens': 243, 'total_tokens': 263, 'completion_time': 0.037352569, 'prompt_time': 0.017603342, 'queue_time': 0.053006903, 'total_time': 0.054955911}, 'model_name': 'llama-3.1-8b-instant', 'system_fingerprint': 'fp_8ab2e50475', 'finish_reason': 'tool_calls', 'logprobs': None}, id='run--f530bb95-c3b4-4652-bb1e-2e9f05078c42-0', tool_calls=[{'name': 'search_web', 'args': {'query': 'agentic AI use cases in business'}, 'id': 'k2ezgmakf', 'type': 'tool_call'}], usage_metadata={'input_tokens': 243, 'output_tokens': 20, 'total_tokens': 263}),\n",
       "  AIMessage(content=\" \\n\\nAfter researching the topic, I've compiled a summary of the findings.\\n\\n**Agentic AI Use Cases in Business**\\n\\nAgentic AI refers to artificial intelligence (AI) systems that exhibit autonomous decision-making capabilities, enabling them to interact with their environment and adapt to changing circumstances. In business, agentic AI can be used in various applications to drive growth, improve efficiency, and enhance customer experiences. Here are some key use cases:\\n\\n1. **Automated Customer Service**: Agentic AI can be used to create chatbots and virtual assistants that interact with customers, providing 24/7 support and resolving issues autonomously.\\n2. **Predictive Maintenance**: Agentic AI can analyze sensor data from equipment and machinery to predict when maintenance is required, reducing downtime and increasing overall efficiency.\\n3. **Supply Chain Optimization**: Agentic AI can analyze demand patterns, inventory levels, and logistics data to optimize supply chain operations, reducing costs and improving delivery times.\\n4. **Personalized Marketing**: Agentic AI can analyze customer data and behavior to create personalized marketing campaigns, increasing engagement and conversion rates.\\n5. **Automated Data Analysis**: Agentic AI can analyze large datasets to identify trends, patterns, and correlations, providing insights that inform business decisions.\\n6. **Cybersecurity**: Agentic AI can detect and respond to cyber threats in real-time, reducing the risk of data breaches and other security incidents.\\n7. **Sales Forecasting**: Agentic AI can analyze sales data and market trends to predict future sales, enabling businesses to make informed decisions about inventory, production, and resource allocation.\\n8. **HR Automation**: Agentic AI can automate HR tasks such as recruitment, onboarding, and benefits administration, improving efficiency and reducing costs.\\n9. **Financial Analysis**: Agentic AI can analyze financial data to identify trends, predict future performance, and provide recommendations for investment and funding.\\n10. **Operations Optimization**: Agentic AI can analyze operations data to identify areas for improvement, optimize workflows, and reduce waste.\\n\\n**Benefits of Agentic AI in Business**\\n\\n1. **Increased Efficiency**: Agentic AI can automate repetitive tasks, freeing up human resources for more strategic and creative work.\\n2. **Improved Accuracy**: Agentic AI can reduce errors and improve accuracy by analyzing large datasets and identifying trends and patterns.\\n3. **Enhanced Customer Experience**: Agentic AI can provide personalized support and recommendations, improving customer satisfaction and loyalty.\\n4. **Reduced Costs**: Agentic AI can optimize operations, reduce waste, and improve supply chain efficiency, leading to cost savings.\\n5. **Increased Agility**: Agentic AI can quickly adapt to changing market conditions and customer needs, enabling businesses to respond quickly to opportunities and challenges.\\n\\n**Challenges and Limitations**\\n\\n1. **Data Quality**: Agentic AI requires high-quality data to function effectively, which can be a challenge for businesses with limited data resources.\\n2. **Explainability**: Agentic AI decisions can be difficult to explain and interpret, which can be a challenge for businesses that need to justify their decisions.\\n3. **Bias**: Agentic AI can perpetuate biases and prejudices present in the data, which can lead to unfair outcomes and decisions.\\n4. **Security**: Agentic AI requires secure data storage and transmission, which can be a challenge for businesses with limited cybersecurity resources.\\n\\nOverall, agentic AI has the potential to drive significant benefits for businesses, including increased efficiency, improved accuracy, enhanced customer experience, reduced costs, and increased agility. However, businesses must be aware of the challenges and limitations associated with agentic AI, including data quality, explainability, bias, and security.\", additional_kwargs={}, response_metadata={'token_usage': {'completion_tokens': 731, 'prompt_tokens': 87, 'total_tokens': 818, 'completion_time': 1.295965892, 'prompt_time': 0.005092789, 'queue_time': 0.048053181, 'total_time': 1.301058681}, 'model_name': 'llama-3.1-8b-instant', 'system_fingerprint': 'fp_0f5c9bc037', 'finish_reason': 'stop', 'logprobs': None}, id='run--d968854f-74fd-4852-bb02-61fd5081fb18-0', usage_metadata={'input_tokens': 87, 'output_tokens': 731, 'total_tokens': 818})]}"
      ]
     },
     "execution_count": 60,
     "metadata": {},
     "output_type": "execute_result"
    }
   ],
   "source": [
    "final_workflow.invoke({\"messages\": \"Reasearch about the usecase of agentic ai in business\"})"
   ]
  },
  {
   "cell_type": "code",
   "execution_count": 40,
   "id": "999465ba",
   "metadata": {},
   "outputs": [],
   "source": [
    "response= final_workflow.invoke({\"messages\": \"Reasearch about the usecase of agentic ai in business\"})"
   ]
  },
  {
   "cell_type": "code",
   "execution_count": 61,
   "id": "081b67d3",
   "metadata": {},
   "outputs": [
    {
     "data": {
      "text/plain": [
       "' \\n\\n**Summary of Findings:**\\n\\nAgentic AI refers to artificial intelligence (AI) systems that can take initiative, make decisions, and act on their own in business environments. Research suggests that agentic AI has several potential use cases in business, including:\\n\\n1. **Customer Service Chatbots**: Agentic AI-powered chatbots can provide personalized customer service, proactively address issues, and resolve problems without human intervention.\\n2. **Predictive Maintenance**: Agentic AI systems can analyze sensor data, predict equipment failures, and schedule maintenance, reducing downtime and increasing efficiency.\\n3. **Supply Chain Optimization**: Agentic AI can analyze demand patterns, optimize inventory levels, and adjust supply chain logistics in real-time, reducing costs and improving response times.\\n4. **Financial Analysis**: Agentic AI can analyze financial data, identify trends, and make recommendations for investment and risk management, enabling businesses to make data-driven decisions.\\n5. **Marketing Automation**: Agentic AI-powered marketing automation systems can analyze customer behavior, personalize marketing campaigns, and optimize ad spend in real-time.\\n6. **Cybersecurity**: Agentic AI systems can detect and respond to cyber threats, preventing data breaches and reducing the risk of financial losses.\\n7. **Virtual Assistants**: Agentic AI-powered virtual assistants can schedule meetings, manage calendars, and automate routine tasks, freeing up human workers to focus on high-value tasks.\\n\\n**Benefits of Agentic AI in Business:**\\n\\n1. **Increased Efficiency**: Agentic AI can automate routine tasks, freeing up human workers to focus on high-value tasks.\\n2. **Improved Decision-Making**: Agentic AI can analyze large datasets, identify patterns, and provide recommendations, enabling businesses to make data-driven decisions.\\n3. **Enhanced Customer Experience**: Agentic AI-powered chatbots and virtual assistants can provide personalized customer service, improving customer satisfaction and loyalty.\\n4. **Reduced Costs**: Agentic AI can optimize business processes, reduce waste, and improve supply chain efficiency, leading to cost savings.\\n\\n**Challenges and Limitations:**\\n\\n1. **Data Quality**: Agentic AI requires high-quality data to function effectively, which can be a challenge for businesses with limited data resources.\\n2. **Explainability**: Agentic AI systems can be difficult to explain, making it challenging for businesses to understand the reasoning behind their decisions.\\n3. **Security**: Agentic AI systems can be vulnerable to cyber attacks, compromising business data and operations.\\n4. **Regulatory Compliance**: Agentic AI systems must comply with relevant regulations, such as GDPR and CCPA, which can be complex and time-consuming.\\n\\n**Future Directions:**\\n\\n1. **Hybrid Intelligence**: Agentic AI systems will increasingly combine with human intelligence to create hybrid intelligence, enabling businesses to leverage the strengths of both.\\n2. **Explainable AI**: Researchers will develop techniques to make agentic AI systems more explainable, enabling businesses to understand the reasoning behind their decisions.\\n3. **Edge AI**: Agentic AI systems will be deployed at the edge of networks, enabling real-time decision-making and reducing latency.\\n4. **Accountability**: Businesses will need to develop frameworks for holding agentic AI systems accountable for their actions, ensuring that these systems align with business goals and values.'"
      ]
     },
     "execution_count": 61,
     "metadata": {},
     "output_type": "execute_result"
    }
   ],
   "source": [
    "response[\"messages\"][-1].content"
   ]
  },
  {
   "cell_type": "code",
   "execution_count": 62,
   "id": "726c6258",
   "metadata": {},
   "outputs": [
    {
     "name": "stdout",
     "output_type": "stream",
     "text": [
      " \n",
      "\n",
      "**Summary of Findings:**\n",
      "\n",
      "Agentic AI refers to artificial intelligence (AI) systems that can take initiative, make decisions, and act on their own in business environments. Research suggests that agentic AI has several potential use cases in business, including:\n",
      "\n",
      "1. **Customer Service Chatbots**: Agentic AI-powered chatbots can provide personalized customer service, proactively address issues, and resolve problems without human intervention.\n",
      "2. **Predictive Maintenance**: Agentic AI systems can analyze sensor data, predict equipment failures, and schedule maintenance, reducing downtime and increasing efficiency.\n",
      "3. **Supply Chain Optimization**: Agentic AI can analyze demand patterns, optimize inventory levels, and adjust supply chain logistics in real-time, reducing costs and improving response times.\n",
      "4. **Financial Analysis**: Agentic AI can analyze financial data, identify trends, and make recommendations for investment and risk management, enabling businesses to make data-driven decisions.\n",
      "5. **Marketing Automation**: Agentic AI-powered marketing automation systems can analyze customer behavior, personalize marketing campaigns, and optimize ad spend in real-time.\n",
      "6. **Cybersecurity**: Agentic AI systems can detect and respond to cyber threats, preventing data breaches and reducing the risk of financial losses.\n",
      "7. **Virtual Assistants**: Agentic AI-powered virtual assistants can schedule meetings, manage calendars, and automate routine tasks, freeing up human workers to focus on high-value tasks.\n",
      "\n",
      "**Benefits of Agentic AI in Business:**\n",
      "\n",
      "1. **Increased Efficiency**: Agentic AI can automate routine tasks, freeing up human workers to focus on high-value tasks.\n",
      "2. **Improved Decision-Making**: Agentic AI can analyze large datasets, identify patterns, and provide recommendations, enabling businesses to make data-driven decisions.\n",
      "3. **Enhanced Customer Experience**: Agentic AI-powered chatbots and virtual assistants can provide personalized customer service, improving customer satisfaction and loyalty.\n",
      "4. **Reduced Costs**: Agentic AI can optimize business processes, reduce waste, and improve supply chain efficiency, leading to cost savings.\n",
      "\n",
      "**Challenges and Limitations:**\n",
      "\n",
      "1. **Data Quality**: Agentic AI requires high-quality data to function effectively, which can be a challenge for businesses with limited data resources.\n",
      "2. **Explainability**: Agentic AI systems can be difficult to explain, making it challenging for businesses to understand the reasoning behind their decisions.\n",
      "3. **Security**: Agentic AI systems can be vulnerable to cyber attacks, compromising business data and operations.\n",
      "4. **Regulatory Compliance**: Agentic AI systems must comply with relevant regulations, such as GDPR and CCPA, which can be complex and time-consuming.\n",
      "\n",
      "**Future Directions:**\n",
      "\n",
      "1. **Hybrid Intelligence**: Agentic AI systems will increasingly combine with human intelligence to create hybrid intelligence, enabling businesses to leverage the strengths of both.\n",
      "2. **Explainable AI**: Researchers will develop techniques to make agentic AI systems more explainable, enabling businesses to understand the reasoning behind their decisions.\n",
      "3. **Edge AI**: Agentic AI systems will be deployed at the edge of networks, enabling real-time decision-making and reducing latency.\n",
      "4. **Accountability**: Businesses will need to develop frameworks for holding agentic AI systems accountable for their actions, ensuring that these systems align with business goals and values.\n"
     ]
    }
   ],
   "source": [
    "print(response[\"messages\"][-1].content)"
   ]
  },
  {
   "cell_type": "code",
   "execution_count": 47,
   "id": "64ac4871",
   "metadata": {},
   "outputs": [
    {
     "data": {
      "text/plain": [
       "' \\n\\n**Summary of Findings:**\\n\\nAgentic AI refers to artificial intelligence (AI) systems that can take initiative, make decisions, and act on their own in business environments. Research suggests that agentic AI has several potential use cases in business, including:\\n\\n1. **Customer Service Chatbots**: Agentic AI-powered chatbots can provide personalized customer service, proactively address issues, and resolve problems without human intervention.\\n2. **Predictive Maintenance**: Agentic AI systems can analyze sensor data, predict equipment failures, and schedule maintenance, reducing downtime and increasing efficiency.\\n3. **Supply Chain Optimization**: Agentic AI can analyze demand patterns, optimize inventory levels, and adjust supply chain logistics in real-time, reducing costs and improving response times.\\n4. **Financial Analysis**: Agentic AI can analyze financial data, identify trends, and make recommendations for investment and risk management, enabling businesses to make data-driven decisions.\\n5. **Marketing Automation**: Agentic AI-powered marketing automation systems can analyze customer behavior, personalize marketing campaigns, and optimize ad spend in real-time.\\n6. **Cybersecurity**: Agentic AI systems can detect and respond to cyber threats, preventing data breaches and reducing the risk of financial losses.\\n7. **Virtual Assistants**: Agentic AI-powered virtual assistants can schedule meetings, manage calendars, and automate routine tasks, freeing up human workers to focus on high-value tasks.\\n\\n**Benefits of Agentic AI in Business:**\\n\\n1. **Increased Efficiency**: Agentic AI can automate routine tasks, freeing up human workers to focus on high-value tasks.\\n2. **Improved Decision-Making**: Agentic AI can analyze large datasets, identify patterns, and provide recommendations, enabling businesses to make data-driven decisions.\\n3. **Enhanced Customer Experience**: Agentic AI-powered chatbots and virtual assistants can provide personalized customer service, improving customer satisfaction and loyalty.\\n4. **Reduced Costs**: Agentic AI can optimize business processes, reduce waste, and improve supply chain efficiency, leading to cost savings.\\n\\n**Challenges and Limitations:**\\n\\n1. **Data Quality**: Agentic AI requires high-quality data to function effectively, which can be a challenge for businesses with limited data resources.\\n2. **Explainability**: Agentic AI systems can be difficult to explain, making it challenging for businesses to understand the reasoning behind their decisions.\\n3. **Security**: Agentic AI systems can be vulnerable to cyber attacks, compromising business data and operations.\\n4. **Regulatory Compliance**: Agentic AI systems must comply with relevant regulations, such as GDPR and CCPA, which can be complex and time-consuming.\\n\\n**Future Directions:**\\n\\n1. **Hybrid Intelligence**: Agentic AI systems will increasingly combine with human intelligence to create hybrid intelligence, enabling businesses to leverage the strengths of both.\\n2. **Explainable AI**: Researchers will develop techniques to make agentic AI systems more explainable, enabling businesses to understand the reasoning behind their decisions.\\n3. **Edge AI**: Agentic AI systems will be deployed at the edge of networks, enabling real-time decision-making and reducing latency.\\n4. **Accountability**: Businesses will need to develop frameworks for holding agentic AI systems accountable for their actions, ensuring that these systems align with business goals and values.'"
      ]
     },
     "execution_count": 47,
     "metadata": {},
     "output_type": "execute_result"
    }
   ],
   "source": [
    "response[\"messages\"][-1].content"
   ]
  },
  {
   "cell_type": "code",
   "execution_count": 48,
   "id": "bdb80fab",
   "metadata": {},
   "outputs": [
    {
     "name": "stdout",
     "output_type": "stream",
     "text": [
      " \n",
      "\n",
      "**Summary of Findings:**\n",
      "\n",
      "Agentic AI refers to artificial intelligence (AI) systems that can take initiative, make decisions, and act on their own in business environments. Research suggests that agentic AI has several potential use cases in business, including:\n",
      "\n",
      "1. **Customer Service Chatbots**: Agentic AI-powered chatbots can provide personalized customer service, proactively address issues, and resolve problems without human intervention.\n",
      "2. **Predictive Maintenance**: Agentic AI systems can analyze sensor data, predict equipment failures, and schedule maintenance, reducing downtime and increasing efficiency.\n",
      "3. **Supply Chain Optimization**: Agentic AI can analyze demand patterns, optimize inventory levels, and adjust supply chain logistics in real-time, reducing costs and improving response times.\n",
      "4. **Financial Analysis**: Agentic AI can analyze financial data, identify trends, and make recommendations for investment and risk management, enabling businesses to make data-driven decisions.\n",
      "5. **Marketing Automation**: Agentic AI-powered marketing automation systems can analyze customer behavior, personalize marketing campaigns, and optimize ad spend in real-time.\n",
      "6. **Cybersecurity**: Agentic AI systems can detect and respond to cyber threats, preventing data breaches and reducing the risk of financial losses.\n",
      "7. **Virtual Assistants**: Agentic AI-powered virtual assistants can schedule meetings, manage calendars, and automate routine tasks, freeing up human workers to focus on high-value tasks.\n",
      "\n",
      "**Benefits of Agentic AI in Business:**\n",
      "\n",
      "1. **Increased Efficiency**: Agentic AI can automate routine tasks, freeing up human workers to focus on high-value tasks.\n",
      "2. **Improved Decision-Making**: Agentic AI can analyze large datasets, identify patterns, and provide recommendations, enabling businesses to make data-driven decisions.\n",
      "3. **Enhanced Customer Experience**: Agentic AI-powered chatbots and virtual assistants can provide personalized customer service, improving customer satisfaction and loyalty.\n",
      "4. **Reduced Costs**: Agentic AI can optimize business processes, reduce waste, and improve supply chain efficiency, leading to cost savings.\n",
      "\n",
      "**Challenges and Limitations:**\n",
      "\n",
      "1. **Data Quality**: Agentic AI requires high-quality data to function effectively, which can be a challenge for businesses with limited data resources.\n",
      "2. **Explainability**: Agentic AI systems can be difficult to explain, making it challenging for businesses to understand the reasoning behind their decisions.\n",
      "3. **Security**: Agentic AI systems can be vulnerable to cyber attacks, compromising business data and operations.\n",
      "4. **Regulatory Compliance**: Agentic AI systems must comply with relevant regulations, such as GDPR and CCPA, which can be complex and time-consuming.\n",
      "\n",
      "**Future Directions:**\n",
      "\n",
      "1. **Hybrid Intelligence**: Agentic AI systems will increasingly combine with human intelligence to create hybrid intelligence, enabling businesses to leverage the strengths of both.\n",
      "2. **Explainable AI**: Researchers will develop techniques to make agentic AI systems more explainable, enabling businesses to understand the reasoning behind their decisions.\n",
      "3. **Edge AI**: Agentic AI systems will be deployed at the edge of networks, enabling real-time decision-making and reducing latency.\n",
      "4. **Accountability**: Businesses will need to develop frameworks for holding agentic AI systems accountable for their actions, ensuring that these systems align with business goals and values.\n"
     ]
    }
   ],
   "source": [
    "print(response[\"messages\"][-1].content)"
   ]
  },
  {
   "cell_type": "markdown",
   "id": "45f38d36",
   "metadata": {},
   "source": [
    "# Supervise Multi AI Agent Architecture"
   ]
  }
 ],
 "metadata": {
  "kernelspec": {
   "display_name": "AgenticAILangGraph",
   "language": "python",
   "name": "python3"
  },
  "language_info": {
   "codemirror_mode": {
    "name": "ipython",
    "version": 3
   },
   "file_extension": ".py",
   "mimetype": "text/x-python",
   "name": "python",
   "nbconvert_exporter": "python",
   "pygments_lexer": "ipython3",
   "version": "3.13.2"
  }
 },
 "nbformat": 4,
 "nbformat_minor": 5
}
